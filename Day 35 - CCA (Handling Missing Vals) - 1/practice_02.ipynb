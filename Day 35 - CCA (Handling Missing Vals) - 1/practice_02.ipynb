{
 "cells": [
  {
   "cell_type": "code",
   "execution_count": 1,
   "id": "9c78d471-c68d-49b3-8575-d5309835f0f0",
   "metadata": {},
   "outputs": [],
   "source": [
    "import numpy as np\n",
    "import pandas as pd\n",
    "import matplotlib.pyplot as plt\n",
    "import seaborn as sns"
   ]
  },
  {
   "cell_type": "code",
   "execution_count": 27,
   "id": "d3fe5e0f-9615-482c-ae37-6afb5436fee9",
   "metadata": {},
   "outputs": [],
   "source": [
    "from sklearn.model_selection import train_test_split\n",
    "from sklearn.compose import ColumnTransformer\n",
    "from sklearn.pipeline import Pipeline\n",
    "from sklearn.preprocessing import OrdinalEncoder"
   ]
  },
  {
   "cell_type": "code",
   "execution_count": 2,
   "id": "1558f731-8497-4c84-982c-1b9128dce43a",
   "metadata": {},
   "outputs": [],
   "source": [
    "df = pd.read_csv('1000_ml_jobs_us.csv')"
   ]
  },
  {
   "cell_type": "code",
   "execution_count": 3,
   "id": "edf51696-e31e-4e7b-98c4-932f575551fe",
   "metadata": {
    "scrolled": true
   },
   "outputs": [
    {
     "data": {
      "text/html": [
       "<div>\n",
       "<style scoped>\n",
       "    .dataframe tbody tr th:only-of-type {\n",
       "        vertical-align: middle;\n",
       "    }\n",
       "\n",
       "    .dataframe tbody tr th {\n",
       "        vertical-align: top;\n",
       "    }\n",
       "\n",
       "    .dataframe thead th {\n",
       "        text-align: right;\n",
       "    }\n",
       "</style>\n",
       "<table border=\"1\" class=\"dataframe\">\n",
       "  <thead>\n",
       "    <tr style=\"text-align: right;\">\n",
       "      <th></th>\n",
       "      <th>Unnamed: 0</th>\n",
       "      <th>job_posted_date</th>\n",
       "      <th>company_address_locality</th>\n",
       "      <th>company_address_region</th>\n",
       "      <th>company_name</th>\n",
       "      <th>company_website</th>\n",
       "      <th>company_description</th>\n",
       "      <th>job_description_text</th>\n",
       "      <th>seniority_level</th>\n",
       "      <th>job_title</th>\n",
       "    </tr>\n",
       "  </thead>\n",
       "  <tbody>\n",
       "    <tr>\n",
       "      <th>0</th>\n",
       "      <td>0</td>\n",
       "      <td>2024-10-31</td>\n",
       "      <td>Indianapolis</td>\n",
       "      <td>Indiana</td>\n",
       "      <td>Upper Hand</td>\n",
       "      <td>https://upperhand.com</td>\n",
       "      <td>Upper Hand is the leading provider of full-sui...</td>\n",
       "      <td>OverviewUpper Hand is embarking on an exciting...</td>\n",
       "      <td>Internship</td>\n",
       "      <td>Internship - Machine Learning Engineer &amp; Data ...</td>\n",
       "    </tr>\n",
       "    <tr>\n",
       "      <th>1</th>\n",
       "      <td>1</td>\n",
       "      <td>2025-03-14</td>\n",
       "      <td>San Francisco</td>\n",
       "      <td>California</td>\n",
       "      <td>Ikigai</td>\n",
       "      <td>https://www.ikigailabs.io</td>\n",
       "      <td>Built upon years of MIT research, Ikigai is a ...</td>\n",
       "      <td>Company DescriptionThe Ikigai platform unlocks...</td>\n",
       "      <td>Mid-Senior level</td>\n",
       "      <td>Machine Learning Engineer</td>\n",
       "    </tr>\n",
       "    <tr>\n",
       "      <th>2</th>\n",
       "      <td>2</td>\n",
       "      <td>2025-04-09</td>\n",
       "      <td>San Jose</td>\n",
       "      <td>CA</td>\n",
       "      <td>Adobe</td>\n",
       "      <td>http://www.adobe.com</td>\n",
       "      <td>Adobe is the global leader in digital media an...</td>\n",
       "      <td>Our CompanyChanging the world through digital ...</td>\n",
       "      <td>Entry level</td>\n",
       "      <td>Machine Learning Engineer</td>\n",
       "    </tr>\n",
       "    <tr>\n",
       "      <th>3</th>\n",
       "      <td>3</td>\n",
       "      <td>2025-03-22</td>\n",
       "      <td>Mountain View</td>\n",
       "      <td>California</td>\n",
       "      <td>Waymo</td>\n",
       "      <td>https://waymo.com/careers/</td>\n",
       "      <td>On the journey to be the world's most trusted ...</td>\n",
       "      <td>Waymo is an autonomous driving technology comp...</td>\n",
       "      <td>Entry level</td>\n",
       "      <td>Machine Learning Engineer, Training</td>\n",
       "    </tr>\n",
       "    <tr>\n",
       "      <th>4</th>\n",
       "      <td>4</td>\n",
       "      <td>2025-03-28</td>\n",
       "      <td>Boston</td>\n",
       "      <td>Massachusetts</td>\n",
       "      <td>HMH</td>\n",
       "      <td>http://www.hmhco.com</td>\n",
       "      <td>We are an adaptive learning company that empow...</td>\n",
       "      <td>Job Title: Machine Learning EngineerLocation: ...</td>\n",
       "      <td>Mid-Senior level</td>\n",
       "      <td>Machine Learning Engineer</td>\n",
       "    </tr>\n",
       "  </tbody>\n",
       "</table>\n",
       "</div>"
      ],
      "text/plain": [
       "   Unnamed: 0 job_posted_date company_address_locality company_address_region  \\\n",
       "0           0      2024-10-31             Indianapolis                Indiana   \n",
       "1           1      2025-03-14            San Francisco             California   \n",
       "2           2      2025-04-09                 San Jose                     CA   \n",
       "3           3      2025-03-22            Mountain View             California   \n",
       "4           4      2025-03-28                   Boston          Massachusetts   \n",
       "\n",
       "  company_name             company_website  \\\n",
       "0   Upper Hand       https://upperhand.com   \n",
       "1       Ikigai   https://www.ikigailabs.io   \n",
       "2        Adobe        http://www.adobe.com   \n",
       "3        Waymo  https://waymo.com/careers/   \n",
       "4          HMH        http://www.hmhco.com   \n",
       "\n",
       "                                 company_description  \\\n",
       "0  Upper Hand is the leading provider of full-sui...   \n",
       "1  Built upon years of MIT research, Ikigai is a ...   \n",
       "2  Adobe is the global leader in digital media an...   \n",
       "3  On the journey to be the world's most trusted ...   \n",
       "4  We are an adaptive learning company that empow...   \n",
       "\n",
       "                                job_description_text   seniority_level  \\\n",
       "0  OverviewUpper Hand is embarking on an exciting...        Internship   \n",
       "1  Company DescriptionThe Ikigai platform unlocks...  Mid-Senior level   \n",
       "2  Our CompanyChanging the world through digital ...       Entry level   \n",
       "3  Waymo is an autonomous driving technology comp...       Entry level   \n",
       "4  Job Title: Machine Learning EngineerLocation: ...  Mid-Senior level   \n",
       "\n",
       "                                           job_title  \n",
       "0  Internship - Machine Learning Engineer & Data ...  \n",
       "1                          Machine Learning Engineer  \n",
       "2                          Machine Learning Engineer  \n",
       "3                Machine Learning Engineer, Training  \n",
       "4                          Machine Learning Engineer  "
      ]
     },
     "execution_count": 3,
     "metadata": {},
     "output_type": "execute_result"
    }
   ],
   "source": [
    "df.head()"
   ]
  },
  {
   "cell_type": "code",
   "execution_count": 17,
   "id": "435b5a4c-5624-4f64-ae6b-f3e20a29a961",
   "metadata": {},
   "outputs": [],
   "source": [
    "df.drop(columns=['Unnamed: 0'],inplace=True)"
   ]
  },
  {
   "cell_type": "code",
   "execution_count": 18,
   "id": "15c4e93e-92c3-4b0e-ad2f-e6e4d8aac30e",
   "metadata": {},
   "outputs": [
    {
     "name": "stdout",
     "output_type": "stream",
     "text": [
      "<class 'pandas.core.frame.DataFrame'>\n",
      "RangeIndex: 997 entries, 0 to 996\n",
      "Data columns (total 9 columns):\n",
      " #   Column                    Non-Null Count  Dtype \n",
      "---  ------                    --------------  ----- \n",
      " 0   job_posted_date           997 non-null    object\n",
      " 1   company_address_locality  950 non-null    object\n",
      " 2   company_address_region    884 non-null    object\n",
      " 3   company_name              997 non-null    object\n",
      " 4   company_website           983 non-null    object\n",
      " 5   company_description       985 non-null    object\n",
      " 6   job_description_text      996 non-null    object\n",
      " 7   seniority_level           988 non-null    object\n",
      " 8   job_title                 997 non-null    object\n",
      "dtypes: object(9)\n",
      "memory usage: 70.2+ KB\n"
     ]
    }
   ],
   "source": [
    "df.info()"
   ]
  },
  {
   "cell_type": "code",
   "execution_count": 19,
   "id": "0aad2004-596e-494b-bd87-e7cbc6797cec",
   "metadata": {},
   "outputs": [
    {
     "data": {
      "text/plain": [
       "job_posted_date              0.000000\n",
       "company_address_locality     4.714142\n",
       "company_address_region      11.334002\n",
       "company_name                 0.000000\n",
       "company_website              1.404213\n",
       "company_description          1.203611\n",
       "job_description_text         0.100301\n",
       "seniority_level              0.902708\n",
       "job_title                    0.000000\n",
       "dtype: float64"
      ]
     },
     "execution_count": 19,
     "metadata": {},
     "output_type": "execute_result"
    }
   ],
   "source": [
    "df.isnull().mean()*100"
   ]
  },
  {
   "cell_type": "code",
   "execution_count": 20,
   "id": "102dad6a-d6d7-48c4-b723-2b7ddb9a1243",
   "metadata": {},
   "outputs": [
    {
     "data": {
      "text/plain": [
       "seniority_level\n",
       "Mid-Senior level    371\n",
       "Entry level         300\n",
       "Not Applicable      209\n",
       "Internship           70\n",
       "Associate            32\n",
       "Director              5\n",
       "Executive             1\n",
       "Name: count, dtype: int64"
      ]
     },
     "execution_count": 20,
     "metadata": {},
     "output_type": "execute_result"
    }
   ],
   "source": [
    "df['seniority_level'].value_counts()"
   ]
  },
  {
   "cell_type": "markdown",
   "id": "76dccdee-06e4-4ccf-979f-4cee0f409ed4",
   "metadata": {},
   "source": [
    "# Checking for the missing vals"
   ]
  },
  {
   "cell_type": "code",
   "execution_count": 31,
   "id": "cc16b269-d6d6-457d-9f4a-16f2b03ccc14",
   "metadata": {},
   "outputs": [
    {
     "data": {
      "text/plain": [
       "['company_address_locality',\n",
       " 'company_website',\n",
       " 'company_description',\n",
       " 'job_description_text',\n",
       " 'seniority_level']"
      ]
     },
     "execution_count": 31,
     "metadata": {},
     "output_type": "execute_result"
    }
   ],
   "source": [
    "cols = [var for var in df if df[var].isnull().mean()*100 > 0 and df[var].isnull().mean()*100 < 5]\n",
    "cols"
   ]
  },
  {
   "cell_type": "code",
   "execution_count": 35,
   "id": "368f3314-b1ed-41c1-bb6f-d9a977487667",
   "metadata": {},
   "outputs": [],
   "source": [
    "missing = df[cols]"
   ]
  },
  {
   "cell_type": "code",
   "execution_count": 37,
   "id": "62198be0-fbbe-4b83-a37a-c4c12d39ad37",
   "metadata": {},
   "outputs": [
    {
     "data": {
      "text/plain": [
       "(997, 5)"
      ]
     },
     "execution_count": 37,
     "metadata": {},
     "output_type": "execute_result"
    }
   ],
   "source": [
    "missing.shape"
   ]
  },
  {
   "cell_type": "code",
   "execution_count": 38,
   "id": "dd99b3eb-438d-4eba-81b3-b8e7cc9d6673",
   "metadata": {},
   "outputs": [
    {
     "data": {
      "text/plain": [
       "(997, 9)"
      ]
     },
     "execution_count": 38,
     "metadata": {},
     "output_type": "execute_result"
    }
   ],
   "source": [
    "df.shape"
   ]
  },
  {
   "cell_type": "code",
   "execution_count": 42,
   "id": "91604c18-3ec6-478d-9393-6e9b78883bd0",
   "metadata": {},
   "outputs": [],
   "source": [
    "missing = missing.dropna()"
   ]
  },
  {
   "cell_type": "code",
   "execution_count": 43,
   "id": "528e4a6e-6025-4517-a368-2d4d7b60e50a",
   "metadata": {},
   "outputs": [
    {
     "data": {
      "text/plain": [
       "(937, 5)"
      ]
     },
     "execution_count": 43,
     "metadata": {},
     "output_type": "execute_result"
    }
   ],
   "source": [
    "missing.shape"
   ]
  },
  {
   "cell_type": "markdown",
   "id": "da78da87-c34e-4569-87e3-00cb2959aca3",
   "metadata": {},
   "source": [
    "### comparing missing vals with original"
   ]
  },
  {
   "cell_type": "code",
   "execution_count": 46,
   "id": "00580b95-44af-4f8e-b566-d9a2eb4e7b1b",
   "metadata": {},
   "outputs": [
    {
     "ename": "TypeError",
     "evalue": "no numeric data to plot",
     "output_type": "error",
     "traceback": [
      "\u001b[31m---------------------------------------------------------------------------\u001b[39m",
      "\u001b[31mTypeError\u001b[39m                                 Traceback (most recent call last)",
      "\u001b[36mCell\u001b[39m\u001b[36m \u001b[39m\u001b[32mIn[46]\u001b[39m\u001b[32m, line 1\u001b[39m\n\u001b[32m----> \u001b[39m\u001b[32m1\u001b[39m \u001b[43mmissing\u001b[49m\u001b[43m[\u001b[49m\u001b[33;43m'\u001b[39;49m\u001b[33;43mcompany_address_locality\u001b[39;49m\u001b[33;43m'\u001b[39;49m\u001b[43m]\u001b[49m\u001b[43m.\u001b[49m\u001b[43mplot\u001b[49m\u001b[43m(\u001b[49m\u001b[43mkind\u001b[49m\u001b[43m=\u001b[49m\u001b[33;43m'\u001b[39;49m\u001b[33;43mhist\u001b[39;49m\u001b[33;43m'\u001b[39;49m\u001b[43m)\u001b[49m\n",
      "\u001b[36mFile \u001b[39m\u001b[32m~\\anaconda3\\envs\\mlc\\Lib\\site-packages\\pandas\\plotting\\_core.py:1030\u001b[39m, in \u001b[36mPlotAccessor.__call__\u001b[39m\u001b[34m(self, *args, **kwargs)\u001b[39m\n\u001b[32m   1027\u001b[39m             label_name = label_kw \u001b[38;5;129;01mor\u001b[39;00m data.columns\n\u001b[32m   1028\u001b[39m             data.columns = label_name\n\u001b[32m-> \u001b[39m\u001b[32m1030\u001b[39m \u001b[38;5;28;01mreturn\u001b[39;00m \u001b[43mplot_backend\u001b[49m\u001b[43m.\u001b[49m\u001b[43mplot\u001b[49m\u001b[43m(\u001b[49m\u001b[43mdata\u001b[49m\u001b[43m,\u001b[49m\u001b[43m \u001b[49m\u001b[43mkind\u001b[49m\u001b[43m=\u001b[49m\u001b[43mkind\u001b[49m\u001b[43m,\u001b[49m\u001b[43m \u001b[49m\u001b[43m*\u001b[49m\u001b[43m*\u001b[49m\u001b[43mkwargs\u001b[49m\u001b[43m)\u001b[49m\n",
      "\u001b[36mFile \u001b[39m\u001b[32m~\\anaconda3\\envs\\mlc\\Lib\\site-packages\\pandas\\plotting\\_matplotlib\\__init__.py:71\u001b[39m, in \u001b[36mplot\u001b[39m\u001b[34m(data, kind, **kwargs)\u001b[39m\n\u001b[32m     69\u001b[39m         kwargs[\u001b[33m\"\u001b[39m\u001b[33max\u001b[39m\u001b[33m\"\u001b[39m] = \u001b[38;5;28mgetattr\u001b[39m(ax, \u001b[33m\"\u001b[39m\u001b[33mleft_ax\u001b[39m\u001b[33m\"\u001b[39m, ax)\n\u001b[32m     70\u001b[39m plot_obj = PLOT_CLASSES[kind](data, **kwargs)\n\u001b[32m---> \u001b[39m\u001b[32m71\u001b[39m \u001b[43mplot_obj\u001b[49m\u001b[43m.\u001b[49m\u001b[43mgenerate\u001b[49m\u001b[43m(\u001b[49m\u001b[43m)\u001b[49m\n\u001b[32m     72\u001b[39m plot_obj.draw()\n\u001b[32m     73\u001b[39m \u001b[38;5;28;01mreturn\u001b[39;00m plot_obj.result\n",
      "\u001b[36mFile \u001b[39m\u001b[32m~\\anaconda3\\envs\\mlc\\Lib\\site-packages\\pandas\\plotting\\_matplotlib\\core.py:499\u001b[39m, in \u001b[36mMPLPlot.generate\u001b[39m\u001b[34m(self)\u001b[39m\n\u001b[32m    497\u001b[39m \u001b[38;5;129m@final\u001b[39m\n\u001b[32m    498\u001b[39m \u001b[38;5;28;01mdef\u001b[39;00m\u001b[38;5;250m \u001b[39m\u001b[34mgenerate\u001b[39m(\u001b[38;5;28mself\u001b[39m) -> \u001b[38;5;28;01mNone\u001b[39;00m:\n\u001b[32m--> \u001b[39m\u001b[32m499\u001b[39m     \u001b[38;5;28;43mself\u001b[39;49m\u001b[43m.\u001b[49m\u001b[43m_compute_plot_data\u001b[49m\u001b[43m(\u001b[49m\u001b[43m)\u001b[49m\n\u001b[32m    500\u001b[39m     fig = \u001b[38;5;28mself\u001b[39m.fig\n\u001b[32m    501\u001b[39m     \u001b[38;5;28mself\u001b[39m._make_plot(fig)\n",
      "\u001b[36mFile \u001b[39m\u001b[32m~\\anaconda3\\envs\\mlc\\Lib\\site-packages\\pandas\\plotting\\_matplotlib\\core.py:698\u001b[39m, in \u001b[36mMPLPlot._compute_plot_data\u001b[39m\u001b[34m(self)\u001b[39m\n\u001b[32m    696\u001b[39m \u001b[38;5;66;03m# no non-numeric frames or series allowed\u001b[39;00m\n\u001b[32m    697\u001b[39m \u001b[38;5;28;01mif\u001b[39;00m is_empty:\n\u001b[32m--> \u001b[39m\u001b[32m698\u001b[39m     \u001b[38;5;28;01mraise\u001b[39;00m \u001b[38;5;167;01mTypeError\u001b[39;00m(\u001b[33m\"\u001b[39m\u001b[33mno numeric data to plot\u001b[39m\u001b[33m\"\u001b[39m)\n\u001b[32m    700\u001b[39m \u001b[38;5;28mself\u001b[39m.data = numeric_data.apply(\u001b[38;5;28mtype\u001b[39m(\u001b[38;5;28mself\u001b[39m)._convert_to_ndarray)\n",
      "\u001b[31mTypeError\u001b[39m: no numeric data to plot"
     ]
    }
   ],
   "source": [
    "missing['company_address_locality'].plot(kind='hist')"
   ]
  },
  {
   "cell_type": "code",
   "execution_count": null,
   "id": "56c14ce9-6b54-4650-8e27-a48c49f3cae1",
   "metadata": {},
   "outputs": [],
   "source": []
  }
 ],
 "metadata": {
  "kernelspec": {
   "display_name": "Python 3 (ipykernel)",
   "language": "python",
   "name": "python3"
  },
  "language_info": {
   "codemirror_mode": {
    "name": "ipython",
    "version": 3
   },
   "file_extension": ".py",
   "mimetype": "text/x-python",
   "name": "python",
   "nbconvert_exporter": "python",
   "pygments_lexer": "ipython3",
   "version": "3.13.2"
  }
 },
 "nbformat": 4,
 "nbformat_minor": 5
}
