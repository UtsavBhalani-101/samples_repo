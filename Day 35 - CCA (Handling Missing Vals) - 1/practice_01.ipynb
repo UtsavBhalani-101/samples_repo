{
 "cells": [
  {
   "cell_type": "code",
   "execution_count": 1,
   "id": "130e3003-68b2-4fcb-9c6f-214a5888c462",
   "metadata": {},
   "outputs": [],
   "source": [
    "import numpy as np\n",
    "import pandas as pd\n",
    "import matplotlib.pyplot as plt\n",
    "import seaborn as sns"
   ]
  },
  {
   "cell_type": "code",
   "execution_count": 6,
   "id": "73e65870-2e42-479c-b190-4d6aff3be4e8",
   "metadata": {},
   "outputs": [
    {
     "name": "stdout",
     "output_type": "stream",
     "text": [
      "Dataset Head:\n",
      "   Age  Gender  Loan_Approved Education_Level        Income  \\\n",
      "0   56  Female              1     High School           NaN   \n",
      "1   69    Male              1     High School           NaN   \n",
      "2   46  Female              1          Master  29793.105657   \n",
      "3   32    Male              1             PhD           NaN   \n",
      "4   60    Male              1     High School  68006.208619   \n",
      "\n",
      "   Self_Reported_Stress_Level  \n",
      "0                         7.0  \n",
      "1                         NaN  \n",
      "2                         NaN  \n",
      "3                         5.0  \n",
      "4                         9.0  \n",
      "\n",
      "Missing Value Counts:\n",
      "Age                             0\n",
      "Gender                          0\n",
      "Loan_Approved                   0\n",
      "Education_Level                 0\n",
      "Income                         98\n",
      "Self_Reported_Stress_Level    126\n",
      "dtype: int64\n",
      "\n",
      "Total rows: 500\n",
      "\n",
      "--- Verification of Missingness Mechanisms (Illustrative) ---\n",
      "\n",
      "MCAR Check (Education_Level):\n",
      "Mean Age where Education is missing: nan\n",
      "Mean Age where Education is NOT missing: 46.266\n",
      "\n",
      "MAR Check (Income):\n",
      "Percentage of missing Income for Age <= 25: 40.0\n",
      "Percentage of missing Income for 25 < Age <= 60: 3.9473684210526314\n",
      "Percentage of missing Income for Age > 60: 46.28099173553719\n"
     ]
    }
   ],
   "source": [
    "import pandas as pd\n",
    "import numpy as np\n",
    "\n",
    "# Set a seed for reproducibility\n",
    "np.random.seed(42)\n",
    "\n",
    "# Number of samples\n",
    "n_samples = 500\n",
    "\n",
    "# --- Generate Complete Features ---\n",
    "data = {\n",
    "    'Age': np.random.randint(18, 75, n_samples),\n",
    "    'Gender': np.random.choice(['Male', 'Female', 'Other'], n_samples, p=[0.48, 0.48, 0.04]),\n",
    "    'Loan_Approved': np.random.choice([0, 1], n_samples, p=[0.4, 0.6]) # Target\n",
    "}\n",
    "df = pd.DataFrame(data)\n",
    "\n",
    "# --- 1. Education_Level (MCAR) ---\n",
    "# Roughly 15% missing values, completely at random\n",
    "education_options = ['High School', 'Bachelor', 'Master', 'PhD', np.nan]\n",
    "# Adjust probabilities to get about 15% NaN\n",
    "# (1-0.15) / 4 for each of the 4 valid options, and 0.15 for NaN\n",
    "prob_edu_mcar = [(1-0.15)/4]*4 + [0.15]\n",
    "df['Education_Level'] = np.random.choice(\n",
    "    ['High School', 'Bachelor', 'Master', 'PhD', np.nan],\n",
    "    n_samples,\n",
    "    p=prob_edu_mcar\n",
    ")\n",
    "\n",
    "# --- 2. Income (MAR - Missing At Random) ---\n",
    "# Missingness depends on 'Age'.\n",
    "# Let's say younger (18-25) and older (60+) people are less likely to report income.\n",
    "# First, generate full income data\n",
    "base_income = np.random.normal(loc=50000, scale=15000, size=n_samples)\n",
    "base_income[base_income < 10000] = 10000 # Floor income\n",
    "df['Income'] = base_income.copy()\n",
    "\n",
    "# Probability of income being missing\n",
    "prob_missing_income = np.zeros(n_samples)\n",
    "# Higher probability for younger people\n",
    "prob_missing_income[(df['Age'] >= 18) & (df['Age'] <= 25)] = 0.35 # 35% chance of missing\n",
    "# Higher probability for older people\n",
    "prob_missing_income[df['Age'] > 60] = 0.45 # 45% chance of missing\n",
    "# Lower probability for middle-aged people\n",
    "prob_missing_income[(df['Age'] > 25) & (df['Age'] <= 60)] = 0.05 # 5% chance of missing\n",
    "\n",
    "# Introduce missing values based on these probabilities\n",
    "missing_income_mask = np.random.rand(n_samples) < prob_missing_income\n",
    "df.loc[missing_income_mask, 'Income'] = np.nan\n",
    "\n",
    "\n",
    "# --- 3. Self_Reported_Stress_Level (MNAR - Missing Not At Random) ---\n",
    "# Missingness depends on the value of stress itself.\n",
    "# People with high stress (e.g., > 7) are less likely to report it.\n",
    "# First, generate the \"true\" stress levels\n",
    "true_stress_levels = np.random.randint(1, 11, n_samples) # Scale 1-10\n",
    "df['Self_Reported_Stress_Level'] = true_stress_levels.astype(float) # Store as float to allow NaNs\n",
    "\n",
    "# Probability of stress level being missing\n",
    "prob_missing_stress = np.zeros(n_samples)\n",
    "# Very high probability of missing if true stress is high\n",
    "prob_missing_stress[true_stress_levels > 7] = 0.70 # 70% chance if stress > 7\n",
    "# Low probability otherwise\n",
    "prob_missing_stress[true_stress_levels <= 7] = 0.05 # 5% chance if stress <= 7\n",
    "\n",
    "# Introduce missing values\n",
    "missing_stress_mask = np.random.rand(n_samples) < prob_missing_stress\n",
    "df.loc[missing_stress_mask, 'Self_Reported_Stress_Level'] = np.nan\n",
    "\n",
    "# --- Display dataset info ---\n",
    "print(\"Dataset Head:\")\n",
    "print(df.head())\n",
    "print(\"\\nMissing Value Counts:\")\n",
    "print(df.isnull().sum())\n",
    "print(f\"\\nTotal rows: {len(df)}\")\n",
    "\n",
    "print(\"\\n--- Verification of Missingness Mechanisms (Illustrative) ---\")\n",
    "\n",
    "# MCAR: Education_Level\n",
    "# Distribution of other variables should be similar for missing/non-missing Education_Level\n",
    "print(\"\\nMCAR Check (Education_Level):\")\n",
    "print(\"Mean Age where Education is missing:\", df[df['Education_Level'].isnull()]['Age'].mean())\n",
    "print(\"Mean Age where Education is NOT missing:\", df[df['Education_Level'].notnull()]['Age'].mean())\n",
    "# These should be relatively close.\n",
    "\n",
    "# MAR: Income\n",
    "# Missingness of Income depends on Age.\n",
    "print(\"\\nMAR Check (Income):\")\n",
    "print(\"Percentage of missing Income for Age <= 25:\",\n",
    "      df[(df['Age'] <= 25)]['Income'].isnull().mean() * 100)\n",
    "print(\"Percentage of missing Income for 25 < Age <= 60:\",\n",
    "      df[(df['Age'] > 25) & (df['Age'] <= 60)]['Income'].isnull().mean() * 100)\n",
    "print(\"Percentage of missing Income for Age > 60:\",\n",
    "      df[df['Age'] > 60]['Income'].isnull().mean() * 100)\n",
    "# These should reflect the probabilities we set (0.35, 0.05, 0.45 approximately)\n"
   ]
  },
  {
   "cell_type": "code",
   "execution_count": 12,
   "id": "0bc86654-d0b0-4fd8-bac0-ce13497f23c7",
   "metadata": {},
   "outputs": [
    {
     "data": {
      "text/html": [
       "<div>\n",
       "<style scoped>\n",
       "    .dataframe tbody tr th:only-of-type {\n",
       "        vertical-align: middle;\n",
       "    }\n",
       "\n",
       "    .dataframe tbody tr th {\n",
       "        vertical-align: top;\n",
       "    }\n",
       "\n",
       "    .dataframe thead th {\n",
       "        text-align: right;\n",
       "    }\n",
       "</style>\n",
       "<table border=\"1\" class=\"dataframe\">\n",
       "  <thead>\n",
       "    <tr style=\"text-align: right;\">\n",
       "      <th></th>\n",
       "      <th>Age</th>\n",
       "      <th>Gender</th>\n",
       "      <th>Loan_Approved</th>\n",
       "      <th>Education_Level</th>\n",
       "      <th>Income</th>\n",
       "      <th>Self_Reported_Stress_Level</th>\n",
       "    </tr>\n",
       "  </thead>\n",
       "  <tbody>\n",
       "    <tr>\n",
       "      <th>0</th>\n",
       "      <td>56</td>\n",
       "      <td>Female</td>\n",
       "      <td>1</td>\n",
       "      <td>High School</td>\n",
       "      <td>NaN</td>\n",
       "      <td>7.0</td>\n",
       "    </tr>\n",
       "    <tr>\n",
       "      <th>1</th>\n",
       "      <td>69</td>\n",
       "      <td>Male</td>\n",
       "      <td>1</td>\n",
       "      <td>High School</td>\n",
       "      <td>NaN</td>\n",
       "      <td>NaN</td>\n",
       "    </tr>\n",
       "    <tr>\n",
       "      <th>2</th>\n",
       "      <td>46</td>\n",
       "      <td>Female</td>\n",
       "      <td>1</td>\n",
       "      <td>Master</td>\n",
       "      <td>29793.105657</td>\n",
       "      <td>NaN</td>\n",
       "    </tr>\n",
       "    <tr>\n",
       "      <th>3</th>\n",
       "      <td>32</td>\n",
       "      <td>Male</td>\n",
       "      <td>1</td>\n",
       "      <td>PhD</td>\n",
       "      <td>NaN</td>\n",
       "      <td>5.0</td>\n",
       "    </tr>\n",
       "    <tr>\n",
       "      <th>4</th>\n",
       "      <td>60</td>\n",
       "      <td>Male</td>\n",
       "      <td>1</td>\n",
       "      <td>High School</td>\n",
       "      <td>68006.208619</td>\n",
       "      <td>9.0</td>\n",
       "    </tr>\n",
       "  </tbody>\n",
       "</table>\n",
       "</div>"
      ],
      "text/plain": [
       "   Age  Gender  Loan_Approved Education_Level        Income  \\\n",
       "0   56  Female              1     High School           NaN   \n",
       "1   69    Male              1     High School           NaN   \n",
       "2   46  Female              1          Master  29793.105657   \n",
       "3   32    Male              1             PhD           NaN   \n",
       "4   60    Male              1     High School  68006.208619   \n",
       "\n",
       "   Self_Reported_Stress_Level  \n",
       "0                         7.0  \n",
       "1                         NaN  \n",
       "2                         NaN  \n",
       "3                         5.0  \n",
       "4                         9.0  "
      ]
     },
     "execution_count": 12,
     "metadata": {},
     "output_type": "execute_result"
    }
   ],
   "source": [
    "df.head(5)"
   ]
  },
  {
   "cell_type": "code",
   "execution_count": 9,
   "id": "ecce5b76-5d0e-4002-bb1e-7b79a9d9adb5",
   "metadata": {},
   "outputs": [
    {
     "name": "stdout",
     "output_type": "stream",
     "text": [
      "<class 'pandas.core.frame.DataFrame'>\n",
      "RangeIndex: 500 entries, 0 to 499\n",
      "Data columns (total 6 columns):\n",
      " #   Column                      Non-Null Count  Dtype  \n",
      "---  ------                      --------------  -----  \n",
      " 0   Age                         500 non-null    int32  \n",
      " 1   Gender                      500 non-null    object \n",
      " 2   Loan_Approved               500 non-null    int64  \n",
      " 3   Education_Level             500 non-null    object \n",
      " 4   Income                      402 non-null    float64\n",
      " 5   Self_Reported_Stress_Level  374 non-null    float64\n",
      "dtypes: float64(2), int32(1), int64(1), object(2)\n",
      "memory usage: 21.6+ KB\n"
     ]
    }
   ],
   "source": [
    "df.info()"
   ]
  },
  {
   "cell_type": "code",
   "execution_count": 13,
   "id": "11a8f00c-6842-431d-a839-b01959bd79d5",
   "metadata": {},
   "outputs": [
    {
     "data": {
      "text/plain": [
       "Age                            0.0\n",
       "Gender                         0.0\n",
       "Loan_Approved                  0.0\n",
       "Education_Level                0.0\n",
       "Income                        19.6\n",
       "Self_Reported_Stress_Level    25.2\n",
       "dtype: float64"
      ]
     },
     "execution_count": 13,
     "metadata": {},
     "output_type": "execute_result"
    }
   ],
   "source": [
    "df.isnull().mean()*100"
   ]
  },
  {
   "cell_type": "code",
   "execution_count": 15,
   "id": "cc63a7da-8ae0-4602-b953-d96508974a50",
   "metadata": {},
   "outputs": [
    {
     "data": {
      "text/plain": [
       "['Income', 'Self_Reported_Stress_Level']"
      ]
     },
     "execution_count": 15,
     "metadata": {},
     "output_type": "execute_result"
    }
   ],
   "source": [
    "cols = [var for var in df if df[var].isnull().mean()*100 > 0]\n",
    "cols"
   ]
  },
  {
   "cell_type": "code",
   "execution_count": 28,
   "id": "32fd34b8-5894-408d-a748-04fb88a0f278",
   "metadata": {},
   "outputs": [
    {
     "data": {
      "text/plain": [
       "(500, 2)"
      ]
     },
     "execution_count": 28,
     "metadata": {},
     "output_type": "execute_result"
    }
   ],
   "source": [
    "missing[cols].shape"
   ]
  },
  {
   "cell_type": "code",
   "execution_count": 29,
   "id": "5cc6d574-273c-4cff-933b-50ef4941a458",
   "metadata": {},
   "outputs": [
    {
     "data": {
      "text/html": [
       "<div>\n",
       "<style scoped>\n",
       "    .dataframe tbody tr th:only-of-type {\n",
       "        vertical-align: middle;\n",
       "    }\n",
       "\n",
       "    .dataframe tbody tr th {\n",
       "        vertical-align: top;\n",
       "    }\n",
       "\n",
       "    .dataframe thead th {\n",
       "        text-align: right;\n",
       "    }\n",
       "</style>\n",
       "<table border=\"1\" class=\"dataframe\">\n",
       "  <thead>\n",
       "    <tr style=\"text-align: right;\">\n",
       "      <th></th>\n",
       "      <th>Income</th>\n",
       "      <th>Self_Reported_Stress_Level</th>\n",
       "    </tr>\n",
       "  </thead>\n",
       "  <tbody>\n",
       "    <tr>\n",
       "      <th>0</th>\n",
       "      <td>NaN</td>\n",
       "      <td>7.0</td>\n",
       "    </tr>\n",
       "    <tr>\n",
       "      <th>1</th>\n",
       "      <td>NaN</td>\n",
       "      <td>NaN</td>\n",
       "    </tr>\n",
       "    <tr>\n",
       "      <th>2</th>\n",
       "      <td>29793.105657</td>\n",
       "      <td>NaN</td>\n",
       "    </tr>\n",
       "    <tr>\n",
       "      <th>3</th>\n",
       "      <td>NaN</td>\n",
       "      <td>5.0</td>\n",
       "    </tr>\n",
       "    <tr>\n",
       "      <th>4</th>\n",
       "      <td>68006.208619</td>\n",
       "      <td>9.0</td>\n",
       "    </tr>\n",
       "  </tbody>\n",
       "</table>\n",
       "</div>"
      ],
      "text/plain": [
       "         Income  Self_Reported_Stress_Level\n",
       "0           NaN                         7.0\n",
       "1           NaN                         NaN\n",
       "2  29793.105657                         NaN\n",
       "3           NaN                         5.0\n",
       "4  68006.208619                         9.0"
      ]
     },
     "execution_count": 29,
     "metadata": {},
     "output_type": "execute_result"
    }
   ],
   "source": [
    "missing.head()"
   ]
  },
  {
   "cell_type": "code",
   "execution_count": 30,
   "id": "9f02453b-e666-4e4f-86d6-69e4f52afd84",
   "metadata": {},
   "outputs": [],
   "source": [
    "missing.dropna(inplace=True)"
   ]
  },
  {
   "cell_type": "code",
   "execution_count": 33,
   "id": "d5179079-55e2-4e27-9472-1261d5e000de",
   "metadata": {},
   "outputs": [
    {
     "data": {
      "text/plain": [
       "(302, 2)"
      ]
     },
     "execution_count": 33,
     "metadata": {},
     "output_type": "execute_result"
    }
   ],
   "source": [
    "missing.shape"
   ]
  },
  {
   "cell_type": "code",
   "execution_count": 34,
   "id": "3218b192-84ee-4a1c-929d-c89b6d10326a",
   "metadata": {},
   "outputs": [
    {
     "data": {
      "text/plain": [
       "<Axes: ylabel='Frequency'>"
      ]
     },
     "execution_count": 34,
     "metadata": {},
     "output_type": "execute_result"
    },
    {
     "data": {
      "image/png": "[encoded data removed]",
      "text/plain": [
       "<Figure size 640x480 with 1 Axes>"
      ]
     },
     "metadata": {},
     "output_type": "display_data"
    }
   ],
   "source": [
    "missing['Income'].plot(kind='hist', bins=50, density=True, color='red')\n",
    "df['Income'].plot(kind='hist', bins=50, density=True, color='cyan', alpha=0.8)"
   ]
  },
  {
   "cell_type": "code",
   "execution_count": 39,
   "id": "90ad9fb0-ff8e-4384-ab83-708234cb9a72",
   "metadata": {},
   "outputs": [
    {
     "data": {
      "text/plain": [
       "<Axes: ylabel='Frequency'>"
      ]
     },
     "execution_count": 39,
     "metadata": {},
     "output_type": "execute_result"
    },
    {
     "data": {
      "image/png": "[encoded data removed]",
      "text/plain": [
       "<Figure size 640x480 with 1 Axes>"
      ]
     },
     "metadata": {},
     "output_type": "display_data"
    }
   ],
   "source": [
    "missing['Self_Reported_Stress_Level'].plot(kind='hist', bins=10, density=True, color='red')\n",
    "df['Self_Reported_Stress_Level'].plot(kind='hist', bins=10, density=True, color='cyan', alpha=0.8)"
   ]
  },
  {
   "cell_type": "code",
   "execution_count": 36,
   "id": "43bebb21-bc16-41a2-b33e-b95542f1e52f",
   "metadata": {},
   "outputs": [
    {
     "data": {
      "text/plain": [
       "Self_Reported_Stress_Level\n",
       "1.0     64\n",
       "6.0     56\n",
       "3.0     52\n",
       "7.0     44\n",
       "2.0     42\n",
       "4.0     42\n",
       "5.0     40\n",
       "10.0    15\n",
       "9.0     12\n",
       "8.0      7\n",
       "Name: count, dtype: int64"
      ]
     },
     "execution_count": 36,
     "metadata": {},
     "output_type": "execute_result"
    }
   ],
   "source": [
    "df['Self_Reported_Stress_Level'].value_counts()"
   ]
  },
  {
   "cell_type": "code",
   "execution_count": 40,
   "id": "d46a7ec4-a196-41ba-9475-97885c3ef8c3",
   "metadata": {},
   "outputs": [
    {
     "data": {
      "text/html": [
       "<div>\n",
       "<style scoped>\n",
       "    .dataframe tbody tr th:only-of-type {\n",
       "        vertical-align: middle;\n",
       "    }\n",
       "\n",
       "    .dataframe tbody tr th {\n",
       "        vertical-align: top;\n",
       "    }\n",
       "\n",
       "    .dataframe thead th {\n",
       "        text-align: right;\n",
       "    }\n",
       "</style>\n",
       "<table border=\"1\" class=\"dataframe\">\n",
       "  <thead>\n",
       "    <tr style=\"text-align: right;\">\n",
       "      <th></th>\n",
       "      <th>Self_Reported_Stress_Level</th>\n",
       "      <th>Self_Reported_Stress_Level</th>\n",
       "    </tr>\n",
       "  </thead>\n",
       "  <tbody>\n",
       "    <tr>\n",
       "      <th>count</th>\n",
       "      <td>302.000000</td>\n",
       "      <td>374.000000</td>\n",
       "    </tr>\n",
       "    <tr>\n",
       "      <th>mean</th>\n",
       "      <td>4.347682</td>\n",
       "      <td>4.358289</td>\n",
       "    </tr>\n",
       "    <tr>\n",
       "      <th>std</th>\n",
       "      <td>2.548202</td>\n",
       "      <td>2.515363</td>\n",
       "    </tr>\n",
       "    <tr>\n",
       "      <th>min</th>\n",
       "      <td>1.000000</td>\n",
       "      <td>1.000000</td>\n",
       "    </tr>\n",
       "    <tr>\n",
       "      <th>25%</th>\n",
       "      <td>2.000000</td>\n",
       "      <td>2.000000</td>\n",
       "    </tr>\n",
       "    <tr>\n",
       "      <th>50%</th>\n",
       "      <td>4.000000</td>\n",
       "      <td>4.000000</td>\n",
       "    </tr>\n",
       "    <tr>\n",
       "      <th>75%</th>\n",
       "      <td>6.000000</td>\n",
       "      <td>6.000000</td>\n",
       "    </tr>\n",
       "    <tr>\n",
       "      <th>max</th>\n",
       "      <td>10.000000</td>\n",
       "      <td>10.000000</td>\n",
       "    </tr>\n",
       "  </tbody>\n",
       "</table>\n",
       "</div>"
      ],
      "text/plain": [
       "       Self_Reported_Stress_Level  Self_Reported_Stress_Level\n",
       "count                  302.000000                  374.000000\n",
       "mean                     4.347682                    4.358289\n",
       "std                      2.548202                    2.515363\n",
       "min                      1.000000                    1.000000\n",
       "25%                      2.000000                    2.000000\n",
       "50%                      4.000000                    4.000000\n",
       "75%                      6.000000                    6.000000\n",
       "max                     10.000000                   10.000000"
      ]
     },
     "execution_count": 40,
     "metadata": {},
     "output_type": "execute_result"
    }
   ],
   "source": [
    "temp = pd.concat([\n",
    "    missing['Self_Reported_Stress_Level'].describe(),\n",
    "    df['Self_Reported_Stress_Level'].describe()\n",
    "], axis=1)\n",
    "temp"
   ]
  },
  {
   "cell_type": "markdown",
   "id": "737bf4e9-59c0-472d-8b0a-d4e2a9656e8d",
   "metadata": {},
   "source": [
    "### conclusion - the missing data is MCAR but a lot of data is missing to use CCA"
   ]
  },
  {
   "cell_type": "code",
   "execution_count": null,
   "id": "3983d1dd-629c-44ba-9c09-a495fc46938b",
   "metadata": {},
   "outputs": [],
   "source": []
  }
 ],
 "metadata": {
  "kernelspec": {
   "display_name": "Python 3 (ipykernel)",
   "language": "python",
   "name": "python3"
  },
  "language_info": {
   "codemirror_mode": {
    "name": "ipython",
    "version": 3
   },
   "file_extension": ".py",
   "mimetype": "text/x-python",
   "name": "python",
   "nbconvert_exporter": "python",
   "pygments_lexer": "ipython3",
   "version": "3.13.2"
  }
 },
 "nbformat": 4,
 "nbformat_minor": 5
}
