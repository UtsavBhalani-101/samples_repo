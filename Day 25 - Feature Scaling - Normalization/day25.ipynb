{
 "cells": [
  {
   "cell_type": "code",
   "execution_count": 22,
   "id": "3823ae81-117e-4844-808c-ac94ed680b8b",
   "metadata": {},
   "outputs": [],
   "source": [
    "import numpy as np\n",
    "import pandas as pd\n",
    "import matplotlib.pyplot as plt\n",
    "import seaborn as sns\n",
    "import sklearn"
   ]
  },
  {
   "cell_type": "code",
   "execution_count": 23,
   "id": "026a7d40-504e-416b-8a0f-94e7b607383c",
   "metadata": {},
   "outputs": [],
   "source": [
    "df = pd.read_csv('wine_data.csv', header=None, usecols=[0,1,2,3])"
   ]
  },
  {
   "cell_type": "code",
   "execution_count": 24,
   "id": "4bc3b5f8-30ee-493d-8234-39dd4966f777",
   "metadata": {},
   "outputs": [],
   "source": [
    "df.columns = ['Class', 'Alcohol', 'Malic Acid', 'Ash']"
   ]
  },
  {
   "cell_type": "code",
   "execution_count": 25,
   "id": "64aec559-b54f-4e77-90a5-7fe86d2e32bd",
   "metadata": {},
   "outputs": [
    {
     "data": {
      "text/html": [
       "<div>\n",
       "<style scoped>\n",
       "    .dataframe tbody tr th:only-of-type {\n",
       "        vertical-align: middle;\n",
       "    }\n",
       "\n",
       "    .dataframe tbody tr th {\n",
       "        vertical-align: top;\n",
       "    }\n",
       "\n",
       "    .dataframe thead th {\n",
       "        text-align: right;\n",
       "    }\n",
       "</style>\n",
       "<table border=\"1\" class=\"dataframe\">\n",
       "  <thead>\n",
       "    <tr style=\"text-align: right;\">\n",
       "      <th></th>\n",
       "      <th>Class</th>\n",
       "      <th>Alcohol</th>\n",
       "      <th>Malic Acid</th>\n",
       "      <th>Ash</th>\n",
       "    </tr>\n",
       "  </thead>\n",
       "  <tbody>\n",
       "    <tr>\n",
       "      <th>0</th>\n",
       "      <td>1</td>\n",
       "      <td>14.23</td>\n",
       "      <td>1.71</td>\n",
       "      <td>2.43</td>\n",
       "    </tr>\n",
       "    <tr>\n",
       "      <th>1</th>\n",
       "      <td>1</td>\n",
       "      <td>13.20</td>\n",
       "      <td>1.78</td>\n",
       "      <td>2.14</td>\n",
       "    </tr>\n",
       "    <tr>\n",
       "      <th>2</th>\n",
       "      <td>1</td>\n",
       "      <td>13.16</td>\n",
       "      <td>2.36</td>\n",
       "      <td>2.67</td>\n",
       "    </tr>\n",
       "    <tr>\n",
       "      <th>3</th>\n",
       "      <td>1</td>\n",
       "      <td>14.37</td>\n",
       "      <td>1.95</td>\n",
       "      <td>2.50</td>\n",
       "    </tr>\n",
       "    <tr>\n",
       "      <th>4</th>\n",
       "      <td>1</td>\n",
       "      <td>13.24</td>\n",
       "      <td>2.59</td>\n",
       "      <td>2.87</td>\n",
       "    </tr>\n",
       "    <tr>\n",
       "      <th>...</th>\n",
       "      <td>...</td>\n",
       "      <td>...</td>\n",
       "      <td>...</td>\n",
       "      <td>...</td>\n",
       "    </tr>\n",
       "    <tr>\n",
       "      <th>173</th>\n",
       "      <td>3</td>\n",
       "      <td>13.71</td>\n",
       "      <td>5.65</td>\n",
       "      <td>2.45</td>\n",
       "    </tr>\n",
       "    <tr>\n",
       "      <th>174</th>\n",
       "      <td>3</td>\n",
       "      <td>13.40</td>\n",
       "      <td>3.91</td>\n",
       "      <td>2.48</td>\n",
       "    </tr>\n",
       "    <tr>\n",
       "      <th>175</th>\n",
       "      <td>3</td>\n",
       "      <td>13.27</td>\n",
       "      <td>4.28</td>\n",
       "      <td>2.26</td>\n",
       "    </tr>\n",
       "    <tr>\n",
       "      <th>176</th>\n",
       "      <td>3</td>\n",
       "      <td>13.17</td>\n",
       "      <td>2.59</td>\n",
       "      <td>2.37</td>\n",
       "    </tr>\n",
       "    <tr>\n",
       "      <th>177</th>\n",
       "      <td>3</td>\n",
       "      <td>14.13</td>\n",
       "      <td>4.10</td>\n",
       "      <td>2.74</td>\n",
       "    </tr>\n",
       "  </tbody>\n",
       "</table>\n",
       "<p>178 rows × 4 columns</p>\n",
       "</div>"
      ],
      "text/plain": [
       "     Class  Alcohol  Malic Acid   Ash\n",
       "0        1    14.23        1.71  2.43\n",
       "1        1    13.20        1.78  2.14\n",
       "2        1    13.16        2.36  2.67\n",
       "3        1    14.37        1.95  2.50\n",
       "4        1    13.24        2.59  2.87\n",
       "..     ...      ...         ...   ...\n",
       "173      3    13.71        5.65  2.45\n",
       "174      3    13.40        3.91  2.48\n",
       "175      3    13.27        4.28  2.26\n",
       "176      3    13.17        2.59  2.37\n",
       "177      3    14.13        4.10  2.74\n",
       "\n",
       "[178 rows x 4 columns]"
      ]
     },
     "execution_count": 25,
     "metadata": {},
     "output_type": "execute_result"
    }
   ],
   "source": [
    "df"
   ]
  },
  {
   "cell_type": "code",
   "execution_count": 26,
   "id": "04fc2dd6-6846-496b-b0a9-81b82d6d8769",
   "metadata": {},
   "outputs": [
    {
     "data": {
      "text/plain": [
       "Class\n",
       "2    71\n",
       "1    59\n",
       "3    48\n",
       "Name: count, dtype: int64"
      ]
     },
     "execution_count": 26,
     "metadata": {},
     "output_type": "execute_result"
    }
   ],
   "source": [
    "df['Class'].value_counts()"
   ]
  },
  {
   "cell_type": "code",
   "execution_count": 27,
   "id": "bee47b00-fc7e-47ae-8087-39767f875c06",
   "metadata": {},
   "outputs": [
    {
     "name": "stdout",
     "output_type": "stream",
     "text": [
      "<class 'pandas.core.frame.DataFrame'>\n",
      "RangeIndex: 178 entries, 0 to 177\n",
      "Data columns (total 4 columns):\n",
      " #   Column      Non-Null Count  Dtype  \n",
      "---  ------      --------------  -----  \n",
      " 0   Class       178 non-null    int64  \n",
      " 1   Alcohol     178 non-null    float64\n",
      " 2   Malic Acid  178 non-null    float64\n",
      " 3   Ash         178 non-null    float64\n",
      "dtypes: float64(3), int64(1)\n",
      "memory usage: 5.7 KB\n"
     ]
    }
   ],
   "source": [
    "df.info()"
   ]
  },
  {
   "cell_type": "markdown",
   "id": "d2ba5cce-389b-49ca-8971-fc912e0a7a85",
   "metadata": {},
   "source": [
    "# To TTS we need X and Y -- X for input cols and Y for target that model will predict"
   ]
  },
  {
   "cell_type": "code",
   "execution_count": 40,
   "id": "fe000166-7cb6-4d0f-a1bb-0c14c7caaaa9",
   "metadata": {},
   "outputs": [],
   "source": [
    "from sklearn.model_selection import train_test_split\n",
    "\n",
    "x = df.drop('Class', axis=1)\n",
    "# x = df.drop(df['Class']) # -- error\n",
    "y = df['Class']"
   ]
  },
  {
   "cell_type": "code",
   "execution_count": 41,
   "id": "aaa766dc-4574-4351-9373-ff85f76b68f8",
   "metadata": {},
   "outputs": [],
   "source": [
    "X_train, X_test, Y_train, Y_test = train_test_split(x,y, test_size=0.15, random_state=4) \n",
    "# random state is just a random seed so we get the same split everytime - it can be any number "
   ]
  },
  {
   "cell_type": "code",
   "execution_count": 50,
   "id": "fb29074f-f48e-4cc7-9bc2-6992d7959788",
   "metadata": {},
   "outputs": [
    {
     "data": {
      "text/html": [
       "<div>\n",
       "<style scoped>\n",
       "    .dataframe tbody tr th:only-of-type {\n",
       "        vertical-align: middle;\n",
       "    }\n",
       "\n",
       "    .dataframe tbody tr th {\n",
       "        vertical-align: top;\n",
       "    }\n",
       "\n",
       "    .dataframe thead th {\n",
       "        text-align: right;\n",
       "    }\n",
       "</style>\n",
       "<table border=\"1\" class=\"dataframe\">\n",
       "  <thead>\n",
       "    <tr style=\"text-align: right;\">\n",
       "      <th></th>\n",
       "      <th>Alcohol</th>\n",
       "      <th>Malic Acid</th>\n",
       "      <th>Ash</th>\n",
       "    </tr>\n",
       "  </thead>\n",
       "  <tbody>\n",
       "    <tr>\n",
       "      <th>92</th>\n",
       "      <td>12.69</td>\n",
       "      <td>1.53</td>\n",
       "      <td>2.26</td>\n",
       "    </tr>\n",
       "    <tr>\n",
       "      <th>143</th>\n",
       "      <td>13.62</td>\n",
       "      <td>4.95</td>\n",
       "      <td>2.35</td>\n",
       "    </tr>\n",
       "    <tr>\n",
       "      <th>144</th>\n",
       "      <td>12.25</td>\n",
       "      <td>3.88</td>\n",
       "      <td>2.20</td>\n",
       "    </tr>\n",
       "    <tr>\n",
       "      <th>47</th>\n",
       "      <td>13.90</td>\n",
       "      <td>1.68</td>\n",
       "      <td>2.12</td>\n",
       "    </tr>\n",
       "    <tr>\n",
       "      <th>77</th>\n",
       "      <td>11.84</td>\n",
       "      <td>2.89</td>\n",
       "      <td>2.23</td>\n",
       "    </tr>\n",
       "  </tbody>\n",
       "</table>\n",
       "</div>"
      ],
      "text/plain": [
       "     Alcohol  Malic Acid   Ash\n",
       "92     12.69        1.53  2.26\n",
       "143    13.62        4.95  2.35\n",
       "144    12.25        3.88  2.20\n",
       "47     13.90        1.68  2.12\n",
       "77     11.84        2.89  2.23"
      ]
     },
     "execution_count": 50,
     "metadata": {},
     "output_type": "execute_result"
    }
   ],
   "source": [
    "X_train.head()"
   ]
  },
  {
   "cell_type": "code",
   "execution_count": 51,
   "id": "9170c4f1-f807-487e-89f4-d73867058eb3",
   "metadata": {},
   "outputs": [
    {
     "data": {
      "text/html": [
       "<div>\n",
       "<style scoped>\n",
       "    .dataframe tbody tr th:only-of-type {\n",
       "        vertical-align: middle;\n",
       "    }\n",
       "\n",
       "    .dataframe tbody tr th {\n",
       "        vertical-align: top;\n",
       "    }\n",
       "\n",
       "    .dataframe thead th {\n",
       "        text-align: right;\n",
       "    }\n",
       "</style>\n",
       "<table border=\"1\" class=\"dataframe\">\n",
       "  <thead>\n",
       "    <tr style=\"text-align: right;\">\n",
       "      <th></th>\n",
       "      <th>Alcohol</th>\n",
       "      <th>Malic Acid</th>\n",
       "      <th>Ash</th>\n",
       "    </tr>\n",
       "  </thead>\n",
       "  <tbody>\n",
       "    <tr>\n",
       "      <th>163</th>\n",
       "      <td>12.96</td>\n",
       "      <td>3.45</td>\n",
       "      <td>2.35</td>\n",
       "    </tr>\n",
       "    <tr>\n",
       "      <th>142</th>\n",
       "      <td>13.52</td>\n",
       "      <td>3.17</td>\n",
       "      <td>2.72</td>\n",
       "    </tr>\n",
       "    <tr>\n",
       "      <th>14</th>\n",
       "      <td>14.38</td>\n",
       "      <td>1.87</td>\n",
       "      <td>2.38</td>\n",
       "    </tr>\n",
       "    <tr>\n",
       "      <th>45</th>\n",
       "      <td>14.21</td>\n",
       "      <td>4.04</td>\n",
       "      <td>2.44</td>\n",
       "    </tr>\n",
       "    <tr>\n",
       "      <th>81</th>\n",
       "      <td>12.72</td>\n",
       "      <td>1.81</td>\n",
       "      <td>2.20</td>\n",
       "    </tr>\n",
       "  </tbody>\n",
       "</table>\n",
       "</div>"
      ],
      "text/plain": [
       "     Alcohol  Malic Acid   Ash\n",
       "163    12.96        3.45  2.35\n",
       "142    13.52        3.17  2.72\n",
       "14     14.38        1.87  2.38\n",
       "45     14.21        4.04  2.44\n",
       "81     12.72        1.81  2.20"
      ]
     },
     "execution_count": 51,
     "metadata": {},
     "output_type": "execute_result"
    }
   ],
   "source": [
    "X_test.head()"
   ]
  },
  {
   "cell_type": "code",
   "execution_count": 52,
   "id": "577c1ec4-a8de-4d2f-a233-9075cdf78b03",
   "metadata": {},
   "outputs": [
    {
     "name": "stdout",
     "output_type": "stream",
     "text": [
      "<class 'pandas.core.series.Series'>\n"
     ]
    },
    {
     "data": {
      "text/plain": [
       "92     2\n",
       "143    3\n",
       "144    3\n",
       "47     1\n",
       "77     2\n",
       "Name: Class, dtype: int64"
      ]
     },
     "execution_count": 52,
     "metadata": {},
     "output_type": "execute_result"
    }
   ],
   "source": [
    "print(type(Y_train))\n",
    "Y_train.head()"
   ]
  },
  {
   "cell_type": "code",
   "execution_count": 56,
   "id": "c298676a-c570-4593-b500-49805667a75e",
   "metadata": {},
   "outputs": [
    {
     "name": "stdout",
     "output_type": "stream",
     "text": [
      "<class 'pandas.core.series.Series'>\n"
     ]
    },
    {
     "data": {
      "text/plain": [
       "163    3\n",
       "142    3\n",
       "14     1\n",
       "45     1\n",
       "81     2\n",
       "Name: Class, dtype: int64"
      ]
     },
     "execution_count": 56,
     "metadata": {},
     "output_type": "execute_result"
    }
   ],
   "source": [
    "print(type(Y_test))\n",
    "Y_test.head()"
   ]
  },
  {
   "cell_type": "markdown",
   "id": "185da7f1-545d-4a81-b5aa-8749d79a691a",
   "metadata": {},
   "source": [
    "# Normalization - MinMax"
   ]
  },
  {
   "cell_type": "code",
   "execution_count": 63,
   "id": "2883bd1c-9a00-4417-87ae-e806b62dad59",
   "metadata": {},
   "outputs": [
    {
     "data": {
      "text/plain": [
       "array([[0.43684211, 0.15612648, 0.48128342],\n",
       "       [0.68157895, 0.83201581, 0.52941176],\n",
       "       [0.32105263, 0.62055336, 0.44919786],\n",
       "       [0.75526316, 0.18577075, 0.40641711],\n",
       "       [0.21315789, 0.42490119, 0.46524064],\n",
       "       [0.71578947, 0.19565217, 0.56149733],\n",
       "       [0.1       , 0.        , 0.60962567],\n",
       "       [0.47105263, 0.51976285, 0.5026738 ],\n",
       "       [0.5       , 0.40909091, 0.71657754],\n",
       "       [0.86052632, 0.23320158, 0.72727273],\n",
       "       [0.68684211, 0.46640316, 0.64171123],\n",
       "       [0.56052632, 0.3201581 , 0.70053476],\n",
       "       [0.64473684, 0.18379447, 0.68449198],\n",
       "       [0.41315789, 0.33992095, 0.44919786],\n",
       "       [0.78684211, 0.18577075, 0.45454545],\n",
       "       [0.65      , 0.21146245, 0.6684492 ],\n",
       "       [0.42368421, 0.12252964, 0.35294118],\n",
       "       [0.31315789, 0.10869565, 0.31016043],\n",
       "       [0.83421053, 0.20158103, 0.5828877 ],\n",
       "       [0.41315789, 0.11857708, 0.28877005],\n",
       "       [0.61315789, 0.35968379, 0.52941176],\n",
       "       [0.53157895, 0.25889328, 0.99465241],\n",
       "       [0.60263158, 0.49407115, 0.54545455],\n",
       "       [0.27368421, 0.28063241, 0.43315508],\n",
       "       [0.27631579, 0.11660079, 0.5026738 ],\n",
       "       [0.33157895, 0.13241107, 0.3315508 ],\n",
       "       [0.81315789, 0.14624506, 0.51336898],\n",
       "       [0.74736842, 0.22924901, 0.77005348],\n",
       "       [0.27631579, 0.0770751 , 0.61497326],\n",
       "       [0.53157895, 0.61660079, 0.51336898],\n",
       "       [0.32105263, 0.19565217, 0.40641711],\n",
       "       [0.47894737, 0.5       , 0.65240642],\n",
       "       [0.54736842, 0.22924901, 0.74331551],\n",
       "       [0.65263158, 0.20948617, 0.68983957],\n",
       "       [0.65      , 0.47035573, 0.67379679],\n",
       "       [0.33157895, 0.48023715, 0.45454545],\n",
       "       [0.74473684, 0.15217391, 0.70053476],\n",
       "       [0.16052632, 0.26086957, 0.58823529],\n",
       "       [0.62631579, 0.61264822, 0.40641711],\n",
       "       [0.43947368, 0.55533597, 0.53475936],\n",
       "       [0.35263158, 0.17588933, 0.5026738 ],\n",
       "       [0.21315789, 0.02964427, 0.65240642],\n",
       "       [0.79736842, 0.17588933, 0.49197861],\n",
       "       [0.11052632, 0.32806324, 0.56684492],\n",
       "       [0.35263158, 0.09288538, 0.64171123],\n",
       "       [0.45789474, 0.53162055, 0.3315508 ],\n",
       "       [0.64473684, 0.21146245, 0.56149733],\n",
       "       [0.19210526, 0.38339921, 0.8342246 ],\n",
       "       [0.46315789, 0.38142292, 0.59893048],\n",
       "       [0.75      , 0.22727273, 0.65775401],\n",
       "       [0.88157895, 0.56324111, 0.49197861],\n",
       "       [0.3       , 0.14031621, 0.62566845],\n",
       "       [0.25526316, 0.03557312, 0.34224599],\n",
       "       [0.35      , 0.61067194, 0.54545455],\n",
       "       [0.72368421, 0.39920949, 0.5026738 ],\n",
       "       [0.46842105, 0.31027668, 0.55614973],\n",
       "       [0.35263158, 0.0770751 , 0.42780749],\n",
       "       [0.79736842, 0.27865613, 0.6684492 ],\n",
       "       [0.80789474, 0.28063241, 0.5026738 ],\n",
       "       [0.87105263, 0.18577075, 0.71657754],\n",
       "       [0.97894737, 0.19565217, 0.55080214],\n",
       "       [0.68421053, 0.21146245, 0.71657754],\n",
       "       [0.29736842, 0.17193676, 0.50802139],\n",
       "       [0.58157895, 0.64031621, 0.4973262 ],\n",
       "       [0.34210526, 0.07114625, 0.49197861],\n",
       "       [0.59736842, 0.19367589, 0.4171123 ],\n",
       "       [0.11315789, 0.59288538, 0.2459893 ],\n",
       "       [0.64736842, 0.56324111, 0.44385027],\n",
       "       [0.58947368, 0.69960474, 0.48128342],\n",
       "       [0.35263158, 0.08498024, 0.29946524],\n",
       "       [0.25526316, 0.53162055, 0.34224599],\n",
       "       [0.39210526, 0.33399209, 0.43315508],\n",
       "       [0.33157895, 0.17193676, 0.45454545],\n",
       "       [0.20789474, 0.14426877, 0.3368984 ],\n",
       "       [0.83947368, 0.64229249, 0.61497326],\n",
       "       [0.40789474, 0.10869565, 0.39572193],\n",
       "       [0.75      , 0.84980237, 0.46524064],\n",
       "       [0.53157895, 1.        , 0.41176471],\n",
       "       [0.69473684, 0.10079051, 0.29946524],\n",
       "       [0.60789474, 0.03952569, 0.53475936],\n",
       "       [0.72105263, 0.22924901, 0.70588235],\n",
       "       [0.74473684, 0.12055336, 0.48663102],\n",
       "       [0.34210526, 0.04940711, 0.31550802],\n",
       "       [0.73684211, 0.16403162, 0.67379679],\n",
       "       [0.66578947, 0.1916996 , 0.50802139],\n",
       "       [0.67105263, 0.18181818, 0.53475936],\n",
       "       [0.27631579, 0.26482213, 0.18181818],\n",
       "       [0.2       , 0.27470356, 0.75935829],\n",
       "       [0.45789474, 0.32608696, 0.49197861],\n",
       "       [0.48421053, 0.76482213, 0.59893048],\n",
       "       [0.58157895, 0.36561265, 0.80748663],\n",
       "       [0.57894737, 0.50592885, 0.49197861],\n",
       "       [0.20526316, 0.27272727, 0.73796791],\n",
       "       [0.62368421, 0.76284585, 0.80213904],\n",
       "       [0.71315789, 0.18379447, 0.47593583],\n",
       "       [0.81578947, 0.66403162, 0.73796791],\n",
       "       [0.48157895, 0.12055336, 0.51336898],\n",
       "       [0.64736842, 0.18181818, 0.47058824],\n",
       "       [0.53157895, 0.1798419 , 0.63636364],\n",
       "       [0.13947368, 0.25889328, 1.        ],\n",
       "       [1.        , 0.17786561, 0.43315508],\n",
       "       [0.73684211, 0.1798419 , 0.6631016 ],\n",
       "       [0.44473684, 0.19960474, 0.49197861],\n",
       "       [0.35263158, 0.03952569, 0.        ],\n",
       "       [0.59210526, 0.17786561, 0.79144385],\n",
       "       [0.43947368, 0.61857708, 0.55614973],\n",
       "       [0.43157895, 0.04743083, 0.47058824],\n",
       "       [0.47631579, 0.43873518, 0.6684492 ],\n",
       "       [0.56315789, 0.87944664, 0.51336898],\n",
       "       [0.47894737, 0.16996047, 0.62032086],\n",
       "       [0.16578947, 0.22529644, 0.29946524],\n",
       "       [0.70526316, 0.22134387, 0.53475936],\n",
       "       [0.56052632, 0.55928854, 0.42245989],\n",
       "       [0.51578947, 0.18379447, 0.6631016 ],\n",
       "       [0.82368421, 0.34980237, 0.59893048],\n",
       "       [0.37894737, 0.1541502 , 0.44919786],\n",
       "       [0.35263158, 0.06521739, 0.39572193],\n",
       "       [0.        , 0.15217391, 0.44919786],\n",
       "       [0.27631579, 0.1284585 , 0.60962567],\n",
       "       [0.87894737, 0.23913043, 0.60962567],\n",
       "       [0.7       , 0.49802372, 0.63101604],\n",
       "       [0.69736842, 0.21541502, 0.53475936],\n",
       "       [0.70526316, 0.97035573, 0.5828877 ],\n",
       "       [0.54736842, 0.05335968, 0.18181818],\n",
       "       [0.76578947, 0.19565217, 0.48663102],\n",
       "       [0.32105263, 0.78656126, 0.63101604],\n",
       "       [0.71052632, 0.15019763, 0.71657754],\n",
       "       [0.36578947, 0.17193676, 0.44385027],\n",
       "       [0.83947368, 0.18972332, 0.5026738 ],\n",
       "       [0.53947368, 0.62450593, 0.53475936],\n",
       "       [0.5       , 0.60474308, 0.68983957],\n",
       "       [0.84210526, 0.1916996 , 0.57219251],\n",
       "       [0.48684211, 0.44466403, 0.55614973],\n",
       "       [0.73421053, 0.19960474, 0.56684492],\n",
       "       [0.36842105, 0.15612648, 0.4973262 ],\n",
       "       [0.53684211, 0.15019763, 0.39572193],\n",
       "       [0.53157895, 0.20355731, 0.39572193],\n",
       "       [0.56315789, 0.36561265, 0.54010695],\n",
       "       [0.59473684, 0.243083  , 0.70588235],\n",
       "       [0.66578947, 0.19565217, 0.58823529],\n",
       "       [0.15526316, 0.24703557, 0.49197861],\n",
       "       [0.15263158, 0.12055336, 0.71657754],\n",
       "       [0.20789474, 0.19367589, 0.27807487],\n",
       "       [0.70789474, 0.13636364, 0.60962567],\n",
       "       [0.39473684, 0.94268775, 0.68449198],\n",
       "       [0.53157895, 0.19565217, 0.36363636],\n",
       "       [0.16315789, 0.18379447, 0.67379679],\n",
       "       [0.38947368, 0.19565217, 0.3315508 ],\n",
       "       [0.26578947, 0.70355731, 0.54545455],\n",
       "       [0.62368421, 0.62648221, 0.59893048],\n",
       "       [0.36578947, 0.72924901, 0.73262032]])"
      ]
     },
     "execution_count": 63,
     "metadata": {},
     "output_type": "execute_result"
    }
   ],
   "source": [
    "from sklearn.preprocessing import MinMaxScaler\n",
    "scaler = MinMaxScaler()\n",
    "scaler.fit_transform(X_train)"
   ]
  },
  {
   "cell_type": "code",
   "execution_count": 64,
   "id": "5b45d139-d6a8-4eb1-8a3d-9825c1f80c43",
   "metadata": {},
   "outputs": [
    {
     "data": {
      "text/plain": [
       "array([14.83,  5.8 ,  3.23])"
      ]
     },
     "execution_count": 64,
     "metadata": {},
     "output_type": "execute_result"
    }
   ],
   "source": [
    "scaler.data_max_"
   ]
  },
  {
   "cell_type": "code",
   "execution_count": 65,
   "id": "456be504-c3e1-4731-9218-8a7a13207a60",
   "metadata": {},
   "outputs": [
    {
     "data": {
      "text/plain": [
       "array([11.03,  0.74,  1.36])"
      ]
     },
     "execution_count": 65,
     "metadata": {},
     "output_type": "execute_result"
    }
   ],
   "source": [
    "scaler.data_min_"
   ]
  },
  {
   "cell_type": "code",
   "execution_count": 66,
   "id": "33f065d9-08b4-4c30-b53f-ae68a76c1390",
   "metadata": {},
   "outputs": [
    {
     "data": {
      "text/plain": [
       "array([3.8 , 5.06, 1.87])"
      ]
     },
     "execution_count": 66,
     "metadata": {},
     "output_type": "execute_result"
    }
   ],
   "source": [
    "scaler.data_range_"
   ]
  },
  {
   "cell_type": "code",
   "execution_count": 67,
   "id": "fadc1378-4124-4217-b080-61d34030bbd6",
   "metadata": {},
   "outputs": [
    {
     "data": {
      "text/plain": [
       "(0, 1)"
      ]
     },
     "execution_count": 67,
     "metadata": {},
     "output_type": "execute_result"
    }
   ],
   "source": [
    "scaler.feature_range"
   ]
  },
  {
   "cell_type": "code",
   "execution_count": null,
   "id": "21761417-d08a-492f-b545-823b1a37e827",
   "metadata": {},
   "outputs": [],
   "source": []
  }
 ],
 "metadata": {
  "kernelspec": {
   "display_name": "Python 3 (ipykernel)",
   "language": "python",
   "name": "python3"
  },
  "language_info": {
   "codemirror_mode": {
    "name": "ipython",
    "version": 3
   },
   "file_extension": ".py",
   "mimetype": "text/x-python",
   "name": "python",
   "nbconvert_exporter": "python",
   "pygments_lexer": "ipython3",
   "version": "3.13.2"
  }
 },
 "nbformat": 4,
 "nbformat_minor": 5
}
