{
 "cells": [
  {
   "cell_type": "code",
   "execution_count": 118,
   "id": "fcd35a54-749c-454c-a7b2-45b91b04a39b",
   "metadata": {},
   "outputs": [],
   "source": [
    "import numpy as np\n",
    "import pandas as pd\n",
    "import matplotlib.pyplot as plt\n",
    "import seaborn as sns"
   ]
  },
  {
   "cell_type": "code",
   "execution_count": 119,
   "id": "481b54a6-d9f0-47bc-8656-73db236dbf7f",
   "metadata": {},
   "outputs": [],
   "source": [
    "df = pd.read_csv('train.csv', usecols=['Fare', 'Pclass', 'Age', 'Survived'])"
   ]
  },
  {
   "cell_type": "code",
   "execution_count": 120,
   "id": "6d13bc58-dece-498f-8e49-29bdc3d35b2f",
   "metadata": {},
   "outputs": [
    {
     "data": {
      "text/html": [
       "<div>\n",
       "<style scoped>\n",
       "    .dataframe tbody tr th:only-of-type {\n",
       "        vertical-align: middle;\n",
       "    }\n",
       "\n",
       "    .dataframe tbody tr th {\n",
       "        vertical-align: top;\n",
       "    }\n",
       "\n",
       "    .dataframe thead th {\n",
       "        text-align: right;\n",
       "    }\n",
       "</style>\n",
       "<table border=\"1\" class=\"dataframe\">\n",
       "  <thead>\n",
       "    <tr style=\"text-align: right;\">\n",
       "      <th></th>\n",
       "      <th>Survived</th>\n",
       "      <th>Pclass</th>\n",
       "      <th>Age</th>\n",
       "      <th>Fare</th>\n",
       "    </tr>\n",
       "  </thead>\n",
       "  <tbody>\n",
       "    <tr>\n",
       "      <th>0</th>\n",
       "      <td>0</td>\n",
       "      <td>3</td>\n",
       "      <td>22.0</td>\n",
       "      <td>7.2500</td>\n",
       "    </tr>\n",
       "    <tr>\n",
       "      <th>1</th>\n",
       "      <td>1</td>\n",
       "      <td>1</td>\n",
       "      <td>38.0</td>\n",
       "      <td>71.2833</td>\n",
       "    </tr>\n",
       "    <tr>\n",
       "      <th>2</th>\n",
       "      <td>1</td>\n",
       "      <td>3</td>\n",
       "      <td>26.0</td>\n",
       "      <td>7.9250</td>\n",
       "    </tr>\n",
       "    <tr>\n",
       "      <th>3</th>\n",
       "      <td>1</td>\n",
       "      <td>1</td>\n",
       "      <td>35.0</td>\n",
       "      <td>53.1000</td>\n",
       "    </tr>\n",
       "    <tr>\n",
       "      <th>4</th>\n",
       "      <td>0</td>\n",
       "      <td>3</td>\n",
       "      <td>35.0</td>\n",
       "      <td>8.0500</td>\n",
       "    </tr>\n",
       "  </tbody>\n",
       "</table>\n",
       "</div>"
      ],
      "text/plain": [
       "   Survived  Pclass   Age     Fare\n",
       "0         0       3  22.0   7.2500\n",
       "1         1       1  38.0  71.2833\n",
       "2         1       3  26.0   7.9250\n",
       "3         1       1  35.0  53.1000\n",
       "4         0       3  35.0   8.0500"
      ]
     },
     "execution_count": 120,
     "metadata": {},
     "output_type": "execute_result"
    }
   ],
   "source": [
    "df.head()"
   ]
  },
  {
   "cell_type": "code",
   "execution_count": 121,
   "id": "e77e57dd-fd40-46ff-af64-0e2472006a9d",
   "metadata": {},
   "outputs": [
    {
     "data": {
      "text/plain": [
       "Survived     0.00000\n",
       "Pclass       0.00000\n",
       "Age         19.86532\n",
       "Fare         0.00000\n",
       "dtype: float64"
      ]
     },
     "execution_count": 121,
     "metadata": {},
     "output_type": "execute_result"
    }
   ],
   "source": [
    "df.isnull().mean()*100"
   ]
  },
  {
   "cell_type": "code",
   "execution_count": 122,
   "id": "e5b00bd6-d4ed-47d1-99fc-011da9dc5e6b",
   "metadata": {},
   "outputs": [],
   "source": [
    "from sklearn.model_selection import train_test_split\n",
    "\n",
    "x = df.iloc[:, 1:]\n",
    "y = df.iloc[:, 0]\n",
    "\n",
    "x_train, x_test, y_train, y_test = train_test_split(x, y, test_size=0.2, random_state=42)"
   ]
  },
  {
   "cell_type": "markdown",
   "id": "1805ceb6-1fc2-4f48-9641-bebd38fb73af",
   "metadata": {},
   "source": [
    "# using multivar imputation"
   ]
  },
  {
   "cell_type": "code",
   "execution_count": 137,
   "id": "bce94441-ffa6-4015-8fc6-fc069f5de5fb",
   "metadata": {},
   "outputs": [],
   "source": [
    "from sklearn.compose import ColumnTransformer\n",
    "from sklearn.impute import KNNImputer\n",
    "from sklearn.preprocessing import StandardScaler\n",
    "\n",
    "tnf1 = ColumnTransformer([\n",
    "    ('age_transformed', KNNImputer(n_neighbors=4, weights='distance', add_indicator=True), ['Age'])\n",
    "], remainder='passthrough')"
   ]
  },
  {
   "cell_type": "code",
   "execution_count": 138,
   "id": "76866ec5-2d18-4b88-b648-d3af22fe2d64",
   "metadata": {},
   "outputs": [],
   "source": [
    "tnf2 = ColumnTransformer([\n",
    "    ('trf', StandardScaler(), ['Pclass', 'Age', 'Fare'])\n",
    "])"
   ]
  },
  {
   "cell_type": "code",
   "execution_count": 139,
   "id": "c9fd8017-e5eb-4223-9763-03cf43fb1239",
   "metadata": {},
   "outputs": [],
   "source": [
    "new_x_train = tnf1.fit_transform(x_train)\n",
    "new_x_test = tnf1.transform(x_test)"
   ]
  },
  {
   "cell_type": "code",
   "execution_count": 148,
   "id": "6b697bfc-f3d0-45f7-86dd-ffb68188542a",
   "metadata": {},
   "outputs": [],
   "source": [
    "new_x_train = pd.DataFrame(data=new_x_train, columns=['Age', 'Pclass', 'Fare', 'Age_NA'])\n",
    "new_x_test = pd.DataFrame(data=new_x_test, columns=['Age', 'Age_NA', 'Pclass', 'Fare'])"
   ]
  },
  {
   "cell_type": "code",
   "execution_count": 153,
   "id": "abe6e454-3172-4380-90d6-c6f621543840",
   "metadata": {},
   "outputs": [
    {
     "data": {
      "text/plain": [
       "Index(['Age', 'Pclass', 'Fare', 'Age_NA'], dtype='object')"
      ]
     },
     "execution_count": 153,
     "metadata": {},
     "output_type": "execute_result"
    }
   ],
   "source": [
    "new_x_train.columns"
   ]
  },
  {
   "cell_type": "code",
   "execution_count": null,
   "id": "8c31dbc6-af2b-4212-bb5b-9c0af5c46f30",
   "metadata": {},
   "outputs": [],
   "source": []
  },
  {
   "cell_type": "code",
   "execution_count": null,
   "id": "d6af8178-d36f-4a92-b768-2d55cb25e8ae",
   "metadata": {},
   "outputs": [],
   "source": [
    "transformed_xtrain = tnf2.fit_transform(new_x_train)\n",
    "transformed_xtest = tnf2.transform(new_x_test)"
   ]
  },
  {
   "cell_type": "code",
   "execution_count": null,
   "id": "2a192632-c4b3-4609-bcf6-aea3e1b8eb23",
   "metadata": {},
   "outputs": [],
   "source": [
    "from sklearn.tree import DecisionTreeClassifier\n",
    "from sklearn.linear_model import LogisticRegression\n",
    "\n",
    "clf = LogisticRegression()\n",
    "clf2 = DecisionTreeClassifier()\n",
    "\n",
    "clf.fit(transformed_xtrain, y_train)\n",
    "clf2.fit(transformed_xtrain, y_train)\n",
    "\n",
    "pred = clf.predict(transformed_xtest)\n",
    "pred2 = clf2.predict(transformed_xtest)"
   ]
  },
  {
   "cell_type": "code",
   "execution_count": 128,
   "id": "14c6fcad-1b37-4274-a431-74c15a968ab0",
   "metadata": {},
   "outputs": [
    {
     "name": "stdout",
     "output_type": "stream",
     "text": [
      "0.7374301675977654\n",
      "0.6927374301675978\n"
     ]
    }
   ],
   "source": [
    "from sklearn.metrics import accuracy_score\n",
    "from sklearn.metrics import r2_score\n",
    "from sklearn.model_selection import cross_val_score\n",
    "\n",
    "print(accuracy_score(y_test, pred))\n",
    "print(accuracy_score(y_test, pred2))"
   ]
  },
  {
   "cell_type": "code",
   "execution_count": 129,
   "id": "97f77feb-7353-49cc-a3f8-3715a4d06f26",
   "metadata": {},
   "outputs": [
    {
     "name": "stdout",
     "output_type": "stream",
     "text": [
      "0.693838028169014\n",
      "0.6446596244131454\n"
     ]
    }
   ],
   "source": [
    "print(np.mean(cross_val_score(estimator=clf, X=transformed_xtrain, y=y_train, cv=10)))\n",
    "print(np.mean(cross_val_score(estimator=clf2, X=transformed_xtrain, y=y_train, cv=10)))"
   ]
  },
  {
   "cell_type": "markdown",
   "id": "4f3bb9a6-5360-41cd-8c07-781721ea2dc6",
   "metadata": {},
   "source": [
    "# using univariate imputation"
   ]
  },
  {
   "cell_type": "code",
   "execution_count": 41,
   "id": "4c81df31-8d88-465f-9fe9-9efabf1c2eed",
   "metadata": {},
   "outputs": [],
   "source": [
    "from sklearn.compose import ColumnTransformer\n",
    "from sklearn.impute import SimpleImputer\n",
    "from sklearn.preprocessing import StandardScaler\n",
    "\n",
    "def imputer(data=df, col_imputed=str, col_original=str):\n",
    "    mask = df[col_imputed].isnull()\n",
    "    vals_required = df[col_original].isnull().sum()\n",
    "    df[col_imputed][mask] = df[col_original].sample(vals_required).values\n",
    "\n",
    "tnf2 = ColumnTransformer([\n",
    "    ('trf', StandardScaler(), ['Pclass', 'Age', 'Fare'])\n",
    "])"
   ]
  },
  {
   "cell_type": "code",
   "execution_count": null,
   "id": "f9b7f2b9-dd29-467b-bde2-5abba82a1d12",
   "metadata": {},
   "outputs": [],
   "source": []
  }
 ],
 "metadata": {
  "kernelspec": {
   "display_name": "Python 3 (ipykernel)",
   "language": "python",
   "name": "python3"
  },
  "language_info": {
   "codemirror_mode": {
    "name": "ipython",
    "version": 3
   },
   "file_extension": ".py",
   "mimetype": "text/x-python",
   "name": "python",
   "nbconvert_exporter": "python",
   "pygments_lexer": "ipython3",
   "version": "3.13.2"
  }
 },
 "nbformat": 4,
 "nbformat_minor": 5
}
