{
 "cells": [
  {
   "cell_type": "code",
   "execution_count": 1,
   "id": "73040b7d-8135-48bd-825f-a640642f15fb",
   "metadata": {},
   "outputs": [],
   "source": [
    "import numpy as np\n",
    "import pandas as pd\n",
    "import matplotlib.pyplot as plt\n",
    "import seaborn as sns"
   ]
  },
  {
   "cell_type": "code",
   "execution_count": 2,
   "id": "05e1aa21-359b-4495-af71-3d8649f73b73",
   "metadata": {},
   "outputs": [],
   "source": [
    "df = pd.read_csv('house-train.csv', usecols=['FireplaceQu', 'GarageQual', 'SalePrice'])"
   ]
  },
  {
   "cell_type": "code",
   "execution_count": 5,
   "id": "f35f93bc-248e-455d-9bf2-e69d66fe652a",
   "metadata": {},
   "outputs": [
    {
     "data": {
      "text/html": [
       "<div>\n",
       "<style scoped>\n",
       "    .dataframe tbody tr th:only-of-type {\n",
       "        vertical-align: middle;\n",
       "    }\n",
       "\n",
       "    .dataframe tbody tr th {\n",
       "        vertical-align: top;\n",
       "    }\n",
       "\n",
       "    .dataframe thead th {\n",
       "        text-align: right;\n",
       "    }\n",
       "</style>\n",
       "<table border=\"1\" class=\"dataframe\">\n",
       "  <thead>\n",
       "    <tr style=\"text-align: right;\">\n",
       "      <th></th>\n",
       "      <th>FireplaceQu</th>\n",
       "      <th>GarageQual</th>\n",
       "      <th>SalePrice</th>\n",
       "    </tr>\n",
       "  </thead>\n",
       "  <tbody>\n",
       "    <tr>\n",
       "      <th>0</th>\n",
       "      <td>NaN</td>\n",
       "      <td>TA</td>\n",
       "      <td>208500</td>\n",
       "    </tr>\n",
       "    <tr>\n",
       "      <th>1</th>\n",
       "      <td>TA</td>\n",
       "      <td>TA</td>\n",
       "      <td>181500</td>\n",
       "    </tr>\n",
       "    <tr>\n",
       "      <th>2</th>\n",
       "      <td>TA</td>\n",
       "      <td>TA</td>\n",
       "      <td>223500</td>\n",
       "    </tr>\n",
       "    <tr>\n",
       "      <th>3</th>\n",
       "      <td>Gd</td>\n",
       "      <td>TA</td>\n",
       "      <td>140000</td>\n",
       "    </tr>\n",
       "    <tr>\n",
       "      <th>4</th>\n",
       "      <td>TA</td>\n",
       "      <td>TA</td>\n",
       "      <td>250000</td>\n",
       "    </tr>\n",
       "  </tbody>\n",
       "</table>\n",
       "</div>"
      ],
      "text/plain": [
       "  FireplaceQu GarageQual  SalePrice\n",
       "0         NaN         TA     208500\n",
       "1          TA         TA     181500\n",
       "2          TA         TA     223500\n",
       "3          Gd         TA     140000\n",
       "4          TA         TA     250000"
      ]
     },
     "execution_count": 5,
     "metadata": {},
     "output_type": "execute_result"
    }
   ],
   "source": [
    "df.head()"
   ]
  },
  {
   "cell_type": "code",
   "execution_count": 4,
   "id": "ae219037-af47-48bb-b9e7-0d5570d3f552",
   "metadata": {},
   "outputs": [
    {
     "data": {
      "text/plain": [
       "FireplaceQu    47.260274\n",
       "GarageQual      5.547945\n",
       "SalePrice       0.000000\n",
       "dtype: float64"
      ]
     },
     "execution_count": 4,
     "metadata": {},
     "output_type": "execute_result"
    }
   ],
   "source": [
    "df.isnull().mean()*100"
   ]
  },
  {
   "cell_type": "markdown",
   "id": "73b15146-8331-46d4-806a-0af12b58b194",
   "metadata": {},
   "source": [
    "# applying random imputation "
   ]
  },
  {
   "cell_type": "code",
   "execution_count": 52,
   "id": "8efc4b76-cb91-41e9-b7c1-e1df0add1004",
   "metadata": {},
   "outputs": [],
   "source": [
    "from sklearn.model_selection import train_test_split\n",
    "\n",
    "x = df\n",
    "y = df.iloc[:, -1]\n",
    "\n",
    "x_train, x_test, y_train, y_test = train_test_split(x, y, test_size=0.15, random_state=42)"
   ]
  },
  {
   "cell_type": "code",
   "execution_count": 53,
   "id": "edae3e84-adab-477a-bbab-416615f6a681",
   "metadata": {},
   "outputs": [],
   "source": [
    "x_train['FireplaceQu_imputed'] = x_train['FireplaceQu']\n",
    "x_test['FireplaceQu_imputed'] = x_test['FireplaceQu']\n",
    "\n",
    "x_train['GarageQual_imputed'] = x_train['GarageQual']\n",
    "x_test['GarageQual_imputed'] = x_test['GarageQual']"
   ]
  },
  {
   "cell_type": "markdown",
   "id": "4b97bfc4-6feb-4a23-b36e-908ee2f15575",
   "metadata": {},
   "source": [
    "### didn't removed saleprice to check "
   ]
  },
  {
   "cell_type": "code",
   "execution_count": 54,
   "id": "0dbd0487-46a2-4176-90a5-dc6baf67ff92",
   "metadata": {},
   "outputs": [
    {
     "name": "stderr",
     "output_type": "stream",
     "text": [
      "C:\\Users\\UTSAV\\AppData\\Local\\Temp\\ipykernel_11844\\3890253867.py:3: FutureWarning: ChainedAssignmentError: behaviour will change in pandas 3.0!\n",
      "You are setting values through chained assignment. Currently this works in certain cases, but when using Copy-on-Write (which will become the default behaviour in pandas 3.0) this will never work to update the original DataFrame or Series, because the intermediate object on which we are setting values will behave as a copy.\n",
      "A typical example is when you are setting values in a column of a DataFrame, like:\n",
      "\n",
      "df[\"col\"][row_indexer] = value\n",
      "\n",
      "Use `df.loc[row_indexer, \"col\"] = values` instead, to perform the assignment in a single step and ensure this keeps updating the original `df`.\n",
      "\n",
      "See the caveats in the documentation: https://pandas.pydata.org/pandas-docs/stable/user_guide/indexing.html#returning-a-view-versus-a-copy\n",
      "\n",
      "  x_train['FireplaceQu_imputed'][mask] = x_train['FireplaceQu'].dropna().sample(x_train['FireplaceQu'].isnull().sum()).values\n",
      "C:\\Users\\UTSAV\\AppData\\Local\\Temp\\ipykernel_11844\\3890253867.py:3: SettingWithCopyWarning: \n",
      "A value is trying to be set on a copy of a slice from a DataFrame\n",
      "\n",
      "See the caveats in the documentation: https://pandas.pydata.org/pandas-docs/stable/user_guide/indexing.html#returning-a-view-versus-a-copy\n",
      "  x_train['FireplaceQu_imputed'][mask] = x_train['FireplaceQu'].dropna().sample(x_train['FireplaceQu'].isnull().sum()).values\n",
      "C:\\Users\\UTSAV\\AppData\\Local\\Temp\\ipykernel_11844\\3890253867.py:6: FutureWarning: ChainedAssignmentError: behaviour will change in pandas 3.0!\n",
      "You are setting values through chained assignment. Currently this works in certain cases, but when using Copy-on-Write (which will become the default behaviour in pandas 3.0) this will never work to update the original DataFrame or Series, because the intermediate object on which we are setting values will behave as a copy.\n",
      "A typical example is when you are setting values in a column of a DataFrame, like:\n",
      "\n",
      "df[\"col\"][row_indexer] = value\n",
      "\n",
      "Use `df.loc[row_indexer, \"col\"] = values` instead, to perform the assignment in a single step and ensure this keeps updating the original `df`.\n",
      "\n",
      "See the caveats in the documentation: https://pandas.pydata.org/pandas-docs/stable/user_guide/indexing.html#returning-a-view-versus-a-copy\n",
      "\n",
      "  x_train['GarageQual_imputed'][mask] = x_train['GarageQual'].dropna().sample(x_train['GarageQual'].isnull().sum()).values\n",
      "C:\\Users\\UTSAV\\AppData\\Local\\Temp\\ipykernel_11844\\3890253867.py:6: SettingWithCopyWarning: \n",
      "A value is trying to be set on a copy of a slice from a DataFrame\n",
      "\n",
      "See the caveats in the documentation: https://pandas.pydata.org/pandas-docs/stable/user_guide/indexing.html#returning-a-view-versus-a-copy\n",
      "  x_train['GarageQual_imputed'][mask] = x_train['GarageQual'].dropna().sample(x_train['GarageQual'].isnull().sum()).values\n"
     ]
    }
   ],
   "source": [
    "# fill the missing\n",
    "mask = x_train['FireplaceQu_imputed'].isnull()\n",
    "x_train['FireplaceQu_imputed'][mask] = x_train['FireplaceQu'].dropna().sample(x_train['FireplaceQu'].isnull().sum()).values\n",
    "\n",
    "mask = x_train['GarageQual_imputed'].isnull()\n",
    "x_train['GarageQual_imputed'][mask] = x_train['GarageQual'].dropna().sample(x_train['GarageQual'].isnull().sum()).values"
   ]
  },
  {
   "cell_type": "code",
   "execution_count": 55,
   "id": "cf42f5d3-ee96-4444-9f77-b1c0a2fdf00c",
   "metadata": {},
   "outputs": [
    {
     "name": "stdout",
     "output_type": "stream",
     "text": [
      "0.85\n"
     ]
    }
   ],
   "source": [
    "print(len(x_train['FireplaceQu']) / len(x['FireplaceQu']))"
   ]
  },
  {
   "cell_type": "markdown",
   "id": "b1ecd7eb-75e5-4f56-93bb-8513dcb1b365",
   "metadata": {},
   "source": [
    "### because 15 percent data is used in testing"
   ]
  },
  {
   "cell_type": "code",
   "execution_count": 58,
   "id": "7ec0a243-a107-4066-ab56-308a20731be6",
   "metadata": {},
   "outputs": [
    {
     "data": {
      "text/html": [
       "<div>\n",
       "<style scoped>\n",
       "    .dataframe tbody tr th:only-of-type {\n",
       "        vertical-align: middle;\n",
       "    }\n",
       "\n",
       "    .dataframe tbody tr th {\n",
       "        vertical-align: top;\n",
       "    }\n",
       "\n",
       "    .dataframe thead th {\n",
       "        text-align: right;\n",
       "    }\n",
       "</style>\n",
       "<table border=\"1\" class=\"dataframe\">\n",
       "  <thead>\n",
       "    <tr style=\"text-align: right;\">\n",
       "      <th></th>\n",
       "      <th>original</th>\n",
       "      <th>imputed</th>\n",
       "    </tr>\n",
       "  </thead>\n",
       "  <tbody>\n",
       "    <tr>\n",
       "      <th>TA</th>\n",
       "      <td>0.948936</td>\n",
       "      <td>0.807534</td>\n",
       "    </tr>\n",
       "    <tr>\n",
       "      <th>Fa</th>\n",
       "      <td>0.034894</td>\n",
       "      <td>0.028767</td>\n",
       "    </tr>\n",
       "    <tr>\n",
       "      <th>Gd</th>\n",
       "      <td>0.011915</td>\n",
       "      <td>0.009589</td>\n",
       "    </tr>\n",
       "    <tr>\n",
       "      <th>Ex</th>\n",
       "      <td>0.002553</td>\n",
       "      <td>0.002055</td>\n",
       "    </tr>\n",
       "    <tr>\n",
       "      <th>Po</th>\n",
       "      <td>0.001702</td>\n",
       "      <td>0.002055</td>\n",
       "    </tr>\n",
       "  </tbody>\n",
       "</table>\n",
       "</div>"
      ],
      "text/plain": [
       "    original   imputed\n",
       "TA  0.948936  0.807534\n",
       "Fa  0.034894  0.028767\n",
       "Gd  0.011915  0.009589\n",
       "Ex  0.002553  0.002055\n",
       "Po  0.001702  0.002055"
      ]
     },
     "execution_count": 58,
     "metadata": {},
     "output_type": "execute_result"
    }
   ],
   "source": [
    "temp = pd.concat(\n",
    "    [\n",
    "        x_train['GarageQual'].value_counts() / len(x_train['GarageQual'].dropna()),\n",
    "        x_train['GarageQual_imputed'].value_counts() / len(df)\n",
    "    ],\n",
    "    axis=1)\n",
    "temp.columns = ['original', 'imputed']\n",
    "temp"
   ]
  },
  {
   "cell_type": "code",
   "execution_count": 59,
   "id": "68410d21-d408-4fec-947f-74331d9aa258",
   "metadata": {},
   "outputs": [
    {
     "data": {
      "text/html": [
       "<div>\n",
       "<style scoped>\n",
       "    .dataframe tbody tr th:only-of-type {\n",
       "        vertical-align: middle;\n",
       "    }\n",
       "\n",
       "    .dataframe tbody tr th {\n",
       "        vertical-align: top;\n",
       "    }\n",
       "\n",
       "    .dataframe thead th {\n",
       "        text-align: right;\n",
       "    }\n",
       "</style>\n",
       "<table border=\"1\" class=\"dataframe\">\n",
       "  <thead>\n",
       "    <tr style=\"text-align: right;\">\n",
       "      <th></th>\n",
       "      <th>original</th>\n",
       "      <th>imputed</th>\n",
       "    </tr>\n",
       "  </thead>\n",
       "  <tbody>\n",
       "    <tr>\n",
       "      <th>Gd</th>\n",
       "      <td>0.490881</td>\n",
       "      <td>0.417808</td>\n",
       "    </tr>\n",
       "    <tr>\n",
       "      <th>TA</th>\n",
       "      <td>0.407295</td>\n",
       "      <td>0.347945</td>\n",
       "    </tr>\n",
       "    <tr>\n",
       "      <th>Fa</th>\n",
       "      <td>0.045593</td>\n",
       "      <td>0.037671</td>\n",
       "    </tr>\n",
       "    <tr>\n",
       "      <th>Ex</th>\n",
       "      <td>0.031915</td>\n",
       "      <td>0.026712</td>\n",
       "    </tr>\n",
       "    <tr>\n",
       "      <th>Po</th>\n",
       "      <td>0.024316</td>\n",
       "      <td>0.019863</td>\n",
       "    </tr>\n",
       "  </tbody>\n",
       "</table>\n",
       "</div>"
      ],
      "text/plain": [
       "    original   imputed\n",
       "Gd  0.490881  0.417808\n",
       "TA  0.407295  0.347945\n",
       "Fa  0.045593  0.037671\n",
       "Ex  0.031915  0.026712\n",
       "Po  0.024316  0.019863"
      ]
     },
     "execution_count": 59,
     "metadata": {},
     "output_type": "execute_result"
    }
   ],
   "source": [
    "temp = pd.concat(\n",
    "    [\n",
    "        x_train['FireplaceQu'].value_counts() / len(x_train['FireplaceQu'].dropna()),\n",
    "        x_train['FireplaceQu_imputed'].value_counts() / len(df)\n",
    "    ],\n",
    "    axis=1)\n",
    "temp.columns = ['original', 'imputed']\n",
    "temp"
   ]
  },
  {
   "cell_type": "code",
   "execution_count": 70,
   "id": "99970afb-d085-49f0-8602-6301ab1f317f",
   "metadata": {},
   "outputs": [
    {
     "data": {
      "text/html": [
       "<div>\n",
       "<style scoped>\n",
       "    .dataframe tbody tr th:only-of-type {\n",
       "        vertical-align: middle;\n",
       "    }\n",
       "\n",
       "    .dataframe tbody tr th {\n",
       "        vertical-align: top;\n",
       "    }\n",
       "\n",
       "    .dataframe thead th {\n",
       "        text-align: right;\n",
       "    }\n",
       "</style>\n",
       "<table border=\"1\" class=\"dataframe\">\n",
       "  <thead>\n",
       "    <tr style=\"text-align: right;\">\n",
       "      <th></th>\n",
       "      <th>FireplaceQu</th>\n",
       "      <th>GarageQual</th>\n",
       "      <th>FireplaceQu_imputed</th>\n",
       "      <th>GarageQual_imputed</th>\n",
       "    </tr>\n",
       "  </thead>\n",
       "  <tbody>\n",
       "    <tr>\n",
       "      <th>984</th>\n",
       "      <td>NaN</td>\n",
       "      <td>TA</td>\n",
       "      <td>Gd</td>\n",
       "      <td>TA</td>\n",
       "    </tr>\n",
       "    <tr>\n",
       "      <th>777</th>\n",
       "      <td>Fa</td>\n",
       "      <td>TA</td>\n",
       "      <td>Fa</td>\n",
       "      <td>TA</td>\n",
       "    </tr>\n",
       "    <tr>\n",
       "      <th>707</th>\n",
       "      <td>Gd</td>\n",
       "      <td>TA</td>\n",
       "      <td>Gd</td>\n",
       "      <td>TA</td>\n",
       "    </tr>\n",
       "    <tr>\n",
       "      <th>598</th>\n",
       "      <td>TA</td>\n",
       "      <td>TA</td>\n",
       "      <td>TA</td>\n",
       "      <td>TA</td>\n",
       "    </tr>\n",
       "    <tr>\n",
       "      <th>874</th>\n",
       "      <td>NaN</td>\n",
       "      <td>TA</td>\n",
       "      <td>TA</td>\n",
       "      <td>TA</td>\n",
       "    </tr>\n",
       "    <tr>\n",
       "      <th>...</th>\n",
       "      <td>...</td>\n",
       "      <td>...</td>\n",
       "      <td>...</td>\n",
       "      <td>...</td>\n",
       "    </tr>\n",
       "    <tr>\n",
       "      <th>1095</th>\n",
       "      <td>Gd</td>\n",
       "      <td>TA</td>\n",
       "      <td>Gd</td>\n",
       "      <td>TA</td>\n",
       "    </tr>\n",
       "    <tr>\n",
       "      <th>1130</th>\n",
       "      <td>TA</td>\n",
       "      <td>TA</td>\n",
       "      <td>TA</td>\n",
       "      <td>TA</td>\n",
       "    </tr>\n",
       "    <tr>\n",
       "      <th>1294</th>\n",
       "      <td>NaN</td>\n",
       "      <td>TA</td>\n",
       "      <td>TA</td>\n",
       "      <td>TA</td>\n",
       "    </tr>\n",
       "    <tr>\n",
       "      <th>860</th>\n",
       "      <td>Gd</td>\n",
       "      <td>TA</td>\n",
       "      <td>Gd</td>\n",
       "      <td>TA</td>\n",
       "    </tr>\n",
       "    <tr>\n",
       "      <th>1126</th>\n",
       "      <td>TA</td>\n",
       "      <td>TA</td>\n",
       "      <td>TA</td>\n",
       "      <td>TA</td>\n",
       "    </tr>\n",
       "  </tbody>\n",
       "</table>\n",
       "<p>1241 rows × 4 columns</p>\n",
       "</div>"
      ],
      "text/plain": [
       "     FireplaceQu GarageQual FireplaceQu_imputed GarageQual_imputed\n",
       "984          NaN         TA                  Gd                 TA\n",
       "777           Fa         TA                  Fa                 TA\n",
       "707           Gd         TA                  Gd                 TA\n",
       "598           TA         TA                  TA                 TA\n",
       "874          NaN         TA                  TA                 TA\n",
       "...          ...        ...                 ...                ...\n",
       "1095          Gd         TA                  Gd                 TA\n",
       "1130          TA         TA                  TA                 TA\n",
       "1294         NaN         TA                  TA                 TA\n",
       "860           Gd         TA                  Gd                 TA\n",
       "1126          TA         TA                  TA                 TA\n",
       "\n",
       "[1241 rows x 4 columns]"
      ]
     },
     "execution_count": 70,
     "metadata": {},
     "output_type": "execute_result"
    }
   ],
   "source": [
    "x_train_new = x_train.drop(columns=['SalePrice'])\n",
    "x_train_new"
   ]
  },
  {
   "cell_type": "code",
   "execution_count": 71,
   "id": "e2d5ade4-07f3-4871-b0e1-92f0157d5b71",
   "metadata": {},
   "outputs": [
    {
     "data": {
      "image/png": "[encoded data removed]",
      "text/plain": [
       "<Figure size 640x480 with 1 Axes>"
      ]
     },
     "metadata": {},
     "output_type": "display_data"
    }
   ],
   "source": [
    "for category in x_train_new:\n",
    "    x_train_new[category].value_counts().plot(kind='kde')"
   ]
  },
  {
   "cell_type": "code",
   "execution_count": null,
   "id": "191231a1-c660-4991-ab27-e0c679fc5936",
   "metadata": {},
   "outputs": [],
   "source": [
    "for category in x.drop(columns=['']):\n",
    "    x_train_new[category].value_counts().plot(kind='kde')"
   ]
  }
 ],
 "metadata": {
  "kernelspec": {
   "display_name": "Python 3 (ipykernel)",
   "language": "python",
   "name": "python3"
  },
  "language_info": {
   "codemirror_mode": {
    "name": "ipython",
    "version": 3
   },
   "file_extension": ".py",
   "mimetype": "text/x-python",
   "name": "python",
   "nbconvert_exporter": "python",
   "pygments_lexer": "ipython3",
   "version": "3.13.2"
  }
 },
 "nbformat": 4,
 "nbformat_minor": 5
}
