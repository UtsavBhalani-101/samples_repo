{
 "cells": [
  {
   "cell_type": "code",
   "execution_count": 1,
   "id": "5c6dfe41-2fb2-40c6-920b-88ceeb14f2e5",
   "metadata": {},
   "outputs": [],
   "source": [
    "import numpy as np\n",
    "import pandas as pd"
   ]
  },
  {
   "cell_type": "code",
   "execution_count": 56,
   "id": "bf745d1a-d760-434f-993d-8fd95c1392ab",
   "metadata": {},
   "outputs": [],
   "source": [
    "from sklearn.model_selection import train_test_split\n",
    "\n",
    "from sklearn.preprocessing import OneHotEncoder\n",
    "from sklearn.preprocessing import FunctionTransformer\n",
    "from sklearn.compose import ColumnTransformer\n",
    "\n",
    "from sklearn.pipeline import Pipeline, make_pipeline\n",
    "from sklearn.metrics import accuracy_score\n",
    "from sklearn.model_selection import cross_val_score\n",
    "\n",
    "from sklearn.linear_model import LogisticRegression\n",
    "from sklearn.tree import DecisionTreeClassifier"
   ]
  },
  {
   "cell_type": "code",
   "execution_count": 3,
   "id": "090328f4-3b2b-4f3e-a203-e9191b02cace",
   "metadata": {},
   "outputs": [],
   "source": [
    "import scipy.stats as stats\n",
    "import matplotlib.pyplot as plt\n",
    "import seaborn as sns"
   ]
  },
  {
   "cell_type": "code",
   "execution_count": 4,
   "id": "a6c6a6b6-f248-4090-8e5d-5322370166d0",
   "metadata": {},
   "outputs": [],
   "source": [
    "df = pd.read_csv('train.csv', usecols=['Age', 'Fare', 'Survived'])"
   ]
  },
  {
   "cell_type": "code",
   "execution_count": 5,
   "id": "040efba6-85cf-4952-a3e2-4747d55e0891",
   "metadata": {},
   "outputs": [
    {
     "data": {
      "text/html": [
       "<div>\n",
       "<style scoped>\n",
       "    .dataframe tbody tr th:only-of-type {\n",
       "        vertical-align: middle;\n",
       "    }\n",
       "\n",
       "    .dataframe tbody tr th {\n",
       "        vertical-align: top;\n",
       "    }\n",
       "\n",
       "    .dataframe thead th {\n",
       "        text-align: right;\n",
       "    }\n",
       "</style>\n",
       "<table border=\"1\" class=\"dataframe\">\n",
       "  <thead>\n",
       "    <tr style=\"text-align: right;\">\n",
       "      <th></th>\n",
       "      <th>Survived</th>\n",
       "      <th>Age</th>\n",
       "      <th>Fare</th>\n",
       "    </tr>\n",
       "  </thead>\n",
       "  <tbody>\n",
       "    <tr>\n",
       "      <th>0</th>\n",
       "      <td>0</td>\n",
       "      <td>22.0</td>\n",
       "      <td>7.2500</td>\n",
       "    </tr>\n",
       "    <tr>\n",
       "      <th>1</th>\n",
       "      <td>1</td>\n",
       "      <td>38.0</td>\n",
       "      <td>71.2833</td>\n",
       "    </tr>\n",
       "    <tr>\n",
       "      <th>2</th>\n",
       "      <td>1</td>\n",
       "      <td>26.0</td>\n",
       "      <td>7.9250</td>\n",
       "    </tr>\n",
       "    <tr>\n",
       "      <th>3</th>\n",
       "      <td>1</td>\n",
       "      <td>35.0</td>\n",
       "      <td>53.1000</td>\n",
       "    </tr>\n",
       "    <tr>\n",
       "      <th>4</th>\n",
       "      <td>0</td>\n",
       "      <td>35.0</td>\n",
       "      <td>8.0500</td>\n",
       "    </tr>\n",
       "  </tbody>\n",
       "</table>\n",
       "</div>"
      ],
      "text/plain": [
       "   Survived   Age     Fare\n",
       "0         0  22.0   7.2500\n",
       "1         1  38.0  71.2833\n",
       "2         1  26.0   7.9250\n",
       "3         1  35.0  53.1000\n",
       "4         0  35.0   8.0500"
      ]
     },
     "execution_count": 5,
     "metadata": {},
     "output_type": "execute_result"
    }
   ],
   "source": [
    "df.head()"
   ]
  },
  {
   "cell_type": "code",
   "execution_count": 11,
   "id": "1d9aa481-74e7-44b8-bf91-37ae30859021",
   "metadata": {},
   "outputs": [
    {
     "data": {
      "text/plain": [
       "Survived    0\n",
       "Age         0\n",
       "Fare        0\n",
       "dtype: int64"
      ]
     },
     "execution_count": 11,
     "metadata": {},
     "output_type": "execute_result"
    }
   ],
   "source": [
    "df.isnull().sum()"
   ]
  },
  {
   "cell_type": "code",
   "execution_count": 10,
   "id": "d6569996-95f3-4b61-8b7f-75c9ad69ba41",
   "metadata": {},
   "outputs": [],
   "source": [
    "df['Age'].fillna(df['Age'].mean(), inplace=True)"
   ]
  },
  {
   "cell_type": "code",
   "execution_count": 16,
   "id": "88ffd441-fdb4-4814-a1d7-50dad087bf96",
   "metadata": {},
   "outputs": [],
   "source": [
    "# train test split\n",
    "x = df.iloc[:, 1:]\n",
    "y = df.iloc[:, 0]\n",
    "\n",
    "\n",
    "x_train, x_test, y_train, y_test = train_test_split(x, y, test_size=0.2, random_state=42)"
   ]
  },
  {
   "cell_type": "code",
   "execution_count": 48,
   "id": "e0068b36-68bf-4c19-b7be-384891d1a8b6",
   "metadata": {},
   "outputs": [
    {
     "data": {
      "text/plain": [
       "<Figure size 1200x1000 with 0 Axes>"
      ]
     },
     "metadata": {},
     "output_type": "display_data"
    },
    {
     "data": {
      "image/png": "[encoded data removed]",
      "text/plain": [
       "<Figure size 500x500 with 1 Axes>"
      ]
     },
     "metadata": {},
     "output_type": "display_data"
    }
   ],
   "source": [
    "\n",
    "plt.figure(figsize=(12,10))\n",
    "# plt.subplot(1,2,1)\n",
    "sns.displot(x_train['Age'], kde=True)\n",
    "plt.title('Age PDF')\n",
    "\n",
    "# plt.subplot(1,2,2)\n",
    "# stats.probplot(x_train['Age'], dist='norm', plot=plt)\n",
    "# plt.title('QQ plot')\n",
    "\n",
    "plt.show()"
   ]
  },
  {
   "cell_type": "code",
   "execution_count": 49,
   "id": "484f43a6-abd5-43cb-b490-59369cecdd0b",
   "metadata": {},
   "outputs": [
    {
     "data": {
      "image/png": "[encoded data removed]",
      "text/plain": [
       "<Figure size 640x480 with 1 Axes>"
      ]
     },
     "metadata": {},
     "output_type": "display_data"
    }
   ],
   "source": [
    "stats.probplot(x_train['Age'], dist='norm', plot=plt)\n",
    "plt.title('QQ plot')\n",
    "\n",
    "plt.show()"
   ]
  },
  {
   "cell_type": "code",
   "execution_count": 50,
   "id": "1a63a4c7-0d6f-4e4c-adc2-4a830b631467",
   "metadata": {},
   "outputs": [],
   "source": [
    "# defining model objs\n",
    "clf = LogisticRegression()\n",
    "clf1 = DecisionTreeClassifier()"
   ]
  },
  {
   "cell_type": "markdown",
   "id": "6b9553d2-26a1-4819-bf7c-d96bf2004bd0",
   "metadata": {},
   "source": [
    "## without applying functional transformer"
   ]
  },
  {
   "cell_type": "code",
   "execution_count": 54,
   "id": "2131096f-a21f-4fa9-81ac-1473e84f0d76",
   "metadata": {},
   "outputs": [],
   "source": [
    "clf.fit(x_train, y_train)\n",
    "pred = clf.predict(x_test)\n",
    "\n",
    "clf1.fit(x_train, y_train)\n",
    "pred1 = clf1.predict(x_test)"
   ]
  },
  {
   "cell_type": "code",
   "execution_count": 55,
   "id": "3bbb7f7b-4083-40d6-93eb-8da8b50f9913",
   "metadata": {},
   "outputs": [
    {
     "name": "stdout",
     "output_type": "stream",
     "text": [
      "LR 0.6480446927374302\n",
      "DT 0.659217877094972\n"
     ]
    }
   ],
   "source": [
    "print(\"LR\", accuracy_score(y_test, pred))\n",
    "print(\"DT\", accuracy_score(y_test, pred1))"
   ]
  },
  {
   "cell_type": "markdown",
   "id": "0c62407b-21b8-4e87-9efd-0781f7ac8735",
   "metadata": {},
   "source": [
    "## with functional transformer - log transformer"
   ]
  },
  {
   "cell_type": "code",
   "execution_count": 57,
   "id": "94c39b29-3527-4534-b44d-94860cad9397",
   "metadata": {},
   "outputs": [],
   "source": [
    "trf = FunctionTransformer(func=np.log1p)"
   ]
  },
  {
   "cell_type": "code",
   "execution_count": 58,
   "id": "237de822-40a4-481f-a0bb-eeea3d994058",
   "metadata": {},
   "outputs": [],
   "source": [
    "x_train_transformed = trf.fit_transform(x_train)\n",
    "x_test_transformed = trf.transform(x_test)"
   ]
  },
  {
   "cell_type": "code",
   "execution_count": 74,
   "id": "f235a80b-f11c-4f7d-928a-b706207fc94b",
   "metadata": {},
   "outputs": [],
   "source": [
    "clf = LogisticRegression()\n",
    "clf1 = DecisionTreeClassifier()\n",
    "\n",
    "clf.fit(x_train_transformed, y_train)\n",
    "prediction = clf.predict(x_test)\n",
    "\n",
    "clf1.fit(x_train_transformed, y_train)\n",
    "prediction1 = clf1.predict(x_test)"
   ]
  },
  {
   "cell_type": "code",
   "execution_count": 75,
   "id": "484ec4ce-9495-4be4-a653-321a8da4d9e7",
   "metadata": {},
   "outputs": [
    {
     "name": "stdout",
     "output_type": "stream",
     "text": [
      "Accuracy LR 0.7374301675977654\n",
      "Accuracy DT 0.5865921787709497\n"
     ]
    }
   ],
   "source": [
    "print(\"Accuracy LR\", accuracy_score(y_test, prediction))\n",
    "print(\"Accuracy DT\", accuracy_score(y_test, prediction1))"
   ]
  },
  {
   "cell_type": "markdown",
   "id": "11309fa8-51cf-43db-a1e2-2ed2cf2f4544",
   "metadata": {},
   "source": [
    "# Cross verify"
   ]
  },
  {
   "cell_type": "code",
   "execution_count": 78,
   "id": "c8852e3a-8aa4-4e9c-b0cb-a692c0fb1ffd",
   "metadata": {},
   "outputs": [
    {
     "name": "stdout",
     "output_type": "stream",
     "text": [
      "Accuracy LR 0.6557902973395932\n",
      "Accuracy DT 0.610935054773083\n"
     ]
    }
   ],
   "source": [
    "clf = LogisticRegression()\n",
    "clf1 = DecisionTreeClassifier()\n",
    "\n",
    "lr = np.mean(cross_val_score(estimator=clf, X=x_train, y=y_train, scoring='accuracy', cv=10))\n",
    "dt = np.mean(cross_val_score(estimator=clf1, X=x_train, y=y_train, scoring='accuracy', cv=10))\n",
    "\n",
    "print(\"Accuracy LR\", lr)\n",
    "print(\"Accuracy DT\", dt)"
   ]
  },
  {
   "cell_type": "markdown",
   "id": "48a124ff-31f4-4e2d-87f5-c8db1581bfed",
   "metadata": {},
   "source": [
    "# applying func trans only on fare"
   ]
  },
  {
   "cell_type": "code",
   "execution_count": 80,
   "id": "bf4e0a42-1cfc-4f9f-bea9-861060020f4c",
   "metadata": {},
   "outputs": [],
   "source": [
    "tnf = ColumnTransformer([\n",
    "    ('fare_log', FunctionTransformer(np.log1p), ['Fare'])\n",
    "], remainder='passthrough')"
   ]
  },
  {
   "cell_type": "code",
   "execution_count": 83,
   "id": "16239458-958b-4419-b4cf-7c3aca8713a1",
   "metadata": {},
   "outputs": [],
   "source": [
    "x_train_transformed2 = tnf.fit_transform(x_train)\n",
    "x_test_transformed2 = tnf.transform(x_test)"
   ]
  },
  {
   "cell_type": "code",
   "execution_count": 85,
   "id": "f62ce13e-d688-4120-b31c-249b6acbe435",
   "metadata": {},
   "outputs": [
    {
     "name": "stdout",
     "output_type": "stream",
     "text": [
      "Accuracy LR 0.6703910614525139\n",
      "Accuracy DT 0.6815642458100558\n"
     ]
    }
   ],
   "source": [
    "clf = LogisticRegression()\n",
    "clf2 = DecisionTreeClassifier()\n",
    "\n",
    "clf.fit(x_train_transformed2, y_train)\n",
    "clf2.fit(x_train_transformed2, y_train)\n",
    "\n",
    "pred = clf.predict(x_test_transformed2)\n",
    "pred2 = clf2.predict(x_test_transformed2)\n",
    "\n",
    "print(\"Accuracy LR\", accuracy_score(y_test, pred))\n",
    "print(\"Accuracy DT\", accuracy_score(y_test, pred2))"
   ]
  },
  {
   "cell_type": "code",
   "execution_count": 86,
   "id": "bbe560a8-8263-41f5-855a-6367e1b6fe6f",
   "metadata": {},
   "outputs": [
    {
     "name": "stdout",
     "output_type": "stream",
     "text": [
      "0.6572378716744913\n",
      "0.615160406885759\n"
     ]
    }
   ],
   "source": [
    "# cross validate\n",
    "\n",
    "lr = np.mean(cross_val_score(estimator=clf, X=x_train_transformed2, y=y_train, scoring='accuracy', cv=10))\n",
    "dt = np.mean(cross_val_score(estimator=clf2, X=x_train_transformed2, y=y_train, scoring='accuracy', cv=10))\n",
    "\n",
    "print(lr)\n",
    "print(dt)"
   ]
  },
  {
   "cell_type": "code",
   "execution_count": null,
   "id": "88fe4a68-33fc-40c9-9d56-03e202262afc",
   "metadata": {},
   "outputs": [],
   "source": []
  }
 ],
 "metadata": {
  "kernelspec": {
   "display_name": "Python 3 (ipykernel)",
   "language": "python",
   "name": "python3"
  },
  "language_info": {
   "codemirror_mode": {
    "name": "ipython",
    "version": 3
   },
   "file_extension": ".py",
   "mimetype": "text/x-python",
   "name": "python",
   "nbconvert_exporter": "python",
   "pygments_lexer": "ipython3",
   "version": "3.13.2"
  }
 },
 "nbformat": 4,
 "nbformat_minor": 5
}
