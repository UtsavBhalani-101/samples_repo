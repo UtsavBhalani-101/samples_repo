{
 "cells": [
  {
   "cell_type": "code",
   "execution_count": 2,
   "id": "7f6db0b0-25e1-49c7-a56e-02aad5df2962",
   "metadata": {},
   "outputs": [],
   "source": [
    "import numpy as np\n",
    "import pandas as pd\n",
    "\n",
    "import scipy.stats as stats\n",
    "import matplotlib.pyplot as plt\n",
    "import seaborn as sns\n",
    "\n",
    "from sklearn.model_selection import train_test_split\n",
    "\n",
    "from sklearn.preprocessing import OneHotEncoder\n",
    "from sklearn.preprocessing import FunctionTransformer\n",
    "from sklearn.compose import ColumnTransformer\n",
    "\n",
    "from sklearn.pipeline import Pipeline, make_pipeline\n",
    "from sklearn.metrics import accuracy_score\n",
    "from sklearn.model_selection import cross_val_score\n",
    "\n",
    "from sklearn.linear_model import LogisticRegression\n",
    "from sklearn.tree import DecisionTreeClassifier"
   ]
  },
  {
   "cell_type": "code",
   "execution_count": 17,
   "id": "fc4d2aa1-9dae-443c-a0a5-e4c6bdf17b29",
   "metadata": {},
   "outputs": [],
   "source": [
    "df = pd.read_csv('140325_LoL_champion_data.csv')"
   ]
  },
  {
   "cell_type": "code",
   "execution_count": 34,
   "id": "4202d103-127c-484c-bd38-286679194146",
   "metadata": {},
   "outputs": [
    {
     "name": "stdout",
     "output_type": "stream",
     "text": [
      "<class 'pandas.core.frame.DataFrame'>\n",
      "RangeIndex: 172 entries, 0 to 171\n",
      "Data columns (total 28 columns):\n",
      " #   Column              Non-Null Count  Dtype  \n",
      "---  ------              --------------  -----  \n",
      " 0   id                  172 non-null    float64\n",
      " 1   apiname             172 non-null    object \n",
      " 2   title               172 non-null    object \n",
      " 3   difficulty          172 non-null    int64  \n",
      " 4   herotype            172 non-null    object \n",
      " 5   alttype             144 non-null    object \n",
      " 6   resource            167 non-null    object \n",
      " 7   stats               172 non-null    object \n",
      " 8   rangetype           172 non-null    object \n",
      " 9   role                172 non-null    object \n",
      " 10  client_positions    172 non-null    object \n",
      " 11  external_positions  172 non-null    object \n",
      " 12  damage              172 non-null    int64  \n",
      " 13  toughness           172 non-null    int64  \n",
      " 14  control             172 non-null    int64  \n",
      " 15  mobility            172 non-null    int64  \n",
      " 16  utility             172 non-null    int64  \n",
      " 17  style               172 non-null    int64  \n",
      " 18  adaptivetype        172 non-null    object \n",
      " 19  be                  172 non-null    int64  \n",
      " 20  rp                  172 non-null    int64  \n",
      " 21  skill_i             172 non-null    object \n",
      " 22  skill_q             172 non-null    object \n",
      " 23  skill_w             172 non-null    object \n",
      " 24  skill_e             172 non-null    object \n",
      " 25  skill_r             172 non-null    object \n",
      " 26  skills              170 non-null    object \n",
      " 27  fullname            43 non-null     object \n",
      "dtypes: float64(1), int64(9), object(18)\n",
      "memory usage: 37.8+ KB\n"
     ]
    }
   ],
   "source": [
    "df.info()"
   ]
  },
  {
   "cell_type": "code",
   "execution_count": 33,
   "id": "8c90295c-c590-486c-b61a-70f0df2074b9",
   "metadata": {},
   "outputs": [],
   "source": [
    "df.drop(columns=['date', 'patch', 'changes'], inplace=True)"
   ]
  },
  {
   "cell_type": "code",
   "execution_count": 20,
   "id": "3d468b28-13e9-4576-9af1-4c91e9009d72",
   "metadata": {},
   "outputs": [],
   "source": [
    "names = np.array(df[['Unnamed: 0', 'apiname']])"
   ]
  },
  {
   "cell_type": "code",
   "execution_count": 21,
   "id": "4cc02e82-33e8-48cd-bd0f-f9e696c3dec5",
   "metadata": {},
   "outputs": [],
   "source": [
    "df.drop(columns='Unnamed: 0', inplace=True)"
   ]
  },
  {
   "cell_type": "code",
   "execution_count": 35,
   "id": "2cb9705f-e8f6-44cb-894a-48b773254f29",
   "metadata": {},
   "outputs": [
    {
     "data": {
      "text/html": [
       "<div>\n",
       "<style scoped>\n",
       "    .dataframe tbody tr th:only-of-type {\n",
       "        vertical-align: middle;\n",
       "    }\n",
       "\n",
       "    .dataframe tbody tr th {\n",
       "        vertical-align: top;\n",
       "    }\n",
       "\n",
       "    .dataframe thead th {\n",
       "        text-align: right;\n",
       "    }\n",
       "</style>\n",
       "<table border=\"1\" class=\"dataframe\">\n",
       "  <thead>\n",
       "    <tr style=\"text-align: right;\">\n",
       "      <th></th>\n",
       "      <th>id</th>\n",
       "      <th>apiname</th>\n",
       "      <th>title</th>\n",
       "      <th>difficulty</th>\n",
       "      <th>herotype</th>\n",
       "      <th>alttype</th>\n",
       "      <th>resource</th>\n",
       "      <th>stats</th>\n",
       "      <th>rangetype</th>\n",
       "      <th>role</th>\n",
       "      <th>...</th>\n",
       "      <th>adaptivetype</th>\n",
       "      <th>be</th>\n",
       "      <th>rp</th>\n",
       "      <th>skill_i</th>\n",
       "      <th>skill_q</th>\n",
       "      <th>skill_w</th>\n",
       "      <th>skill_e</th>\n",
       "      <th>skill_r</th>\n",
       "      <th>skills</th>\n",
       "      <th>fullname</th>\n",
       "    </tr>\n",
       "  </thead>\n",
       "  <tbody>\n",
       "    <tr>\n",
       "      <th>0</th>\n",
       "      <td>266.0</td>\n",
       "      <td>Aatrox</td>\n",
       "      <td>the Darkin Blade</td>\n",
       "      <td>2</td>\n",
       "      <td>Fighter</td>\n",
       "      <td>Tank</td>\n",
       "      <td>Blood Well</td>\n",
       "      <td>{'hp_base': 650, 'hp_lvl': 114, 'mp_base': 0, ...</td>\n",
       "      <td>Melee</td>\n",
       "      <td>{'Juggernaut'}</td>\n",
       "      <td>...</td>\n",
       "      <td>Physical</td>\n",
       "      <td>2400</td>\n",
       "      <td>880</td>\n",
       "      <td>{1: 'Deathbringer Stance'}</td>\n",
       "      <td>{1: 'The Darkin Blade', 2: 'The Darkin Blade 3'}</td>\n",
       "      <td>{1: 'Infernal Chains'}</td>\n",
       "      <td>{1: 'Umbral Dash'}</td>\n",
       "      <td>{1: 'World Ender'}</td>\n",
       "      <td>{1: 'Deathbringer Stance', 2: 'The Darkin Blad...</td>\n",
       "      <td>NaN</td>\n",
       "    </tr>\n",
       "    <tr>\n",
       "      <th>1</th>\n",
       "      <td>103.0</td>\n",
       "      <td>Ahri</td>\n",
       "      <td>the Nine-Tailed Fox</td>\n",
       "      <td>2</td>\n",
       "      <td>Mage</td>\n",
       "      <td>Assassin</td>\n",
       "      <td>Mana</td>\n",
       "      <td>{'hp_base': 590, 'hp_lvl': 104, 'mp_base': 418...</td>\n",
       "      <td>Ranged</td>\n",
       "      <td>{'Burst'}</td>\n",
       "      <td>...</td>\n",
       "      <td>Magic</td>\n",
       "      <td>1575</td>\n",
       "      <td>790</td>\n",
       "      <td>{1: 'Essence Theft'}</td>\n",
       "      <td>{1: 'Orb of Deception'}</td>\n",
       "      <td>{1: 'Fox-Fire'}</td>\n",
       "      <td>{1: 'Charm'}</td>\n",
       "      <td>{1: 'Spirit Rush'}</td>\n",
       "      <td>{1: 'Essence Theft', 2: 'Orb of Deception', 3:...</td>\n",
       "      <td>NaN</td>\n",
       "    </tr>\n",
       "    <tr>\n",
       "      <th>2</th>\n",
       "      <td>84.0</td>\n",
       "      <td>Akali</td>\n",
       "      <td>the Rogue Assassin</td>\n",
       "      <td>2</td>\n",
       "      <td>Assassin</td>\n",
       "      <td>NaN</td>\n",
       "      <td>Energy</td>\n",
       "      <td>{'hp_base': 600, 'hp_lvl': 119, 'mp_base': 200...</td>\n",
       "      <td>Melee</td>\n",
       "      <td>{'Assassin'}</td>\n",
       "      <td>...</td>\n",
       "      <td>Physical</td>\n",
       "      <td>1575</td>\n",
       "      <td>790</td>\n",
       "      <td>{1: \"Assassin's Mark\"}</td>\n",
       "      <td>{1: 'Five Point Strike'}</td>\n",
       "      <td>{1: 'Twilight Shroud'}</td>\n",
       "      <td>{1: 'Shuriken Flip'}</td>\n",
       "      <td>{1: 'Perfect Execution'}</td>\n",
       "      <td>{1: \"Assassin's Mark\", 2: 'Five Point Strike',...</td>\n",
       "      <td>Akali Jhomen Tethi</td>\n",
       "    </tr>\n",
       "    <tr>\n",
       "      <th>3</th>\n",
       "      <td>166.0</td>\n",
       "      <td>Akshan</td>\n",
       "      <td>the Rogue Sentinel</td>\n",
       "      <td>3</td>\n",
       "      <td>Marksman</td>\n",
       "      <td>Assassin</td>\n",
       "      <td>Mana</td>\n",
       "      <td>{'hp_base': 630, 'hp_lvl': 107, 'mp_base': 350...</td>\n",
       "      <td>Ranged</td>\n",
       "      <td>{'Assassin', 'Marksman'}</td>\n",
       "      <td>...</td>\n",
       "      <td>Physical</td>\n",
       "      <td>2400</td>\n",
       "      <td>880</td>\n",
       "      <td>{1: 'Dirty Fighting'}</td>\n",
       "      <td>{1: 'Avengerang'}</td>\n",
       "      <td>{1: 'Going Rogue'}</td>\n",
       "      <td>{1: 'Heroic Swing'}</td>\n",
       "      <td>{1: 'Comeuppance'}</td>\n",
       "      <td>{1: 'Dirty Fighting', 2: 'Avengerang', 3: 'Goi...</td>\n",
       "      <td>NaN</td>\n",
       "    </tr>\n",
       "    <tr>\n",
       "      <th>4</th>\n",
       "      <td>12.0</td>\n",
       "      <td>Alistar</td>\n",
       "      <td>the Minotaur</td>\n",
       "      <td>1</td>\n",
       "      <td>Tank</td>\n",
       "      <td>Support</td>\n",
       "      <td>Mana</td>\n",
       "      <td>{'hp_base': 685, 'hp_lvl': 120, 'mp_base': 350...</td>\n",
       "      <td>Melee</td>\n",
       "      <td>{'Vanguard'}</td>\n",
       "      <td>...</td>\n",
       "      <td>Magic</td>\n",
       "      <td>675</td>\n",
       "      <td>585</td>\n",
       "      <td>{1: 'Triumphant Roar'}</td>\n",
       "      <td>{1: 'Pulverize'}</td>\n",
       "      <td>{1: 'Headbutt'}</td>\n",
       "      <td>{1: 'Trample'}</td>\n",
       "      <td>{1: 'Unbreakable Will'}</td>\n",
       "      <td>{1: 'Triumphant Roar', 2: 'Pulverize', 3: 'Hea...</td>\n",
       "      <td>NaN</td>\n",
       "    </tr>\n",
       "  </tbody>\n",
       "</table>\n",
       "<p>5 rows × 28 columns</p>\n",
       "</div>"
      ],
      "text/plain": [
       "      id  apiname                title  difficulty  herotype   alttype  \\\n",
       "0  266.0   Aatrox     the Darkin Blade           2   Fighter      Tank   \n",
       "1  103.0     Ahri  the Nine-Tailed Fox           2      Mage  Assassin   \n",
       "2   84.0    Akali   the Rogue Assassin           2  Assassin       NaN   \n",
       "3  166.0   Akshan   the Rogue Sentinel           3  Marksman  Assassin   \n",
       "4   12.0  Alistar         the Minotaur           1      Tank   Support   \n",
       "\n",
       "     resource                                              stats rangetype  \\\n",
       "0  Blood Well  {'hp_base': 650, 'hp_lvl': 114, 'mp_base': 0, ...     Melee   \n",
       "1        Mana  {'hp_base': 590, 'hp_lvl': 104, 'mp_base': 418...    Ranged   \n",
       "2      Energy  {'hp_base': 600, 'hp_lvl': 119, 'mp_base': 200...     Melee   \n",
       "3        Mana  {'hp_base': 630, 'hp_lvl': 107, 'mp_base': 350...    Ranged   \n",
       "4        Mana  {'hp_base': 685, 'hp_lvl': 120, 'mp_base': 350...     Melee   \n",
       "\n",
       "                       role  ... adaptivetype    be   rp  \\\n",
       "0            {'Juggernaut'}  ...     Physical  2400  880   \n",
       "1                 {'Burst'}  ...        Magic  1575  790   \n",
       "2              {'Assassin'}  ...     Physical  1575  790   \n",
       "3  {'Assassin', 'Marksman'}  ...     Physical  2400  880   \n",
       "4              {'Vanguard'}  ...        Magic   675  585   \n",
       "\n",
       "                      skill_i  \\\n",
       "0  {1: 'Deathbringer Stance'}   \n",
       "1        {1: 'Essence Theft'}   \n",
       "2      {1: \"Assassin's Mark\"}   \n",
       "3       {1: 'Dirty Fighting'}   \n",
       "4      {1: 'Triumphant Roar'}   \n",
       "\n",
       "                                            skill_q                 skill_w  \\\n",
       "0  {1: 'The Darkin Blade', 2: 'The Darkin Blade 3'}  {1: 'Infernal Chains'}   \n",
       "1                           {1: 'Orb of Deception'}         {1: 'Fox-Fire'}   \n",
       "2                          {1: 'Five Point Strike'}  {1: 'Twilight Shroud'}   \n",
       "3                                 {1: 'Avengerang'}      {1: 'Going Rogue'}   \n",
       "4                                  {1: 'Pulverize'}         {1: 'Headbutt'}   \n",
       "\n",
       "                skill_e                   skill_r  \\\n",
       "0    {1: 'Umbral Dash'}        {1: 'World Ender'}   \n",
       "1          {1: 'Charm'}        {1: 'Spirit Rush'}   \n",
       "2  {1: 'Shuriken Flip'}  {1: 'Perfect Execution'}   \n",
       "3   {1: 'Heroic Swing'}        {1: 'Comeuppance'}   \n",
       "4        {1: 'Trample'}   {1: 'Unbreakable Will'}   \n",
       "\n",
       "                                              skills            fullname  \n",
       "0  {1: 'Deathbringer Stance', 2: 'The Darkin Blad...                 NaN  \n",
       "1  {1: 'Essence Theft', 2: 'Orb of Deception', 3:...                 NaN  \n",
       "2  {1: \"Assassin's Mark\", 2: 'Five Point Strike',...  Akali Jhomen Tethi  \n",
       "3  {1: 'Dirty Fighting', 2: 'Avengerang', 3: 'Goi...                 NaN  \n",
       "4  {1: 'Triumphant Roar', 2: 'Pulverize', 3: 'Hea...                 NaN  \n",
       "\n",
       "[5 rows x 28 columns]"
      ]
     },
     "execution_count": 35,
     "metadata": {},
     "output_type": "execute_result"
    }
   ],
   "source": [
    "df.head()"
   ]
  },
  {
   "cell_type": "code",
   "execution_count": 36,
   "id": "53a36a6e-d4a0-46d3-b63f-d47a97a0cd44",
   "metadata": {},
   "outputs": [
    {
     "data": {
      "text/plain": [
       "role\n",
       "{'Marksman'}                  21\n",
       "{'Vanguard'}                  16\n",
       "{'Diver'}                     15\n",
       "{'Juggernaut'}                14\n",
       "{'Specialist'}                14\n",
       "{'Skirmisher'}                14\n",
       "{'Assassin'}                  13\n",
       "{'Battlemage'}                11\n",
       "{'Burst'}                     11\n",
       "{'Enchanter'}                  8\n",
       "{'Catcher'}                    7\n",
       "{'Artillery'}                  6\n",
       "{'Warden'}                     5\n",
       "{'Diver', 'Assassin'}          2\n",
       "{'Burst', 'Enchanter'}         2\n",
       "{'Assassin', 'Marksman'}       1\n",
       "{'Burst', 'Assassin'}          1\n",
       "{'Diver', 'Skirmisher'}        1\n",
       "{'Catcher', 'Marksman'}        1\n",
       "{'Warden', 'Skirmisher'}       1\n",
       "{'Burst', 'Artillery'}         1\n",
       "{'Burst', 'Catcher'}           1\n",
       "{'Catcher', 'Assassin'}        1\n",
       "{'Enchanter', 'Marksman'}      1\n",
       "{'Burst', 'Skirmisher'}        1\n",
       "{'Enchanter', 'Warden'}        1\n",
       "{'Artillery', 'Marksman'}      1\n",
       "{'Skirmisher', 'Assassin'}     1\n",
       "Name: count, dtype: int64"
      ]
     },
     "execution_count": 36,
     "metadata": {},
     "output_type": "execute_result"
    }
   ],
   "source": [
    "df['role'].value_counts()"
   ]
  },
  {
   "cell_type": "code",
   "execution_count": 39,
   "id": "862547ea-391a-41d7-8bf4-e30d975e3e0c",
   "metadata": {},
   "outputs": [
    {
     "data": {
      "text/plain": [
       "rangetype\n",
       "Melee     91\n",
       "Ranged    81\n",
       "Name: count, dtype: int64"
      ]
     },
     "execution_count": 39,
     "metadata": {},
     "output_type": "execute_result"
    }
   ],
   "source": [
    "df['rangetype'].value_counts()"
   ]
  },
  {
   "cell_type": "code",
   "execution_count": 45,
   "id": "738dd8e0-e217-4d2d-808c-d23cde0a3a9d",
   "metadata": {},
   "outputs": [
    {
     "data": {
      "text/plain": [
       "<Axes: xlabel='be', ylabel='rp'>"
      ]
     },
     "execution_count": 45,
     "metadata": {},
     "output_type": "execute_result"
    },
    {
     "data": {
      "image/png": "[encoded data removed]",
      "text/plain": [
       "<Figure size 640x480 with 1 Axes>"
      ]
     },
     "metadata": {},
     "output_type": "display_data"
    }
   ],
   "source": [
    "sns.scatterplot(data=df, x='be', y='rp', hue='difficulty')"
   ]
  },
  {
   "cell_type": "code",
   "execution_count": 46,
   "id": "8325fdb2-351f-4f4b-be3c-a55ec858c936",
   "metadata": {},
   "outputs": [
    {
     "data": {
      "text/plain": [
       "alttype\n",
       "Mage        38\n",
       "Assassin    31\n",
       "Support     28\n",
       "Tank        25\n",
       "Fighter     17\n",
       "Marksman     5\n",
       "Name: count, dtype: int64"
      ]
     },
     "execution_count": 46,
     "metadata": {},
     "output_type": "execute_result"
    }
   ],
   "source": [
    "df['alttype'].value_counts()"
   ]
  },
  {
   "cell_type": "code",
   "execution_count": null,
   "id": "b0897980-b678-4491-8043-cc6d50558f13",
   "metadata": {},
   "outputs": [],
   "source": []
  },
  {
   "cell_type": "code",
   "execution_count": null,
   "id": "d8b0f57e-a044-4b06-9ff0-a8f2cc0bc1b9",
   "metadata": {},
   "outputs": [],
   "source": []
  }
 ],
 "metadata": {
  "kernelspec": {
   "display_name": "Python 3 (ipykernel)",
   "language": "python",
   "name": "python3"
  },
  "language_info": {
   "codemirror_mode": {
    "name": "ipython",
    "version": 3
   },
   "file_extension": ".py",
   "mimetype": "text/x-python",
   "name": "python",
   "nbconvert_exporter": "python",
   "pygments_lexer": "ipython3",
   "version": "3.13.2"
  }
 },
 "nbformat": 4,
 "nbformat_minor": 5
}
