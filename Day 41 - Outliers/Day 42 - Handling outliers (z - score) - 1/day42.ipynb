{
 "cells": [
  {
   "cell_type": "code",
   "execution_count": 2,
   "id": "bb7baf9e-84ff-4f8a-b10c-fa94169eedf4",
   "metadata": {},
   "outputs": [],
   "source": [
    "import numpy as np\n",
    "import pandas as pd\n",
    "import matplotlib.pyplot as plt\n",
    "import seaborn as sns"
   ]
  },
  {
   "cell_type": "code",
   "execution_count": 3,
   "id": "c0a0305e-4f4e-46e1-a6f1-13d03110f88e",
   "metadata": {},
   "outputs": [],
   "source": [
    "df = pd.read_csv('placement.csv')"
   ]
  },
  {
   "cell_type": "code",
   "execution_count": 4,
   "id": "85032c0d-f22e-4910-93f4-415268f9c1ae",
   "metadata": {},
   "outputs": [
    {
     "data": {
      "text/html": [
       "<div>\n",
       "<style scoped>\n",
       "    .dataframe tbody tr th:only-of-type {\n",
       "        vertical-align: middle;\n",
       "    }\n",
       "\n",
       "    .dataframe tbody tr th {\n",
       "        vertical-align: top;\n",
       "    }\n",
       "\n",
       "    .dataframe thead th {\n",
       "        text-align: right;\n",
       "    }\n",
       "</style>\n",
       "<table border=\"1\" class=\"dataframe\">\n",
       "  <thead>\n",
       "    <tr style=\"text-align: right;\">\n",
       "      <th></th>\n",
       "      <th>cgpa</th>\n",
       "      <th>placement_exam_marks</th>\n",
       "      <th>placed</th>\n",
       "    </tr>\n",
       "  </thead>\n",
       "  <tbody>\n",
       "    <tr>\n",
       "      <th>0</th>\n",
       "      <td>7.19</td>\n",
       "      <td>26.0</td>\n",
       "      <td>1</td>\n",
       "    </tr>\n",
       "    <tr>\n",
       "      <th>1</th>\n",
       "      <td>7.46</td>\n",
       "      <td>38.0</td>\n",
       "      <td>1</td>\n",
       "    </tr>\n",
       "    <tr>\n",
       "      <th>2</th>\n",
       "      <td>7.54</td>\n",
       "      <td>40.0</td>\n",
       "      <td>1</td>\n",
       "    </tr>\n",
       "    <tr>\n",
       "      <th>3</th>\n",
       "      <td>6.42</td>\n",
       "      <td>8.0</td>\n",
       "      <td>1</td>\n",
       "    </tr>\n",
       "    <tr>\n",
       "      <th>4</th>\n",
       "      <td>7.23</td>\n",
       "      <td>17.0</td>\n",
       "      <td>0</td>\n",
       "    </tr>\n",
       "  </tbody>\n",
       "</table>\n",
       "</div>"
      ],
      "text/plain": [
       "   cgpa  placement_exam_marks  placed\n",
       "0  7.19                  26.0       1\n",
       "1  7.46                  38.0       1\n",
       "2  7.54                  40.0       1\n",
       "3  6.42                   8.0       1\n",
       "4  7.23                  17.0       0"
      ]
     },
     "execution_count": 4,
     "metadata": {},
     "output_type": "execute_result"
    }
   ],
   "source": [
    "df.head()"
   ]
  },
  {
   "cell_type": "code",
   "execution_count": 5,
   "id": "b63609d1-1551-4562-9031-ecc56ea3dff4",
   "metadata": {},
   "outputs": [
    {
     "name": "stdout",
     "output_type": "stream",
     "text": [
      "<class 'pandas.core.frame.DataFrame'>\n",
      "RangeIndex: 1000 entries, 0 to 999\n",
      "Data columns (total 3 columns):\n",
      " #   Column                Non-Null Count  Dtype  \n",
      "---  ------                --------------  -----  \n",
      " 0   cgpa                  1000 non-null   float64\n",
      " 1   placement_exam_marks  1000 non-null   float64\n",
      " 2   placed                1000 non-null   int64  \n",
      "dtypes: float64(2), int64(1)\n",
      "memory usage: 23.6 KB\n"
     ]
    }
   ],
   "source": [
    "df.info()"
   ]
  },
  {
   "cell_type": "markdown",
   "id": "ac443fa1-9323-47a3-b871-ac873d72ce17",
   "metadata": {},
   "source": [
    "# Normally predicting the val"
   ]
  },
  {
   "cell_type": "code",
   "execution_count": 6,
   "id": "699e99c3-bf8d-4ccf-99c0-18d056716c19",
   "metadata": {},
   "outputs": [],
   "source": [
    "from sklearn.model_selection import train_test_split\n",
    "\n",
    "x = df.iloc[:, 0:-1]\n",
    "y = df.iloc[:, -1]\n",
    "\n",
    "x_train, x_test, y_train, y_test = train_test_split(x, y, test_size=0.2, random_state=42)"
   ]
  },
  {
   "cell_type": "code",
   "execution_count": 7,
   "id": "5ae19001-ce4c-44f1-8053-0f48c9047b5b",
   "metadata": {},
   "outputs": [],
   "source": [
    "# scaling the vals \n",
    "from sklearn.compose import ColumnTransformer\n",
    "from sklearn.preprocessing import StandardScaler\n",
    "\n",
    "tnf = ColumnTransformer([\n",
    "    ('trf1', StandardScaler(), ['cgpa', 'placement_exam_marks'])\n",
    "])"
   ]
  },
  {
   "cell_type": "code",
   "execution_count": 8,
   "id": "ef5cf7f4-412f-48b0-bfec-3b75e04e3320",
   "metadata": {},
   "outputs": [],
   "source": [
    "trfd_xtrain = tnf.fit_transform(x_train)\n",
    "trfd_xtest = tnf.transform(x_test)"
   ]
  },
  {
   "cell_type": "code",
   "execution_count": 9,
   "id": "11bd0f50-c0a4-4c75-8e7f-cdf2560b7ab5",
   "metadata": {},
   "outputs": [
    {
     "name": "stdout",
     "output_type": "stream",
     "text": [
      "0.535\n",
      "0.495\n"
     ]
    }
   ],
   "source": [
    "# predicting the vals \n",
    "from sklearn.linear_model import LogisticRegression\n",
    "from sklearn.tree import DecisionTreeClassifier\n",
    "from sklearn.metrics import accuracy_score\n",
    "\n",
    "clf = LogisticRegression()\n",
    "clf2 = DecisionTreeClassifier()\n",
    "\n",
    "clf.fit(trfd_xtrain, y_train)\n",
    "clf2.fit(trfd_xtrain, y_train)\n",
    "\n",
    "pred = clf.predict(trfd_xtest)\n",
    "pred2 = clf2.predict(trfd_xtest)\n",
    "\n",
    "print(accuracy_score(y_test, pred))\n",
    "print(accuracy_score(y_test, pred2))"
   ]
  },
  {
   "cell_type": "code",
   "execution_count": 10,
   "id": "65dd3bdf-54c0-4b3f-b461-91e594ceef25",
   "metadata": {},
   "outputs": [
    {
     "name": "stdout",
     "output_type": "stream",
     "text": [
      "0.5149999999999999\n",
      "0.46125\n"
     ]
    }
   ],
   "source": [
    "from sklearn.model_selection import cross_val_score\n",
    "\n",
    "print(np.mean(cross_val_score(estimator=clf, X=trfd_xtrain, y=y_train, cv=10)))\n",
    "print(np.mean(cross_val_score(estimator=clf2, X=trfd_xtrain, y=y_train, cv=10)))"
   ]
  },
  {
   "cell_type": "markdown",
   "id": "2a731616-f551-44ef-acb2-53eeee0fdf2a",
   "metadata": {},
   "source": [
    "# After treating the outliers"
   ]
  },
  {
   "cell_type": "code",
   "execution_count": 11,
   "id": "585e9f8a-931b-42b6-b471-69c51747014b",
   "metadata": {},
   "outputs": [
    {
     "data": {
      "text/plain": [
       "<Axes: xlabel='cgpa', ylabel='Count'>"
      ]
     },
     "execution_count": 11,
     "metadata": {},
     "output_type": "execute_result"
    },
    {
     "data": {
      "image/png": "[encoded data removed]",
      "text/plain": [
       "<Figure size 640x480 with 1 Axes>"
      ]
     },
     "metadata": {},
     "output_type": "display_data"
    }
   ],
   "source": [
    "sns.histplot(df['cgpa'], kde=True)"
   ]
  },
  {
   "cell_type": "code",
   "execution_count": 12,
   "id": "68506ee7-8235-4560-a538-3ddd0e1768c3",
   "metadata": {},
   "outputs": [
    {
     "data": {
      "text/plain": [
       "array([-3.31590913, -3.36464288, -3.34839829])"
      ]
     },
     "execution_count": 12,
     "metadata": {},
     "output_type": "execute_result"
    }
   ],
   "source": [
    "# to find outliers - 1 \n",
    "# using standard scaler\n",
    "\n",
    "sclr = StandardScaler()\n",
    "new_df = sclr.fit_transform(pd.DataFrame(df['cgpa']))\n",
    "new_df[new_df < -3]"
   ]
  },
  {
   "cell_type": "code",
   "execution_count": 13,
   "id": "b4e24906-0c5c-465b-b4ff-bd874ece7d03",
   "metadata": {},
   "outputs": [
    {
     "data": {
      "text/plain": [
       "485   -3.314251\n",
       "997   -3.362960\n",
       "999   -3.346724\n",
       "Name: cgpa, dtype: float64"
      ]
     },
     "execution_count": 13,
     "metadata": {},
     "output_type": "execute_result"
    }
   ],
   "source": [
    "# outliers - 2 (using z score formula --- xi - mean / std)\n",
    "\n",
    "new_df = (df['cgpa'] - df['cgpa'].mean()) / df['cgpa'].std()\n",
    "new_df[new_df < -3]"
   ]
  },
  {
   "cell_type": "code",
   "execution_count": 14,
   "id": "1ec5d93f-8439-4244-90fb-853979e2bf9a",
   "metadata": {},
   "outputs": [],
   "source": [
    "# outliers - 3 (using the normal curve)\n",
    "# max - mean +/- 3*std\n",
    "\n",
    "mean_val = df['cgpa'].mean()\n",
    "std_val = df['cgpa'].std()\n",
    "\n",
    "maxi = mean_val + 3*std_val\n",
    "mini = mean_val - 3*std_val\n",
    "\n",
    "outliers = df[(df['cgpa'] > maxi) | (df['cgpa'] < mini)]"
   ]
  },
  {
   "cell_type": "markdown",
   "id": "4e2dc202-48a0-433c-818d-03b1da534cba",
   "metadata": {},
   "source": [
    "# Treating outliers - Trimming"
   ]
  },
  {
   "cell_type": "code",
   "execution_count": 15,
   "id": "a443d759-9ea5-4dea-8436-af9c2f90262f",
   "metadata": {},
   "outputs": [],
   "source": [
    "x = df.iloc[:, 0:-1]\n",
    "y = df.iloc[:, -1]\n",
    "\n",
    "x_train, x_test, y_train, y_test = train_test_split(x, y, test_size=0.2, random_state=42)"
   ]
  },
  {
   "cell_type": "code",
   "execution_count": 16,
   "id": "12968b73-ac93-49df-a5b2-460151cd63c7",
   "metadata": {},
   "outputs": [],
   "source": [
    "maxi = (x_train['cgpa'].mean()) + (3*(x_train['cgpa'].std()))\n",
    "mixi = (x_train['cgpa'].mean()) - (3*(x_train['cgpa'].std()))\n",
    "\n",
    "\n",
    "cleaned_xtrain = x_train[(x_train['cgpa'] < maxi) & (x_train['cgpa'] > mini)]\n",
    "cleaned_ytrain = y_train[(x_train['cgpa'] < maxi) & (x_train['cgpa'] > mini)]"
   ]
  },
  {
   "cell_type": "code",
   "execution_count": 33,
   "id": "78fc4d42-569e-4b35-9a44-a7c25c1559c7",
   "metadata": {},
   "outputs": [
    {
     "data": {
      "text/plain": [
       "29     1\n",
       "535    0\n",
       "695    1\n",
       "557    0\n",
       "836    1\n",
       "      ..\n",
       "106    0\n",
       "270    1\n",
       "860    0\n",
       "435    0\n",
       "102    1\n",
       "Name: placed, Length: 796, dtype: int64"
      ]
     },
     "execution_count": 33,
     "metadata": {},
     "output_type": "execute_result"
    }
   ],
   "source": [
    "cleaned_ytrain"
   ]
  },
  {
   "cell_type": "code",
   "execution_count": 18,
   "id": "bdf942ca-ce11-4b05-8996-0ec97731eaf1",
   "metadata": {},
   "outputs": [],
   "source": [
    "maxi = x_train['cgpa'].mean() + 3*(x_train['cgpa'].std())\n",
    "mixi = x_train['cgpa'].mean() - 3*(x_train['cgpa'].std())\n",
    "\n",
    "cleaned_xtest = x_test[(x_test['cgpa'] < maxi) & (x_test['cgpa'] > mini)]\n",
    "cleaned_ytest = y_test[(x_test['cgpa'] < maxi) & (x_test['cgpa'] > mini)]"
   ]
  },
  {
   "cell_type": "code",
   "execution_count": 19,
   "id": "22b108e3-17c3-470a-91f1-19be14522850",
   "metadata": {},
   "outputs": [
    {
     "data": {
      "text/plain": [
       "(199,)"
      ]
     },
     "execution_count": 19,
     "metadata": {},
     "output_type": "execute_result"
    }
   ],
   "source": [
    "cleaned_ytest.shape"
   ]
  },
  {
   "cell_type": "code",
   "execution_count": 20,
   "id": "a5298969-b79b-4723-9e01-740c16078be6",
   "metadata": {},
   "outputs": [],
   "source": [
    "trf = ColumnTransformer([\n",
    "    ('tnf1', StandardScaler(), ['cgpa', 'placement_exam_marks'])\n",
    "])"
   ]
  },
  {
   "cell_type": "code",
   "execution_count": 21,
   "id": "1ae2cb50-f4b2-4e05-96c1-15c83eeb15e8",
   "metadata": {},
   "outputs": [],
   "source": [
    "trfd_xtrain = trf.fit_transform(cleaned_xtrain)\n",
    "trfd_xtest = trf.transform(cleaned_xtest)"
   ]
  },
  {
   "cell_type": "code",
   "execution_count": 22,
   "id": "9a5c4824-bd03-4dc3-a1cf-9aae581ef7f7",
   "metadata": {},
   "outputs": [
    {
     "name": "stdout",
     "output_type": "stream",
     "text": [
      "0.5577889447236181\n",
      "0.5025125628140703\n"
     ]
    }
   ],
   "source": [
    "clf = LogisticRegression()\n",
    "clf2 = DecisionTreeClassifier()\n",
    "\n",
    "clf.fit(trfd_xtrain, cleaned_ytrain)\n",
    "clf2.fit(trfd_xtrain, cleaned_ytrain)\n",
    "\n",
    "pred = clf.predict(trfd_xtest)\n",
    "pred2 = clf2.predict(trfd_xtest)\n",
    "\n",
    "print(accuracy_score(cleaned_ytest, pred))\n",
    "print(accuracy_score(cleaned_ytest, pred2))\n"
   ]
  },
  {
   "cell_type": "code",
   "execution_count": 23,
   "id": "32b2716c-1ede-44d8-8cef-8254c9cffb85",
   "metadata": {},
   "outputs": [
    {
     "name": "stdout",
     "output_type": "stream",
     "text": [
      "0.5025632911392405\n",
      "0.45469936708860753\n"
     ]
    }
   ],
   "source": [
    "print(np.mean(cross_val_score(estimator=clf, X=trfd_xtrain, y=cleaned_ytrain, cv=10)))\n",
    "print(np.mean(cross_val_score(estimator=clf2, X=trfd_xtrain, y=cleaned_ytrain, cv=10)))"
   ]
  },
  {
   "cell_type": "markdown",
   "id": "d3d0cf6a-80bd-4732-b30a-a4a4a6ca1f51",
   "metadata": {},
   "source": [
    "# Capping"
   ]
  },
  {
   "cell_type": "code",
   "execution_count": 24,
   "id": "dc981b2c-1a29-45e6-bb1c-b20ad47f9146",
   "metadata": {},
   "outputs": [],
   "source": [
    "x = df.iloc[:, 0:-1]\n",
    "y = df.iloc[:, -1]\n",
    "\n",
    "x_train, x_test, y_train, y_test = train_test_split(x, y, test_size=0.2, random_state=42)"
   ]
  },
  {
   "cell_type": "code",
   "execution_count": 25,
   "id": "220ef047-fc43-4b5e-9033-3b31e9a3a397",
   "metadata": {},
   "outputs": [],
   "source": [
    "maxi = (x_train['cgpa'].mean()) + (3*(x_train['cgpa'].std()))\n",
    "mixi = (x_train['cgpa'].mean()) - (3*(x_train['cgpa'].std()))\n",
    "\n",
    "x_train['cgpa'] = np.where(\n",
    "    x_train['cgpa'] > maxi,\n",
    "    maxi,\n",
    "    np.where(\n",
    "        x_train['cgpa'] < mini,\n",
    "        mini,\n",
    "        x_train['cgpa']\n",
    "    )\n",
    ")\n",
    "\n",
    "\n",
    "x_test['cgpa'] = np.where(\n",
    "    x_test['cgpa'] > maxi,\n",
    "    maxi,\n",
    "    np.where(\n",
    "        x_test['cgpa'] < mini,\n",
    "        mini,\n",
    "        x_test['cgpa']\n",
    "    )\n",
    ")\n"
   ]
  },
  {
   "cell_type": "code",
   "execution_count": 26,
   "id": "a67b04bb-fbd2-4ca9-9409-3cbf004abda6",
   "metadata": {},
   "outputs": [],
   "source": [
    "trf = ColumnTransformer([\n",
    "    ('tnf1', StandardScaler(), ['cgpa', 'placement_exam_marks'])\n",
    "])"
   ]
  },
  {
   "cell_type": "code",
   "execution_count": 27,
   "id": "5d9da433-662e-4657-b3fe-fa7f5915b01d",
   "metadata": {},
   "outputs": [],
   "source": [
    "trfd_xtrain = trf.fit_transform(x_train)\n",
    "trfd_xtest = trf.transform(x_test)"
   ]
  },
  {
   "cell_type": "code",
   "execution_count": 28,
   "id": "4f420c55-1792-431d-97ec-43e9bfc0d6ef",
   "metadata": {},
   "outputs": [
    {
     "name": "stdout",
     "output_type": "stream",
     "text": [
      "0.545\n",
      "0.505\n"
     ]
    }
   ],
   "source": [
    "clf = LogisticRegression()\n",
    "clf2 = DecisionTreeClassifier()\n",
    "\n",
    "clf.fit(trfd_xtrain, y_train)\n",
    "clf2.fit(trfd_xtrain, y_train)\n",
    "\n",
    "pred = clf.predict(trfd_xtest)\n",
    "pred2 = clf2.predict(trfd_xtest)\n",
    "\n",
    "print(accuracy_score(y_test, pred))\n",
    "print(accuracy_score(y_test, pred2))\n"
   ]
  },
  {
   "cell_type": "code",
   "execution_count": 30,
   "id": "b7c5cb15-14b8-458a-b792-6b1a873cd9b2",
   "metadata": {},
   "outputs": [
    {
     "name": "stdout",
     "output_type": "stream",
     "text": [
      "0.5137499999999999\n",
      "0.45999999999999996\n"
     ]
    }
   ],
   "source": [
    "print(np.mean(cross_val_score(estimator=clf, X=trfd_xtrain, y=y_train, cv=10)))\n",
    "print(np.mean(cross_val_score(estimator=clf2, X=trfd_xtrain, y=y_train, cv=10)))"
   ]
  },
  {
   "cell_type": "code",
   "execution_count": null,
   "id": "07e10d69-870f-4ec0-9099-1aa2f80bb0d0",
   "metadata": {},
   "outputs": [],
   "source": []
  }
 ],
 "metadata": {
  "kernelspec": {
   "display_name": "Python 3 (ipykernel)",
   "language": "python",
   "name": "python3"
  },
  "language_info": {
   "codemirror_mode": {
    "name": "ipython",
    "version": 3
   },
   "file_extension": ".py",
   "mimetype": "text/x-python",
   "name": "python",
   "nbconvert_exporter": "python",
   "pygments_lexer": "ipython3",
   "version": "3.13.2"
  }
 },
 "nbformat": 4,
 "nbformat_minor": 5
}
