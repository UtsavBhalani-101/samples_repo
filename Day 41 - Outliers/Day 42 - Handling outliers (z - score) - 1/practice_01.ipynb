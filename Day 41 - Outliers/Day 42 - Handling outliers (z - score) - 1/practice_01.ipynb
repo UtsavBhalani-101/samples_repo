{
 "cells": [
  {
   "cell_type": "code",
   "execution_count": 1,
   "id": "284152f3-117b-447c-a035-e09867d6cba2",
   "metadata": {},
   "outputs": [],
   "source": [
    "import numpy as np\n",
    "import pandas as pd\n",
    "import matplotlib.pyplot as plt\n",
    "import seaborn as sns"
   ]
  },
  {
   "cell_type": "code",
   "execution_count": 164,
   "id": "957ecd50-b7ea-4e67-ad4b-a9deecaae58e",
   "metadata": {},
   "outputs": [],
   "source": [
    "from sklearn.model_selection import train_test_split\n",
    "from sklearn.preprocessing import StandardScaler\n",
    "from sklearn.compose import ColumnTransformer\n",
    "\n",
    "from sklearn.linear_model import LogisticRegression\n",
    "from sklearn.tree import DecisionTreeClassifier\n",
    "\n",
    "from sklearn.metrics import accuracy_score\n",
    "from sklearn.model_selection import cross_val_score"
   ]
  },
  {
   "cell_type": "code",
   "execution_count": 165,
   "id": "31cbab4e-0cc2-4aa3-a19c-fe92be1612af",
   "metadata": {},
   "outputs": [],
   "source": [
    "df = pd.read_csv('placement.csv')"
   ]
  },
  {
   "cell_type": "code",
   "execution_count": 166,
   "id": "c10fad91-4fdd-41ef-ab4a-53e24f0b77aa",
   "metadata": {},
   "outputs": [
    {
     "data": {
      "text/html": [
       "<div>\n",
       "<style scoped>\n",
       "    .dataframe tbody tr th:only-of-type {\n",
       "        vertical-align: middle;\n",
       "    }\n",
       "\n",
       "    .dataframe tbody tr th {\n",
       "        vertical-align: top;\n",
       "    }\n",
       "\n",
       "    .dataframe thead th {\n",
       "        text-align: right;\n",
       "    }\n",
       "</style>\n",
       "<table border=\"1\" class=\"dataframe\">\n",
       "  <thead>\n",
       "    <tr style=\"text-align: right;\">\n",
       "      <th></th>\n",
       "      <th>cgpa</th>\n",
       "      <th>placement_exam_marks</th>\n",
       "      <th>placed</th>\n",
       "    </tr>\n",
       "  </thead>\n",
       "  <tbody>\n",
       "    <tr>\n",
       "      <th>0</th>\n",
       "      <td>7.19</td>\n",
       "      <td>26.0</td>\n",
       "      <td>1</td>\n",
       "    </tr>\n",
       "    <tr>\n",
       "      <th>1</th>\n",
       "      <td>7.46</td>\n",
       "      <td>38.0</td>\n",
       "      <td>1</td>\n",
       "    </tr>\n",
       "    <tr>\n",
       "      <th>2</th>\n",
       "      <td>7.54</td>\n",
       "      <td>40.0</td>\n",
       "      <td>1</td>\n",
       "    </tr>\n",
       "    <tr>\n",
       "      <th>3</th>\n",
       "      <td>6.42</td>\n",
       "      <td>8.0</td>\n",
       "      <td>1</td>\n",
       "    </tr>\n",
       "    <tr>\n",
       "      <th>4</th>\n",
       "      <td>7.23</td>\n",
       "      <td>17.0</td>\n",
       "      <td>0</td>\n",
       "    </tr>\n",
       "  </tbody>\n",
       "</table>\n",
       "</div>"
      ],
      "text/plain": [
       "   cgpa  placement_exam_marks  placed\n",
       "0  7.19                  26.0       1\n",
       "1  7.46                  38.0       1\n",
       "2  7.54                  40.0       1\n",
       "3  6.42                   8.0       1\n",
       "4  7.23                  17.0       0"
      ]
     },
     "execution_count": 166,
     "metadata": {},
     "output_type": "execute_result"
    }
   ],
   "source": [
    "df.head()"
   ]
  },
  {
   "cell_type": "code",
   "execution_count": 167,
   "id": "03c92590-8d4a-4170-8204-0aa46b5622fe",
   "metadata": {},
   "outputs": [
    {
     "name": "stdout",
     "output_type": "stream",
     "text": [
      "<class 'pandas.core.frame.DataFrame'>\n",
      "RangeIndex: 1000 entries, 0 to 999\n",
      "Data columns (total 3 columns):\n",
      " #   Column                Non-Null Count  Dtype  \n",
      "---  ------                --------------  -----  \n",
      " 0   cgpa                  1000 non-null   float64\n",
      " 1   placement_exam_marks  1000 non-null   float64\n",
      " 2   placed                1000 non-null   int64  \n",
      "dtypes: float64(2), int64(1)\n",
      "memory usage: 23.6 KB\n"
     ]
    }
   ],
   "source": [
    "df.info()"
   ]
  },
  {
   "cell_type": "markdown",
   "id": "9ced7204-32f9-4d38-80df-5132ee1b94aa",
   "metadata": {},
   "source": [
    "# Normally predicting "
   ]
  },
  {
   "cell_type": "code",
   "execution_count": 168,
   "id": "fe9239dc-bef1-4946-877b-f7bd48f0e0c1",
   "metadata": {},
   "outputs": [],
   "source": [
    "x = df.iloc[:, 0:-1]\n",
    "y = df.iloc[:, -1]\n",
    "\n",
    "x_train, x_test, y_train, y_test = train_test_split(x, y, test_size=0.15, random_state=42)"
   ]
  },
  {
   "cell_type": "code",
   "execution_count": 169,
   "id": "14382b80-35ef-4871-9cb1-d0cf5c3c45e0",
   "metadata": {},
   "outputs": [],
   "source": [
    "tnf = ColumnTransformer([\n",
    "    ('tnf1', StandardScaler(), ['cgpa', 'placement_exam_marks'])\n",
    "])"
   ]
  },
  {
   "cell_type": "code",
   "execution_count": 170,
   "id": "dac75e45-ec2a-4a45-9271-529dfb16e14e",
   "metadata": {},
   "outputs": [],
   "source": [
    "trfd_xtrain = tnf.fit_transform(x_train)\n",
    "trfd_xtest = tnf.transform(x_test)"
   ]
  },
  {
   "cell_type": "code",
   "execution_count": 171,
   "id": "d8879187-33ad-4155-a8db-4d20682c011f",
   "metadata": {},
   "outputs": [
    {
     "name": "stdout",
     "output_type": "stream",
     "text": [
      "0.5466666666666666\n",
      "0.5533333333333333\n"
     ]
    }
   ],
   "source": [
    "# predicting the vals\n",
    "\n",
    "clf = LogisticRegression()\n",
    "clf2 = DecisionTreeClassifier()\n",
    "\n",
    "clf.fit(trfd_xtrain, y_train)\n",
    "clf2.fit(trfd_xtrain, y_train)\n",
    "\n",
    "pred = clf.predict(trfd_xtest)\n",
    "pred2 = clf2.predict(trfd_xtest)\n",
    "\n",
    "print(accuracy_score(pred, y_test))\n",
    "print(accuracy_score(pred2, y_test))"
   ]
  },
  {
   "cell_type": "code",
   "execution_count": 172,
   "id": "48e7e87b-a192-496f-96d7-fd2041e68623",
   "metadata": {},
   "outputs": [
    {
     "name": "stdout",
     "output_type": "stream",
     "text": [
      "0.5235294117647058\n",
      "0.47411764705882353\n"
     ]
    }
   ],
   "source": [
    "print(np.mean(cross_val_score(estimator=clf, X=trfd_xtrain, y=y_train, cv=10)))\n",
    "print(np.mean(cross_val_score(estimator=clf2, X=trfd_xtrain, y=y_train, cv=10)))"
   ]
  },
  {
   "cell_type": "markdown",
   "id": "7427c402-3927-49ee-bf58-82714990cb6c",
   "metadata": {},
   "source": [
    "# Dealing with outliers"
   ]
  },
  {
   "cell_type": "code",
   "execution_count": 54,
   "id": "42f1ed43-22eb-4fb5-a0b3-a2b98b5c4a8e",
   "metadata": {},
   "outputs": [],
   "source": [
    "x = df.iloc[:, 0:-1]\n",
    "y = df.iloc[:, -1]\n",
    "\n",
    "x_train, x_test, y_train, y_test = train_test_split(x, y, test_size=0.15, random_state=42)"
   ]
  },
  {
   "cell_type": "code",
   "execution_count": 55,
   "id": "e4b8bcb9-aeb7-4276-8cc3-13bc3442baa1",
   "metadata": {},
   "outputs": [],
   "source": [
    "# find outliers using StandardScaler\n",
    "\n",
    "sclr = StandardScaler()\n",
    "new_df = sclr.fit_transform(pd.DataFrame(x_train['cgpa']))\n"
   ]
  },
  {
   "cell_type": "code",
   "execution_count": 56,
   "id": "eec06b21-7826-401c-903e-183735adea60",
   "metadata": {},
   "outputs": [],
   "source": [
    "# using the z score formula\n",
    "\n",
    "mean = x_train['cgpa'].mean()\n",
    "std = x_train['cgpa'].std()\n",
    "\n",
    "new_xtrain = (x_train['cgpa'] - mean) / std"
   ]
  },
  {
   "cell_type": "code",
   "execution_count": 66,
   "id": "24f58025-2fc7-472e-9398-656e0f96937f",
   "metadata": {},
   "outputs": [
    {
     "data": {
      "text/plain": [
       "996    3.552555\n",
       "Name: cgpa, dtype: float64"
      ]
     },
     "execution_count": 66,
     "metadata": {},
     "output_type": "execute_result"
    }
   ],
   "source": [
    "new_xtrain[new_xtrain > 3]"
   ]
  },
  {
   "cell_type": "code",
   "execution_count": 62,
   "id": "7c40b707-fd86-48c7-8862-36293da1fb4a",
   "metadata": {},
   "outputs": [],
   "source": [
    "mean = x_train['cgpa'].mean()\n",
    "std = x_train['cgpa'].std()\n",
    "\n",
    "new_xtest = (x_test['cgpa'] - mean) / std"
   ]
  },
  {
   "cell_type": "code",
   "execution_count": 67,
   "id": "04bb848b-b941-4b0c-955f-1a9ea5e71034",
   "metadata": {},
   "outputs": [
    {
     "data": {
      "text/plain": [
       "995    3.142761\n",
       "Name: cgpa, dtype: float64"
      ]
     },
     "execution_count": 67,
     "metadata": {},
     "output_type": "execute_result"
    }
   ],
   "source": [
    "new_xtest[new_xtest > 3]"
   ]
  },
  {
   "cell_type": "markdown",
   "id": "1c8defc4-8456-4628-ad6e-79512a8c3101",
   "metadata": {},
   "source": [
    "when working with this, apply training's mean and std to find the outliers in test -- the correct way to find"
   ]
  },
  {
   "cell_type": "code",
   "execution_count": 69,
   "id": "c8e55fa7-84a5-48f2-a4e5-d02dab771746",
   "metadata": {},
   "outputs": [],
   "source": [
    "# finding outliers using a new col\n",
    "\n",
    "df['cgpa_zscore'] = (df['cgpa'] - df['cgpa'].mean()) / df['cgpa'].std()"
   ]
  },
  {
   "cell_type": "code",
   "execution_count": 75,
   "id": "7f426978-1d60-479d-ae4e-b256b90fa0db",
   "metadata": {},
   "outputs": [
    {
     "data": {
      "text/html": [
       "<div>\n",
       "<style scoped>\n",
       "    .dataframe tbody tr th:only-of-type {\n",
       "        vertical-align: middle;\n",
       "    }\n",
       "\n",
       "    .dataframe tbody tr th {\n",
       "        vertical-align: top;\n",
       "    }\n",
       "\n",
       "    .dataframe thead th {\n",
       "        text-align: right;\n",
       "    }\n",
       "</style>\n",
       "<table border=\"1\" class=\"dataframe\">\n",
       "  <thead>\n",
       "    <tr style=\"text-align: right;\">\n",
       "      <th></th>\n",
       "      <th>cgpa</th>\n",
       "      <th>placement_exam_marks</th>\n",
       "      <th>placed</th>\n",
       "      <th>cgpa_zscore</th>\n",
       "    </tr>\n",
       "  </thead>\n",
       "  <tbody>\n",
       "    <tr>\n",
       "      <th>485</th>\n",
       "      <td>4.92</td>\n",
       "      <td>44.0</td>\n",
       "      <td>1</td>\n",
       "      <td>-3.314251</td>\n",
       "    </tr>\n",
       "    <tr>\n",
       "      <th>997</th>\n",
       "      <td>4.89</td>\n",
       "      <td>34.0</td>\n",
       "      <td>0</td>\n",
       "      <td>-3.362960</td>\n",
       "    </tr>\n",
       "    <tr>\n",
       "      <th>999</th>\n",
       "      <td>4.90</td>\n",
       "      <td>10.0</td>\n",
       "      <td>1</td>\n",
       "      <td>-3.346724</td>\n",
       "    </tr>\n",
       "  </tbody>\n",
       "</table>\n",
       "</div>"
      ],
      "text/plain": [
       "     cgpa  placement_exam_marks  placed  cgpa_zscore\n",
       "485  4.92                  44.0       1    -3.314251\n",
       "997  4.89                  34.0       0    -3.362960\n",
       "999  4.90                  10.0       1    -3.346724"
      ]
     },
     "execution_count": 75,
     "metadata": {},
     "output_type": "execute_result"
    }
   ],
   "source": [
    "df [df['cgpa_zscore'] < -3]"
   ]
  },
  {
   "cell_type": "markdown",
   "id": "1a6f9f96-d59e-4de0-a8c1-0c0b61265eab",
   "metadata": {},
   "source": [
    "# Trimming "
   ]
  },
  {
   "cell_type": "code",
   "execution_count": 173,
   "id": "0fe4dded-273b-41b3-a072-27b0f8e49d9b",
   "metadata": {},
   "outputs": [],
   "source": [
    "x = df.iloc[:, 0:-1]\n",
    "y = df.iloc[:, -1]\n",
    "\n",
    "x_train, x_test, y_train, y_test = train_test_split(x, y, test_size=0.15, random_state=42)"
   ]
  },
  {
   "cell_type": "code",
   "execution_count": 175,
   "id": "d00d9d5c-e3bb-49f1-9d3f-5945293549fd",
   "metadata": {},
   "outputs": [],
   "source": [
    "# finding outliers\n",
    "\n",
    "maxi = (x_train['cgpa'].mean()) + (3*(x_train['cgpa'].std()))\n",
    "mini = (x_train['cgpa'].mean()) - (3*(x_train['cgpa'].std()))\n",
    "\n",
    "\n",
    "mask1 = x_train['cgpa'] < maxi\n",
    "mask2 = x_train['cgpa'] > mini\n",
    "\n",
    "clean_xtrain = x_train[(mask1) & (mask2)]"
   ]
  },
  {
   "cell_type": "code",
   "execution_count": 176,
   "id": "023311a9-ec92-4504-aac3-dd7a7fa4e18c",
   "metadata": {},
   "outputs": [],
   "source": [
    "clean_ytrain = y_train[(x_train['cgpa'] < maxi) & (x_train['cgpa'] > mini)]"
   ]
  },
  {
   "cell_type": "code",
   "execution_count": 177,
   "id": "6390b085-7879-4ed8-a196-209b7731ac5a",
   "metadata": {},
   "outputs": [
    {
     "data": {
      "text/html": [
       "<div>\n",
       "<style scoped>\n",
       "    .dataframe tbody tr th:only-of-type {\n",
       "        vertical-align: middle;\n",
       "    }\n",
       "\n",
       "    .dataframe tbody tr th {\n",
       "        vertical-align: top;\n",
       "    }\n",
       "\n",
       "    .dataframe thead th {\n",
       "        text-align: right;\n",
       "    }\n",
       "</style>\n",
       "<table border=\"1\" class=\"dataframe\">\n",
       "  <thead>\n",
       "    <tr style=\"text-align: right;\">\n",
       "      <th></th>\n",
       "      <th>cgpa</th>\n",
       "      <th>placement_exam_marks</th>\n",
       "    </tr>\n",
       "  </thead>\n",
       "  <tbody>\n",
       "    <tr>\n",
       "      <th>643</th>\n",
       "      <td>7.59</td>\n",
       "      <td>28.0</td>\n",
       "    </tr>\n",
       "    <tr>\n",
       "      <th>158</th>\n",
       "      <td>5.74</td>\n",
       "      <td>50.0</td>\n",
       "    </tr>\n",
       "    <tr>\n",
       "      <th>977</th>\n",
       "      <td>7.18</td>\n",
       "      <td>49.0</td>\n",
       "    </tr>\n",
       "    <tr>\n",
       "      <th>429</th>\n",
       "      <td>7.35</td>\n",
       "      <td>55.0</td>\n",
       "    </tr>\n",
       "    <tr>\n",
       "      <th>941</th>\n",
       "      <td>7.18</td>\n",
       "      <td>8.0</td>\n",
       "    </tr>\n",
       "    <tr>\n",
       "      <th>...</th>\n",
       "      <td>...</td>\n",
       "      <td>...</td>\n",
       "    </tr>\n",
       "    <tr>\n",
       "      <th>106</th>\n",
       "      <td>6.59</td>\n",
       "      <td>22.0</td>\n",
       "    </tr>\n",
       "    <tr>\n",
       "      <th>270</th>\n",
       "      <td>6.80</td>\n",
       "      <td>16.0</td>\n",
       "    </tr>\n",
       "    <tr>\n",
       "      <th>860</th>\n",
       "      <td>7.51</td>\n",
       "      <td>21.0</td>\n",
       "    </tr>\n",
       "    <tr>\n",
       "      <th>435</th>\n",
       "      <td>7.45</td>\n",
       "      <td>37.0</td>\n",
       "    </tr>\n",
       "    <tr>\n",
       "      <th>102</th>\n",
       "      <td>5.92</td>\n",
       "      <td>22.0</td>\n",
       "    </tr>\n",
       "  </tbody>\n",
       "</table>\n",
       "<p>846 rows × 2 columns</p>\n",
       "</div>"
      ],
      "text/plain": [
       "     cgpa  placement_exam_marks\n",
       "643  7.59                  28.0\n",
       "158  5.74                  50.0\n",
       "977  7.18                  49.0\n",
       "429  7.35                  55.0\n",
       "941  7.18                   8.0\n",
       "..    ...                   ...\n",
       "106  6.59                  22.0\n",
       "270  6.80                  16.0\n",
       "860  7.51                  21.0\n",
       "435  7.45                  37.0\n",
       "102  5.92                  22.0\n",
       "\n",
       "[846 rows x 2 columns]"
      ]
     },
     "execution_count": 177,
     "metadata": {},
     "output_type": "execute_result"
    }
   ],
   "source": [
    "clean_xtrain"
   ]
  },
  {
   "cell_type": "code",
   "execution_count": null,
   "id": "df23ef5c-8119-414f-a057-a450811d0127",
   "metadata": {},
   "outputs": [],
   "source": []
  },
  {
   "cell_type": "code",
   "execution_count": null,
   "id": "f2fa0c4b-38e6-4b76-ae0e-ff6531587a13",
   "metadata": {},
   "outputs": [],
   "source": []
  },
  {
   "cell_type": "code",
   "execution_count": 178,
   "id": "045d2ce8-c7f1-43bc-8e5f-66efe957fdd1",
   "metadata": {},
   "outputs": [],
   "source": [
    "mask1 = x_test['cgpa'] < maxi\n",
    "mask2 = x_test['cgpa'] > mini\n",
    "\n",
    "clean_xtest = x_test[(mask1) & (mask2)]"
   ]
  },
  {
   "cell_type": "code",
   "execution_count": 179,
   "id": "12b97394-5aaa-436f-b598-08a8352cf4ec",
   "metadata": {},
   "outputs": [],
   "source": [
    "clean_ytest = y_test[(mask1) & (mask2)]"
   ]
  },
  {
   "cell_type": "code",
   "execution_count": 180,
   "id": "9ae2d5e2-d5c4-48eb-b397-f291036fe8a4",
   "metadata": {},
   "outputs": [
    {
     "data": {
      "text/plain": [
       "521    1\n",
       "737    1\n",
       "740    1\n",
       "660    1\n",
       "411    0\n",
       "      ..\n",
       "914    0\n",
       "810    1\n",
       "244    0\n",
       "822    1\n",
       "321    0\n",
       "Name: placed, Length: 149, dtype: int64"
      ]
     },
     "execution_count": 180,
     "metadata": {},
     "output_type": "execute_result"
    }
   ],
   "source": [
    "clean_ytest"
   ]
  },
  {
   "cell_type": "code",
   "execution_count": 181,
   "id": "9d909d22-0f58-4d0d-994d-ddf4d379d81a",
   "metadata": {},
   "outputs": [],
   "source": [
    "tnf = ColumnTransformer([\n",
    "    ('tnf1', StandardScaler(), ['cgpa', 'placement_exam_marks'])\n",
    "])"
   ]
  },
  {
   "cell_type": "code",
   "execution_count": 182,
   "id": "51ebf725-6edc-4b2d-830e-4d0d78cbe576",
   "metadata": {},
   "outputs": [],
   "source": [
    "trfd_xtrain = tnf.fit_transform(clean_xtrain)\n",
    "trfd_xtest = tnf.transform(clean_xtest)"
   ]
  },
  {
   "cell_type": "code",
   "execution_count": 183,
   "id": "8aa62e28-67d7-4cb9-aaff-1382c1253637",
   "metadata": {},
   "outputs": [
    {
     "name": "stdout",
     "output_type": "stream",
     "text": [
      "0.5369127516778524\n",
      "0.5436241610738255\n"
     ]
    }
   ],
   "source": [
    "# predicting the vals\n",
    "\n",
    "clf = LogisticRegression()\n",
    "clf2 = DecisionTreeClassifier()\n",
    "\n",
    "clf.fit(trfd_xtrain, clean_ytrain)\n",
    "clf2.fit(trfd_xtrain, clean_ytrain)\n",
    "\n",
    "pred = clf.predict(trfd_xtest)\n",
    "pred2 = clf2.predict(trfd_xtest)\n",
    "\n",
    "print(accuracy_score(pred, clean_ytest))\n",
    "print(accuracy_score(pred2, clean_ytest))"
   ]
  },
  {
   "cell_type": "markdown",
   "id": "fb4acc16-6814-4ba1-9f83-c869205b3e3a",
   "metadata": {},
   "source": [
    "# Capping"
   ]
  },
  {
   "cell_type": "code",
   "execution_count": 216,
   "id": "bf49622b-141e-4b6c-bf02-33a7d4a62156",
   "metadata": {},
   "outputs": [],
   "source": [
    "x = df.iloc[:, 0:-1]\n",
    "y = df.iloc[:, -1]\n",
    "\n",
    "x_train, x_test, y_train, y_test = train_test_split(x, y, test_size=0.15, random_state=42)"
   ]
  },
  {
   "cell_type": "code",
   "execution_count": 217,
   "id": "233da376-44c0-4e27-a1c8-ed60b2bb2d86",
   "metadata": {},
   "outputs": [],
   "source": [
    "# finding outliers\n",
    "\n",
    "maxi = (x_train['cgpa'].mean()) + (3 * (x_train['cgpa'].std()))\n",
    "mini = (x_train['cgpa'].mean()) - (3 * (x_train['cgpa'].std()))\n",
    "\n",
    "x_train1 = x_train[((x_train['cgpa']) > maxi) | ((x_train['cgpa']) < mini)]"
   ]
  },
  {
   "cell_type": "code",
   "execution_count": 223,
   "id": "7d525bcb-a52d-4af2-8c17-333b9450dde2",
   "metadata": {},
   "outputs": [],
   "source": [
    "x_train[(x_train['cgpa']) > maxi] = maxi"
   ]
  },
  {
   "cell_type": "code",
   "execution_count": 225,
   "id": "9da70d68-829b-48fb-bccf-48092c490205",
   "metadata": {},
   "outputs": [],
   "source": [
    "x_train[(x_train['cgpa']) < mini] = mini"
   ]
  },
  {
   "cell_type": "code",
   "execution_count": 219,
   "id": "84cdf2af-cf91-4abb-bb9f-b30b2fda7e88",
   "metadata": {},
   "outputs": [],
   "source": [
    "x_test1 = x_test[((x_test['cgpa']) > maxi) | ((x_test['cgpa']) < mini)]"
   ]
  },
  {
   "cell_type": "code",
   "execution_count": 227,
   "id": "d7f4dc0d-6b36-41d6-b3ab-82d343dcc02c",
   "metadata": {},
   "outputs": [],
   "source": [
    "x_test[(x_test['cgpa']) > maxi] = maxi"
   ]
  },
  {
   "cell_type": "code",
   "execution_count": 229,
   "id": "b0970ce3-4dde-4b19-84f0-02de22f9415b",
   "metadata": {},
   "outputs": [],
   "source": [
    "x_test[(x_test['cgpa']) < mini] = mini"
   ]
  },
  {
   "cell_type": "code",
   "execution_count": 231,
   "id": "d873410c-fc14-4581-bd33-c47009aea457",
   "metadata": {},
   "outputs": [],
   "source": [
    "tnf = ColumnTransformer([\n",
    "    ('trf1', StandardScaler(), ['cgpa', 'placement_exam_marks'])\n",
    "], remainder='passthrough')"
   ]
  },
  {
   "cell_type": "code",
   "execution_count": 232,
   "id": "ddfbc5e0-2733-4bde-90ef-67eddd141bf8",
   "metadata": {},
   "outputs": [],
   "source": [
    "trfd_xtrain = tnf.fit_transform(x_train)\n",
    "trfd_xtest = tnf.transform(x_test)"
   ]
  },
  {
   "cell_type": "code",
   "execution_count": 234,
   "id": "d184318d-9396-4742-92ea-892bccf2ba7a",
   "metadata": {},
   "outputs": [
    {
     "name": "stdout",
     "output_type": "stream",
     "text": [
      "0.54\n",
      "0.54\n"
     ]
    }
   ],
   "source": [
    "# predicting the vals\n",
    "\n",
    "clf = LogisticRegression()\n",
    "clf2 = DecisionTreeClassifier()\n",
    "\n",
    "clf.fit(trfd_xtrain, y_train)\n",
    "clf2.fit(trfd_xtrain, y_train)\n",
    "\n",
    "pred = clf.predict(trfd_xtest)\n",
    "pred2 = clf2.predict(trfd_xtest)\n",
    "\n",
    "print(accuracy_score(pred, y_test))\n",
    "print(accuracy_score(pred2, y_test))"
   ]
  },
  {
   "cell_type": "code",
   "execution_count": null,
   "id": "dafcaa19-7564-4a14-892f-75724fe0dc46",
   "metadata": {},
   "outputs": [],
   "source": []
  }
 ],
 "metadata": {
  "kernelspec": {
   "display_name": "Python 3 (ipykernel)",
   "language": "python",
   "name": "python3"
  },
  "language_info": {
   "codemirror_mode": {
    "name": "ipython",
    "version": 3
   },
   "file_extension": ".py",
   "mimetype": "text/x-python",
   "name": "python",
   "nbconvert_exporter": "python",
   "pygments_lexer": "ipython3",
   "version": "3.13.2"
  }
 },
 "nbformat": 4,
 "nbformat_minor": 5
}
