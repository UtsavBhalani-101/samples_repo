{
 "cells": [
  {
   "cell_type": "code",
   "execution_count": 1,
   "id": "a3192028-a7ec-4942-b6ab-c975dd2dfa0a",
   "metadata": {},
   "outputs": [],
   "source": [
    "import numpy as np\n",
    "import pandas as pd"
   ]
  },
  {
   "cell_type": "code",
   "execution_count": 12,
   "id": "5c5596a3-47b3-4b6b-b6ef-fd96d21f5f7a",
   "metadata": {},
   "outputs": [],
   "source": [
    "from sklearn.model_selection import train_test_split\n",
    "from sklearn.impute import SimpleImputer\n",
    "from sklearn.preprocessing import OneHotEncoder\n",
    "from sklearn.preprocessing import OrdinalEncoder"
   ]
  },
  {
   "cell_type": "code",
   "execution_count": 13,
   "id": "2d488df2-d0a9-4b29-9266-fa3f33d71d6a",
   "metadata": {},
   "outputs": [
    {
     "data": {
      "text/html": [
       "<div>\n",
       "<style scoped>\n",
       "    .dataframe tbody tr th:only-of-type {\n",
       "        vertical-align: middle;\n",
       "    }\n",
       "\n",
       "    .dataframe tbody tr th {\n",
       "        vertical-align: top;\n",
       "    }\n",
       "\n",
       "    .dataframe thead th {\n",
       "        text-align: right;\n",
       "    }\n",
       "</style>\n",
       "<table border=\"1\" class=\"dataframe\">\n",
       "  <thead>\n",
       "    <tr style=\"text-align: right;\">\n",
       "      <th></th>\n",
       "      <th>age</th>\n",
       "      <th>gender</th>\n",
       "      <th>fever</th>\n",
       "      <th>cough</th>\n",
       "      <th>city</th>\n",
       "      <th>has_covid</th>\n",
       "    </tr>\n",
       "  </thead>\n",
       "  <tbody>\n",
       "    <tr>\n",
       "      <th>0</th>\n",
       "      <td>60</td>\n",
       "      <td>Male</td>\n",
       "      <td>103.0</td>\n",
       "      <td>Mild</td>\n",
       "      <td>Kolkata</td>\n",
       "      <td>No</td>\n",
       "    </tr>\n",
       "    <tr>\n",
       "      <th>1</th>\n",
       "      <td>27</td>\n",
       "      <td>Male</td>\n",
       "      <td>100.0</td>\n",
       "      <td>Mild</td>\n",
       "      <td>Delhi</td>\n",
       "      <td>Yes</td>\n",
       "    </tr>\n",
       "    <tr>\n",
       "      <th>2</th>\n",
       "      <td>42</td>\n",
       "      <td>Male</td>\n",
       "      <td>101.0</td>\n",
       "      <td>Mild</td>\n",
       "      <td>Delhi</td>\n",
       "      <td>No</td>\n",
       "    </tr>\n",
       "    <tr>\n",
       "      <th>3</th>\n",
       "      <td>31</td>\n",
       "      <td>Female</td>\n",
       "      <td>98.0</td>\n",
       "      <td>Mild</td>\n",
       "      <td>Kolkata</td>\n",
       "      <td>No</td>\n",
       "    </tr>\n",
       "    <tr>\n",
       "      <th>4</th>\n",
       "      <td>65</td>\n",
       "      <td>Female</td>\n",
       "      <td>101.0</td>\n",
       "      <td>Mild</td>\n",
       "      <td>Mumbai</td>\n",
       "      <td>No</td>\n",
       "    </tr>\n",
       "  </tbody>\n",
       "</table>\n",
       "</div>"
      ],
      "text/plain": [
       "   age  gender  fever cough     city has_covid\n",
       "0   60    Male  103.0  Mild  Kolkata        No\n",
       "1   27    Male  100.0  Mild    Delhi       Yes\n",
       "2   42    Male  101.0  Mild    Delhi        No\n",
       "3   31  Female   98.0  Mild  Kolkata        No\n",
       "4   65  Female  101.0  Mild   Mumbai        No"
      ]
     },
     "execution_count": 13,
     "metadata": {},
     "output_type": "execute_result"
    }
   ],
   "source": [
    "df = pd.read_csv('covid_toy.csv')\n",
    "df.head()"
   ]
  },
  {
   "cell_type": "code",
   "execution_count": 21,
   "id": "54dc64a3-b48f-4157-b715-c53967e99465",
   "metadata": {},
   "outputs": [
    {
     "data": {
      "text/plain": [
       "82     98.0\n",
       "4     101.0\n",
       "31    103.0\n",
       "41      NaN\n",
       "75    102.0\n",
       "Name: fever, dtype: float64"
      ]
     },
     "execution_count": 21,
     "metadata": {},
     "output_type": "execute_result"
    }
   ],
   "source": [
    "df['fever'].sample(5)"
   ]
  },
  {
   "cell_type": "code",
   "execution_count": 39,
   "id": "f8ed324d-c8b0-4170-858e-0832c18433b8",
   "metadata": {},
   "outputs": [
    {
     "data": {
      "text/plain": [
       "city\n",
       "Kolkata      32\n",
       "Bangalore    30\n",
       "Delhi        22\n",
       "Mumbai       16\n",
       "Name: count, dtype: int64"
      ]
     },
     "execution_count": 39,
     "metadata": {},
     "output_type": "execute_result"
    }
   ],
   "source": [
    "df['city'].value_counts()"
   ]
  },
  {
   "cell_type": "markdown",
   "id": "ea2fa633-281b-431d-8a0e-bd8502bfb46e",
   "metadata": {},
   "source": [
    "## TTS"
   ]
  },
  {
   "cell_type": "code",
   "execution_count": 14,
   "id": "b84364cd-ec7d-4639-adc9-98326ef9917d",
   "metadata": {},
   "outputs": [],
   "source": [
    "x = df.drop(columns='has_covid', axis=1)\n",
    "y = df['has_covid']"
   ]
  },
  {
   "cell_type": "code",
   "execution_count": 15,
   "id": "f8d02448-2917-4eab-8b88-d8c551a87ab3",
   "metadata": {},
   "outputs": [],
   "source": [
    "x_train, x_test, y_train, y_test = train_test_split(x,y,test_size=0.2)"
   ]
  },
  {
   "cell_type": "code",
   "execution_count": 16,
   "id": "cb5423ac-ec0f-4ddc-be68-ab8f99c40d27",
   "metadata": {},
   "outputs": [
    {
     "data": {
      "text/plain": [
       "(80, 5)"
      ]
     },
     "execution_count": 16,
     "metadata": {},
     "output_type": "execute_result"
    }
   ],
   "source": []
  },
  {
   "cell_type": "markdown",
   "id": "e943e281-8e5f-4dd9-b59a-8d4a5377e105",
   "metadata": {},
   "source": [
    "# Normal"
   ]
  },
  {
   "cell_type": "code",
   "execution_count": 23,
   "id": "ef2a2537-3328-48b7-8422-fb7320939c29",
   "metadata": {},
   "outputs": [],
   "source": [
    "# filling the missing vals in fever\n",
    "si = SimpleImputer(strategy='mean', missing_values=np.nan)\n",
    "x_train_fever = si.fit_transform(x_train[['fever']])\n",
    "x_test_fever = si.transform(x_test[['fever']])"
   ]
  },
  {
   "cell_type": "code",
   "execution_count": 25,
   "id": "d3553553-bbad-45e9-9078-cf45904f98b5",
   "metadata": {},
   "outputs": [
    {
     "data": {
      "text/plain": [
       "(80, 1)"
      ]
     },
     "execution_count": 25,
     "metadata": {},
     "output_type": "execute_result"
    }
   ],
   "source": [
    "x_train_fever.shape"
   ]
  },
  {
   "cell_type": "code",
   "execution_count": 26,
   "id": "7234dcf3-67c6-46dd-b259-3c849f69f892",
   "metadata": {},
   "outputs": [],
   "source": [
    "# applying ordinal on cough\n",
    "oe = OrdinalEncoder(categories=[['Mild', 'Strong']])\n",
    "x_train_cough = oe.fit_transform(x_train[['cough']])\n",
    "x_test_cough = oe.transform(x_test[['cough']])"
   ]
  },
  {
   "cell_type": "code",
   "execution_count": 46,
   "id": "09b08d1b-2e69-4314-a998-babd03430c58",
   "metadata": {},
   "outputs": [
    {
     "data": {
      "text/plain": [
       "(80, 1)"
      ]
     },
     "execution_count": 46,
     "metadata": {},
     "output_type": "execute_result"
    }
   ],
   "source": [
    "x_train_cough.shape"
   ]
  },
  {
   "cell_type": "code",
   "execution_count": 40,
   "id": "7ebbdebe-7fcd-4cc1-a60f-bf6d2f8e2da6",
   "metadata": {},
   "outputs": [],
   "source": [
    "# gender and city - ode \n",
    "ode = OneHotEncoder(sparse_output=False, drop='first')\n",
    "x_train_gender_city = ode.fit_transform(x_train[['gender', 'city']])\n",
    "x_test_gender_city = ode.transform(x_test[['gender', 'city']])"
   ]
  },
  {
   "cell_type": "code",
   "execution_count": 41,
   "id": "7213f788-33cb-4249-ba40-2cae8aee9e40",
   "metadata": {},
   "outputs": [
    {
     "data": {
      "text/plain": [
       "(80, 4)"
      ]
     },
     "execution_count": 41,
     "metadata": {},
     "output_type": "execute_result"
    }
   ],
   "source": [
    "x_train_gender_city.shape"
   ]
  },
  {
   "cell_type": "code",
   "execution_count": 58,
   "id": "cb695346-48df-45ab-97ac-4ad67a339d7e",
   "metadata": {},
   "outputs": [],
   "source": [
    "# storing age\n",
    "\n",
    "# x_train_age = x_train['age']\n",
    "# x_test_age = x_test['age']\n",
    "\n",
    "x_train_age = x_train.drop(columns=['gender', 'city', 'fever', 'cough']).values\n",
    "x_test_age = x_test.drop(columns=['gender', 'city', 'fever', 'cough']).values"
   ]
  },
  {
   "cell_type": "code",
   "execution_count": 59,
   "id": "087eaedc-fb07-474d-acb7-019fbe4c6c20",
   "metadata": {},
   "outputs": [
    {
     "data": {
      "text/plain": [
       "(80, 1)"
      ]
     },
     "execution_count": 59,
     "metadata": {},
     "output_type": "execute_result"
    }
   ],
   "source": [
    "x_train_age.shape   # it is 1D if it is (80, )"
   ]
  },
  {
   "cell_type": "code",
   "execution_count": 77,
   "id": "d0636375-3607-424d-86ef-069bfdb66620",
   "metadata": {},
   "outputs": [],
   "source": [
    "# combining all\n",
    "x_train_combined = np.concatenate((x_train_age, x_train_cough, x_train_fever, x_train_gender_city), axis=1)\n",
    "x_test_combined = np.concatenate((x_test_age, x_test_cough, x_test_fever, x_test_gender_city), axis=1)"
   ]
  },
  {
   "cell_type": "code",
   "execution_count": 78,
   "id": "951d66a1-5626-4486-a500-a0c60c3c611a",
   "metadata": {},
   "outputs": [
    {
     "data": {
      "text/plain": [
       "(80, 7)"
      ]
     },
     "execution_count": 78,
     "metadata": {},
     "output_type": "execute_result"
    }
   ],
   "source": [
    "x_train_combined.shape"
   ]
  },
  {
   "cell_type": "code",
   "execution_count": 82,
   "id": "0d5d1d82-45a9-45ee-8641-647eac2cfbbe",
   "metadata": {},
   "outputs": [
    {
     "data": {
      "text/plain": [
       "array([[ 65.        ,   0.        ,  99.        ,   1.        ,\n",
       "          0.        ,   0.        ,   0.        ],\n",
       "       [ 13.        ,   1.        , 100.        ,   0.        ,\n",
       "          0.        ,   1.        ,   0.        ],\n",
       "       [ 51.        ,   0.        , 104.        ,   1.        ,\n",
       "          0.        ,   1.        ,   0.        ],\n",
       "       [ 34.        ,   1.        ,  98.        ,   1.        ,\n",
       "          0.        ,   1.        ,   0.        ],\n",
       "       [ 69.        ,   1.        ,  98.        ,   0.        ,\n",
       "          0.        ,   0.        ,   1.        ],\n",
       "       [ 47.        ,   1.        , 100.        ,   0.        ,\n",
       "          0.        ,   0.        ,   0.        ],\n",
       "       [ 20.        ,   1.        , 102.        ,   1.        ,\n",
       "          1.        ,   0.        ,   0.        ],\n",
       "       [ 42.        ,   0.        , 101.        ,   1.        ,\n",
       "          1.        ,   0.        ,   0.        ],\n",
       "       [ 27.        ,   0.        , 100.        ,   1.        ,\n",
       "          1.        ,   0.        ,   0.        ],\n",
       "       [  5.        ,   1.        ,  98.        ,   0.        ,\n",
       "          0.        ,   0.        ,   1.        ],\n",
       "       [ 34.        ,   1.        , 104.        ,   0.        ,\n",
       "          1.        ,   0.        ,   0.        ],\n",
       "       [ 66.        ,   1.        ,  99.        ,   1.        ,\n",
       "          0.        ,   0.        ,   0.        ],\n",
       "       [ 51.        ,   0.        , 104.        ,   1.        ,\n",
       "          0.        ,   0.        ,   0.        ],\n",
       "       [ 11.        ,   0.        , 100.        ,   1.        ,\n",
       "          0.        ,   0.        ,   0.        ],\n",
       "       [ 42.        ,   1.        , 100.87323944,   0.        ,\n",
       "          0.        ,   0.        ,   0.        ],\n",
       "       [ 49.        ,   0.        , 101.        ,   0.        ,\n",
       "          1.        ,   0.        ,   0.        ],\n",
       "       [ 64.        ,   0.        , 102.        ,   1.        ,\n",
       "          0.        ,   0.        ,   0.        ],\n",
       "       [ 19.        ,   0.        , 101.        ,   1.        ,\n",
       "          1.        ,   0.        ,   0.        ],\n",
       "       [ 55.        ,   0.        , 100.        ,   1.        ,\n",
       "          0.        ,   1.        ,   0.        ],\n",
       "       [ 70.        ,   1.        , 103.        ,   1.        ,\n",
       "          0.        ,   1.        ,   0.        ]])"
      ]
     },
     "execution_count": 82,
     "metadata": {},
     "output_type": "execute_result"
    }
   ],
   "source": [
    "x_test_combined"
   ]
  },
  {
   "cell_type": "markdown",
   "id": "a11cc17a-3991-4994-a49a-3a3422880385",
   "metadata": {},
   "source": [
    "# With Steroids"
   ]
  },
  {
   "cell_type": "code",
   "execution_count": 68,
   "id": "9e9e785b-3b4d-477f-9652-1f9c2bd9aad4",
   "metadata": {},
   "outputs": [],
   "source": [
    "from sklearn.compose import ColumnTransformer\n",
    "tf = ColumnTransformer(transformers=[\n",
    "    ('tnf1', SimpleImputer(), ['fever']),\n",
    "    ('tnf2', OrdinalEncoder(categories=[['Mild', 'Strong']]), ['cough']),\n",
    "    ('tnf3', OneHotEncoder(sparse_output=False, drop='first'), ['gender', 'city'])\n",
    "], remainder='passthrough')"
   ]
  },
  {
   "cell_type": "code",
   "execution_count": 69,
   "id": "4ebdedfd-19a6-4a1c-8dd8-a46056c78a56",
   "metadata": {},
   "outputs": [],
   "source": [
    "x_train_new = tf.fit_transform(x_train)"
   ]
  },
  {
   "cell_type": "code",
   "execution_count": 75,
   "id": "462694e9-cd07-4d64-bb76-0e88140ff25f",
   "metadata": {},
   "outputs": [
    {
     "data": {
      "text/plain": [
       "(80, 7)"
      ]
     },
     "execution_count": 75,
     "metadata": {},
     "output_type": "execute_result"
    }
   ],
   "source": [
    "x_train_new.shape"
   ]
  },
  {
   "cell_type": "code",
   "execution_count": 73,
   "id": "7259c89f-882e-4900-ac9f-641cdd11d2c8",
   "metadata": {},
   "outputs": [],
   "source": [
    "x_test_new = tf.transform(x_test)"
   ]
  },
  {
   "cell_type": "code",
   "execution_count": 83,
   "id": "5fe9fe9c-8745-4023-9511-09cf0dcefcba",
   "metadata": {},
   "outputs": [
    {
     "data": {
      "text/plain": [
       "(20, 7)"
      ]
     },
     "execution_count": 83,
     "metadata": {},
     "output_type": "execute_result"
    }
   ],
   "source": [
    "x_test_new.shape"
   ]
  },
  {
   "cell_type": "code",
   "execution_count": 81,
   "id": "3516890c-4008-4d43-96ed-499694f3836c",
   "metadata": {},
   "outputs": [
    {
     "data": {
      "text/plain": [
       "array([[ 99.        ,   0.        ,   1.        ,   0.        ,\n",
       "          0.        ,   0.        ,  65.        ],\n",
       "       [100.        ,   1.        ,   0.        ,   0.        ,\n",
       "          1.        ,   0.        ,  13.        ],\n",
       "       [104.        ,   0.        ,   1.        ,   0.        ,\n",
       "          1.        ,   0.        ,  51.        ],\n",
       "       [ 98.        ,   1.        ,   1.        ,   0.        ,\n",
       "          1.        ,   0.        ,  34.        ],\n",
       "       [ 98.        ,   1.        ,   0.        ,   0.        ,\n",
       "          0.        ,   1.        ,  69.        ],\n",
       "       [100.        ,   1.        ,   0.        ,   0.        ,\n",
       "          0.        ,   0.        ,  47.        ],\n",
       "       [102.        ,   1.        ,   1.        ,   1.        ,\n",
       "          0.        ,   0.        ,  20.        ],\n",
       "       [101.        ,   0.        ,   1.        ,   1.        ,\n",
       "          0.        ,   0.        ,  42.        ],\n",
       "       [100.        ,   0.        ,   1.        ,   1.        ,\n",
       "          0.        ,   0.        ,  27.        ],\n",
       "       [ 98.        ,   1.        ,   0.        ,   0.        ,\n",
       "          0.        ,   1.        ,   5.        ],\n",
       "       [104.        ,   1.        ,   0.        ,   1.        ,\n",
       "          0.        ,   0.        ,  34.        ],\n",
       "       [ 99.        ,   1.        ,   1.        ,   0.        ,\n",
       "          0.        ,   0.        ,  66.        ],\n",
       "       [104.        ,   0.        ,   1.        ,   0.        ,\n",
       "          0.        ,   0.        ,  51.        ],\n",
       "       [100.        ,   0.        ,   1.        ,   0.        ,\n",
       "          0.        ,   0.        ,  11.        ],\n",
       "       [100.87323944,   1.        ,   0.        ,   0.        ,\n",
       "          0.        ,   0.        ,  42.        ],\n",
       "       [101.        ,   0.        ,   0.        ,   1.        ,\n",
       "          0.        ,   0.        ,  49.        ],\n",
       "       [102.        ,   0.        ,   1.        ,   0.        ,\n",
       "          0.        ,   0.        ,  64.        ],\n",
       "       [101.        ,   0.        ,   1.        ,   1.        ,\n",
       "          0.        ,   0.        ,  19.        ],\n",
       "       [100.        ,   0.        ,   1.        ,   0.        ,\n",
       "          1.        ,   0.        ,  55.        ],\n",
       "       [103.        ,   1.        ,   1.        ,   0.        ,\n",
       "          1.        ,   0.        ,  70.        ]])"
      ]
     },
     "execution_count": 81,
     "metadata": {},
     "output_type": "execute_result"
    }
   ],
   "source": [
    "x_test_new"
   ]
  },
  {
   "cell_type": "code",
   "execution_count": null,
   "id": "02363625-10c9-4c16-bb99-414a6b99cf7e",
   "metadata": {},
   "outputs": [],
   "source": []
  },
  {
   "cell_type": "code",
   "execution_count": null,
   "id": "e7ceee63-4b30-41be-b100-f77e1dbfa450",
   "metadata": {},
   "outputs": [],
   "source": []
  }
 ],
 "metadata": {
  "kernelspec": {
   "display_name": "Python 3 (ipykernel)",
   "language": "python",
   "name": "python3"
  },
  "language_info": {
   "codemirror_mode": {
    "name": "ipython",
    "version": 3
   },
   "file_extension": ".py",
   "mimetype": "text/x-python",
   "name": "python",
   "nbconvert_exporter": "python",
   "pygments_lexer": "ipython3",
   "version": "3.13.2"
  }
 },
 "nbformat": 4,
 "nbformat_minor": 5
}
