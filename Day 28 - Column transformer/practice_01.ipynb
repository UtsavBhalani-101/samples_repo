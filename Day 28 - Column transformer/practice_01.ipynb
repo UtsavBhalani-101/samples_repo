{
 "cells": [
  {
   "cell_type": "code",
   "execution_count": 9,
   "id": "e31bb4f8-defb-46c8-a759-842ef78c9736",
   "metadata": {},
   "outputs": [],
   "source": [
    "import numpy as np\n",
    "import pandas as pd\n",
    "import seaborn as sns"
   ]
  },
  {
   "cell_type": "code",
   "execution_count": 39,
   "id": "b4366d99-c60c-487c-84f7-a7822d1b4ea8",
   "metadata": {},
   "outputs": [],
   "source": [
    "from sklearn.preprocessing import OrdinalEncoder\n",
    "from sklearn.preprocessing import OneHotEncoder\n",
    "from sklearn.preprocessing import StandardScaler"
   ]
  },
  {
   "cell_type": "code",
   "execution_count": 4,
   "id": "448c34fb-3e1c-4c1f-b1a9-3a5272817ce5",
   "metadata": {},
   "outputs": [
    {
     "data": {
      "text/html": [
       "<div>\n",
       "<style scoped>\n",
       "    .dataframe tbody tr th:only-of-type {\n",
       "        vertical-align: middle;\n",
       "    }\n",
       "\n",
       "    .dataframe tbody tr th {\n",
       "        vertical-align: top;\n",
       "    }\n",
       "\n",
       "    .dataframe thead th {\n",
       "        text-align: right;\n",
       "    }\n",
       "</style>\n",
       "<table border=\"1\" class=\"dataframe\">\n",
       "  <thead>\n",
       "    <tr style=\"text-align: right;\">\n",
       "      <th></th>\n",
       "      <th>ID</th>\n",
       "      <th>Education_Level</th>\n",
       "      <th>Satisfaction_Score</th>\n",
       "      <th>City</th>\n",
       "      <th>Preferred_Product_Type</th>\n",
       "      <th>Age</th>\n",
       "      <th>Income</th>\n",
       "      <th>Months_Subscribed</th>\n",
       "    </tr>\n",
       "  </thead>\n",
       "  <tbody>\n",
       "    <tr>\n",
       "      <th>0</th>\n",
       "      <td>1</td>\n",
       "      <td>Associate's</td>\n",
       "      <td>Very Unsatisfied</td>\n",
       "      <td>Tokyo</td>\n",
       "      <td>Sports</td>\n",
       "      <td>22</td>\n",
       "      <td>60270</td>\n",
       "      <td>32</td>\n",
       "    </tr>\n",
       "    <tr>\n",
       "      <th>1</th>\n",
       "      <td>2</td>\n",
       "      <td>PhD</td>\n",
       "      <td>Satisfied</td>\n",
       "      <td>Paris</td>\n",
       "      <td>Clothing</td>\n",
       "      <td>62</td>\n",
       "      <td>132918</td>\n",
       "      <td>45</td>\n",
       "    </tr>\n",
       "    <tr>\n",
       "      <th>2</th>\n",
       "      <td>3</td>\n",
       "      <td>Bachelor's</td>\n",
       "      <td>Neutral</td>\n",
       "      <td>New York</td>\n",
       "      <td>Clothing</td>\n",
       "      <td>21</td>\n",
       "      <td>107637</td>\n",
       "      <td>47</td>\n",
       "    </tr>\n",
       "    <tr>\n",
       "      <th>3</th>\n",
       "      <td>4</td>\n",
       "      <td>Bachelor's</td>\n",
       "      <td>Neutral</td>\n",
       "      <td>Tokyo</td>\n",
       "      <td>Books</td>\n",
       "      <td>33</td>\n",
       "      <td>76934</td>\n",
       "      <td>21</td>\n",
       "    </tr>\n",
       "    <tr>\n",
       "      <th>4</th>\n",
       "      <td>5</td>\n",
       "      <td>High School</td>\n",
       "      <td>Very Satisfied</td>\n",
       "      <td>Berlin</td>\n",
       "      <td>Clothing</td>\n",
       "      <td>41</td>\n",
       "      <td>89895</td>\n",
       "      <td>16</td>\n",
       "    </tr>\n",
       "    <tr>\n",
       "      <th>...</th>\n",
       "      <td>...</td>\n",
       "      <td>...</td>\n",
       "      <td>...</td>\n",
       "      <td>...</td>\n",
       "      <td>...</td>\n",
       "      <td>...</td>\n",
       "      <td>...</td>\n",
       "      <td>...</td>\n",
       "    </tr>\n",
       "    <tr>\n",
       "      <th>95</th>\n",
       "      <td>96</td>\n",
       "      <td>Bachelor's</td>\n",
       "      <td>Neutral</td>\n",
       "      <td>London</td>\n",
       "      <td>Clothing</td>\n",
       "      <td>29</td>\n",
       "      <td>80771</td>\n",
       "      <td>25</td>\n",
       "    </tr>\n",
       "    <tr>\n",
       "      <th>96</th>\n",
       "      <td>97</td>\n",
       "      <td>Bachelor's</td>\n",
       "      <td>Satisfied</td>\n",
       "      <td>New York</td>\n",
       "      <td>Clothing</td>\n",
       "      <td>58</td>\n",
       "      <td>82799</td>\n",
       "      <td>22</td>\n",
       "    </tr>\n",
       "    <tr>\n",
       "      <th>97</th>\n",
       "      <td>98</td>\n",
       "      <td>Associate's</td>\n",
       "      <td>Very Satisfied</td>\n",
       "      <td>New York</td>\n",
       "      <td>Books</td>\n",
       "      <td>36</td>\n",
       "      <td>38116</td>\n",
       "      <td>59</td>\n",
       "    </tr>\n",
       "    <tr>\n",
       "      <th>98</th>\n",
       "      <td>99</td>\n",
       "      <td>High School</td>\n",
       "      <td>Very Satisfied</td>\n",
       "      <td>New York</td>\n",
       "      <td>Clothing</td>\n",
       "      <td>29</td>\n",
       "      <td>50470</td>\n",
       "      <td>27</td>\n",
       "    </tr>\n",
       "    <tr>\n",
       "      <th>99</th>\n",
       "      <td>100</td>\n",
       "      <td>High School</td>\n",
       "      <td>Satisfied</td>\n",
       "      <td>Paris</td>\n",
       "      <td>Electronics</td>\n",
       "      <td>26</td>\n",
       "      <td>67344</td>\n",
       "      <td>49</td>\n",
       "    </tr>\n",
       "  </tbody>\n",
       "</table>\n",
       "<p>100 rows × 8 columns</p>\n",
       "</div>"
      ],
      "text/plain": [
       "     ID Education_Level Satisfaction_Score      City Preferred_Product_Type  \\\n",
       "0     1     Associate's   Very Unsatisfied     Tokyo                 Sports   \n",
       "1     2             PhD          Satisfied     Paris               Clothing   \n",
       "2     3      Bachelor's            Neutral  New York               Clothing   \n",
       "3     4      Bachelor's            Neutral     Tokyo                  Books   \n",
       "4     5     High School     Very Satisfied    Berlin               Clothing   \n",
       "..  ...             ...                ...       ...                    ...   \n",
       "95   96      Bachelor's            Neutral    London               Clothing   \n",
       "96   97      Bachelor's          Satisfied  New York               Clothing   \n",
       "97   98     Associate's     Very Satisfied  New York                  Books   \n",
       "98   99     High School     Very Satisfied  New York               Clothing   \n",
       "99  100     High School          Satisfied     Paris            Electronics   \n",
       "\n",
       "    Age  Income  Months_Subscribed  \n",
       "0    22   60270                 32  \n",
       "1    62  132918                 45  \n",
       "2    21  107637                 47  \n",
       "3    33   76934                 21  \n",
       "4    41   89895                 16  \n",
       "..  ...     ...                ...  \n",
       "95   29   80771                 25  \n",
       "96   58   82799                 22  \n",
       "97   36   38116                 59  \n",
       "98   29   50470                 27  \n",
       "99   26   67344                 49  \n",
       "\n",
       "[100 rows x 8 columns]"
      ]
     },
     "execution_count": 4,
     "metadata": {},
     "output_type": "execute_result"
    }
   ],
   "source": [
    "import pandas as pd\n",
    "import numpy as np\n",
    "\n",
    "# Set a seed for reproducibility\n",
    "np.random.seed(42)\n",
    "\n",
    "# Number of rows\n",
    "num_rows = 100\n",
    "\n",
    "# --- Ordinal Features ---\n",
    "education_levels = [\"High School\", \"Associate's\", \"Bachelor's\", \"Master's\", \"PhD\"]\n",
    "# Assign probabilities to make it somewhat realistic (more bachelors, fewer PhDs)\n",
    "education_probs = [0.25, 0.20, 0.35, 0.15, 0.05]\n",
    "education_data = np.random.choice(education_levels, num_rows, p=education_probs)\n",
    "\n",
    "satisfaction_scores = [\"Very Unsatisfied\", \"Unsatisfied\", \"Neutral\", \"Satisfied\", \"Very Satisfied\"]\n",
    "satisfaction_probs = [0.1, 0.15, 0.3, 0.3, 0.15] # Skewed towards neutral/satisfied\n",
    "satisfaction_data = np.random.choice(satisfaction_scores, num_rows, p=satisfaction_probs)\n",
    "\n",
    "# --- Nominal Features ---\n",
    "cities = [\"New York\", \"London\", \"Paris\", \"Tokyo\", \"Sydney\", \"Berlin\"]\n",
    "city_data = np.random.choice(cities, num_rows)\n",
    "\n",
    "product_types = [\"Electronics\", \"Clothing\", \"Books\", \"Home Goods\", \"Sports\"]\n",
    "product_type_data = np.random.choice(product_types, num_rows)\n",
    "\n",
    "# --- Numeric Features (for scaling) ---\n",
    "age_data = np.random.randint(18, 71, size=num_rows) # Ages between 18 and 70\n",
    "\n",
    "# Income - let's make it somewhat correlated with education for more realism (optional, simple random here)\n",
    "income_data = np.random.randint(25000, 150001, size=num_rows)\n",
    "# Add a bit more for higher education (very simplified correlation)\n",
    "for i in range(num_rows):\n",
    "    if education_data[i] == \"Master's\":\n",
    "        income_data[i] = np.random.randint(70000, 200001)\n",
    "    elif education_data[i] == \"PhD\":\n",
    "        income_data[i] = np.random.randint(90000, 250001)\n",
    "\n",
    "months_subscribed_data = np.random.randint(1, 61, size=num_rows) # Subscribed between 1 and 60 months\n",
    "\n",
    "# --- Create DataFrame ---\n",
    "data = {\n",
    "    'ID': range(1, num_rows + 1),\n",
    "    'Education_Level': education_data,\n",
    "    'Satisfaction_Score': satisfaction_data,\n",
    "    'City': city_data,\n",
    "    'Preferred_Product_Type': product_type_data,\n",
    "    'Age': age_data,\n",
    "    'Income': income_data,\n",
    "    'Months_Subscribed': months_subscribed_data\n",
    "}\n",
    "\n",
    "df = pd.DataFrame(data)\n",
    "df"
   ]
  },
  {
   "cell_type": "code",
   "execution_count": 5,
   "id": "9058858a-e229-4f3d-ac0b-e36921a4d8f8",
   "metadata": {},
   "outputs": [
    {
     "name": "stdout",
     "output_type": "stream",
     "text": [
      "<class 'pandas.core.frame.DataFrame'>\n",
      "RangeIndex: 100 entries, 0 to 99\n",
      "Data columns (total 8 columns):\n",
      " #   Column                  Non-Null Count  Dtype \n",
      "---  ------                  --------------  ----- \n",
      " 0   ID                      100 non-null    int64 \n",
      " 1   Education_Level         100 non-null    object\n",
      " 2   Satisfaction_Score      100 non-null    object\n",
      " 3   City                    100 non-null    object\n",
      " 4   Preferred_Product_Type  100 non-null    object\n",
      " 5   Age                     100 non-null    int32 \n",
      " 6   Income                  100 non-null    int32 \n",
      " 7   Months_Subscribed       100 non-null    int32 \n",
      "dtypes: int32(3), int64(1), object(4)\n",
      "memory usage: 5.2+ KB\n"
     ]
    }
   ],
   "source": [
    "df.info()"
   ]
  },
  {
   "cell_type": "code",
   "execution_count": 6,
   "id": "23f03dca-3961-44c6-bbc2-cb65c00d41d4",
   "metadata": {},
   "outputs": [
    {
     "data": {
      "text/html": [
       "<div>\n",
       "<style scoped>\n",
       "    .dataframe tbody tr th:only-of-type {\n",
       "        vertical-align: middle;\n",
       "    }\n",
       "\n",
       "    .dataframe tbody tr th {\n",
       "        vertical-align: top;\n",
       "    }\n",
       "\n",
       "    .dataframe thead th {\n",
       "        text-align: right;\n",
       "    }\n",
       "</style>\n",
       "<table border=\"1\" class=\"dataframe\">\n",
       "  <thead>\n",
       "    <tr style=\"text-align: right;\">\n",
       "      <th></th>\n",
       "      <th>ID</th>\n",
       "      <th>Age</th>\n",
       "      <th>Income</th>\n",
       "      <th>Months_Subscribed</th>\n",
       "    </tr>\n",
       "  </thead>\n",
       "  <tbody>\n",
       "    <tr>\n",
       "      <th>count</th>\n",
       "      <td>100.000000</td>\n",
       "      <td>100.000000</td>\n",
       "      <td>100.000000</td>\n",
       "      <td>100.000000</td>\n",
       "    </tr>\n",
       "    <tr>\n",
       "      <th>mean</th>\n",
       "      <td>50.500000</td>\n",
       "      <td>45.050000</td>\n",
       "      <td>92119.090000</td>\n",
       "      <td>31.520000</td>\n",
       "    </tr>\n",
       "    <tr>\n",
       "      <th>std</th>\n",
       "      <td>29.011492</td>\n",
       "      <td>14.569496</td>\n",
       "      <td>43442.462644</td>\n",
       "      <td>17.509293</td>\n",
       "    </tr>\n",
       "    <tr>\n",
       "      <th>min</th>\n",
       "      <td>1.000000</td>\n",
       "      <td>18.000000</td>\n",
       "      <td>26062.000000</td>\n",
       "      <td>1.000000</td>\n",
       "    </tr>\n",
       "    <tr>\n",
       "      <th>25%</th>\n",
       "      <td>25.750000</td>\n",
       "      <td>33.000000</td>\n",
       "      <td>51829.500000</td>\n",
       "      <td>16.750000</td>\n",
       "    </tr>\n",
       "    <tr>\n",
       "      <th>50%</th>\n",
       "      <td>50.500000</td>\n",
       "      <td>45.500000</td>\n",
       "      <td>92831.500000</td>\n",
       "      <td>29.500000</td>\n",
       "    </tr>\n",
       "    <tr>\n",
       "      <th>75%</th>\n",
       "      <td>75.250000</td>\n",
       "      <td>56.250000</td>\n",
       "      <td>122208.250000</td>\n",
       "      <td>48.250000</td>\n",
       "    </tr>\n",
       "    <tr>\n",
       "      <th>max</th>\n",
       "      <td>100.000000</td>\n",
       "      <td>70.000000</td>\n",
       "      <td>204821.000000</td>\n",
       "      <td>60.000000</td>\n",
       "    </tr>\n",
       "  </tbody>\n",
       "</table>\n",
       "</div>"
      ],
      "text/plain": [
       "               ID         Age         Income  Months_Subscribed\n",
       "count  100.000000  100.000000     100.000000         100.000000\n",
       "mean    50.500000   45.050000   92119.090000          31.520000\n",
       "std     29.011492   14.569496   43442.462644          17.509293\n",
       "min      1.000000   18.000000   26062.000000           1.000000\n",
       "25%     25.750000   33.000000   51829.500000          16.750000\n",
       "50%     50.500000   45.500000   92831.500000          29.500000\n",
       "75%     75.250000   56.250000  122208.250000          48.250000\n",
       "max    100.000000   70.000000  204821.000000          60.000000"
      ]
     },
     "execution_count": 6,
     "metadata": {},
     "output_type": "execute_result"
    }
   ],
   "source": [
    "df.describe()"
   ]
  },
  {
   "cell_type": "code",
   "execution_count": 8,
   "id": "8553c61b-babb-43e8-840f-d275e16a5741",
   "metadata": {},
   "outputs": [
    {
     "data": {
      "text/plain": [
       "Satisfaction_Score\n",
       "Neutral             30\n",
       "Satisfied           25\n",
       "Very Satisfied      18\n",
       "Unsatisfied         18\n",
       "Very Unsatisfied     9\n",
       "Name: count, dtype: int64"
      ]
     },
     "execution_count": 8,
     "metadata": {},
     "output_type": "execute_result"
    }
   ],
   "source": [
    "df['Satisfaction_Score'].value_counts()"
   ]
  },
  {
   "cell_type": "code",
   "execution_count": 11,
   "id": "f3001f72-86eb-4737-a65a-bcd7afd33449",
   "metadata": {},
   "outputs": [
    {
     "data": {
      "text/plain": [
       "<Axes: xlabel='Income', ylabel='Months_Subscribed'>"
      ]
     },
     "execution_count": 11,
     "metadata": {},
     "output_type": "execute_result"
    },
    {
     "data": {
      "image/png": "[encoded data removed]",
      "text/plain": [
       "<Figure size 640x480 with 1 Axes>"
      ]
     },
     "metadata": {},
     "output_type": "display_data"
    }
   ],
   "source": [
    "sns.scatterplot(data=df, x='Income', y='Months_Subscribed')"
   ]
  },
  {
   "cell_type": "markdown",
   "id": "93cd9dda-6387-48c4-9d98-3f406d44a37a",
   "metadata": {},
   "source": [
    "# Feature Engineering"
   ]
  },
  {
   "cell_type": "code",
   "execution_count": 28,
   "id": "3f0890dd-fd8c-4542-82d1-fcb757e0ed25",
   "metadata": {},
   "outputs": [
    {
     "data": {
      "text/plain": [
       "Satisfaction_Score\n",
       "Neutral             30\n",
       "Satisfied           25\n",
       "Very Satisfied      18\n",
       "Unsatisfied         18\n",
       "Very Unsatisfied     9\n",
       "Name: count, dtype: int64"
      ]
     },
     "execution_count": 28,
     "metadata": {},
     "output_type": "execute_result"
    }
   ],
   "source": [
    "df['Satisfaction_Score'].value_counts()"
   ]
  },
  {
   "cell_type": "code",
   "execution_count": 34,
   "id": "4b5f397e-23d0-4e16-aca4-b501981aab86",
   "metadata": {},
   "outputs": [],
   "source": [
    "# train test split\n",
    "from sklearn.model_selection import train_test_split\n",
    "x = df.drop(columns='Months_Subscribed')\n",
    "y = df['Months_Subscribed']\n",
    "\n",
    "x_train, x_test, y_train, y_test = train_test_split(x, y, test_size=0.2)"
   ]
  },
  {
   "cell_type": "code",
   "execution_count": 51,
   "id": "5a767dba-eee4-4d23-8207-3d677b4bd230",
   "metadata": {},
   "outputs": [
    {
     "data": {
      "text/plain": [
       "(80, 7)"
      ]
     },
     "execution_count": 51,
     "metadata": {},
     "output_type": "execute_result"
    }
   ],
   "source": [
    "x_train.shape"
   ]
  },
  {
   "cell_type": "code",
   "execution_count": 46,
   "id": "54064d0b-0b68-459b-9514-abb266c13e44",
   "metadata": {
    "jp-MarkdownHeadingCollapsed": true
   },
   "outputs": [],
   "source": [
    "# transforming columns\n",
    "from sklearn.compose import ColumnTransformer\n",
    "tf = ColumnTransformer(transformers=[\n",
    "    ('tnf1', StandardScaler(), ['Age','Income']),\n",
    "    ('tnf2', OrdinalEncoder(categories=[['Very Unsatisfied', 'Unsatisfied', 'Neutral', 'Satisfied', 'Very Satisfied'], [\"High School\", \"Bachelor's\", \"Associate's\", \"Master's\", \"PhD\"]]), ['Satisfaction_Score', 'Education_Level']),\n",
    "    ('tnf3', OneHotEncoder(drop='first', sparse_output=False), ['City', 'Preferred_Product_Type'])\n",
    "], remainder='passthrough')"
   ]
  },
  {
   "cell_type": "code",
   "execution_count": 47,
   "id": "6317de41-3ecc-4874-b1de-92f1136e7f94",
   "metadata": {},
   "outputs": [],
   "source": [
    "x_transformed = tf.fit_transform(x_train)"
   ]
  },
  {
   "cell_type": "code",
   "execution_count": 50,
   "id": "cfc0804b-95aa-4dbb-9d51-fb5f1e079603",
   "metadata": {},
   "outputs": [
    {
     "data": {
      "text/plain": [
       "array([[ 1.42651252,  1.50660319,  3.        , ...,  0.        ,\n",
       "         0.        , 94.        ],\n",
       "       [ 0.87084118, -0.43994866,  0.        , ...,  0.        ,\n",
       "         0.        , 49.        ],\n",
       "       [-1.07400851,  0.99353155,  1.        , ...,  0.        ,\n",
       "         0.        , 80.        ],\n",
       "       ...,\n",
       "       [-0.65725501, -1.28723771,  4.        , ...,  0.        ,\n",
       "         0.        , 98.        ],\n",
       "       [ 0.176252  , -0.65746724,  1.        , ...,  0.        ,\n",
       "         1.        , 33.        ],\n",
       "       [ 0.59300551, -0.74628942,  3.        , ...,  0.        ,\n",
       "         1.        , 77.        ]], shape=(80, 14))"
      ]
     },
     "execution_count": 50,
     "metadata": {},
     "output_type": "execute_result"
    }
   ],
   "source": [
    "x_transformed"
   ]
  },
  {
   "cell_type": "code",
   "execution_count": 53,
   "id": "bea17734-f8a3-4fc6-810f-572e06714cad",
   "metadata": {},
   "outputs": [
    {
     "data": {
      "text/plain": [
       "Preferred_Product_Type\n",
       "Clothing       27\n",
       "Sports         24\n",
       "Home Goods     23\n",
       "Electronics    16\n",
       "Books          10\n",
       "Name: count, dtype: int64"
      ]
     },
     "execution_count": 53,
     "metadata": {},
     "output_type": "execute_result"
    }
   ],
   "source": [
    "df['Preferred_Product_Type'].value_counts()"
   ]
  },
  {
   "cell_type": "code",
   "execution_count": null,
   "id": "f8c8027f-a3c2-4a5e-97b0-568f3b6ca5b3",
   "metadata": {},
   "outputs": [],
   "source": []
  }
 ],
 "metadata": {
  "kernelspec": {
   "display_name": "Python 3 (ipykernel)",
   "language": "python",
   "name": "python3"
  },
  "language_info": {
   "codemirror_mode": {
    "name": "ipython",
    "version": 3
   },
   "file_extension": ".py",
   "mimetype": "text/x-python",
   "name": "python",
   "nbconvert_exporter": "python",
   "pygments_lexer": "ipython3",
   "version": "3.13.2"
  }
 },
 "nbformat": 4,
 "nbformat_minor": 5
}
